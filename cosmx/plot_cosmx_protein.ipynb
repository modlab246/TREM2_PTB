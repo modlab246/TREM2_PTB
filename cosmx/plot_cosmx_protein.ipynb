{
 "cells": [
  {
   "cell_type": "code",
   "execution_count": 1,
   "id": "d04728a4-97b7-4fcf-ae80-94d2adee6d60",
   "metadata": {},
   "outputs": [],
   "source": [
    "from IPython.core.events import EventManager\n",
    "from IPython import get_ipython\n",
    "import time\n",
    "\n",
    "global_start_time = None\n",
    "\n",
    "def start_timer(event):\n",
    "    global global_start_time\n",
    "    global_start_time = time.time()\n",
    "\n",
    "def stop_timer(event):\n",
    "    global global_start_time\n",
    "    if global_start_time:\n",
    "        duration = time.time() - global_start_time\n",
    "        print(f\"Cell execution time: {duration:.3f} seconds\")\n",
    "        global_start_time = None\n",
    "\n",
    "ip = get_ipython()\n",
    "ip.events.register('pre_run_cell', start_timer)\n",
    "ip.events.register('post_run_cell', stop_timer)"
   ]
  },
  {
   "cell_type": "code",
   "execution_count": 2,
   "id": "954671e3-cf20-456a-8abf-2ff2ee0727e5",
   "metadata": {},
   "outputs": [
    {
     "name": "stdout",
     "output_type": "stream",
     "text": [
      "Cell execution time: 0.397 seconds\n"
     ]
    }
   ],
   "source": [
    "import numpy as np\n",
    "import pandas as pd\n",
    "import matplotlib.pyplot as plt \n",
    "\n",
    "import os, tifffile, cv2, zarr\n",
    "\n",
    "from glob import glob"
   ]
  },
  {
   "cell_type": "code",
   "execution_count": 3,
   "id": "648cd03d-de75-4296-8fbb-f259f9bd0ba7",
   "metadata": {},
   "outputs": [
    {
     "name": "stdout",
     "output_type": "stream",
     "text": [
      "Cell execution time: 0.000 seconds\n"
     ]
    }
   ],
   "source": [
    "# proteins code mapping \n",
    "cprot_dict = {\"cd3\" : \"CPROT00013\",\n",
    "              \"cd68\" : \"CPROT00006\",\n",
    "              \"cd163\" : \"CPROT00052\",\n",
    "              \"cd19\" : \"CPROT00470\",\n",
    "              \"vim\" : \"CPROT00168\"}"
   ]
  },
  {
   "cell_type": "code",
   "execution_count": 4,
   "id": "598f308a-314b-4846-be44-9006537a4f92",
   "metadata": {},
   "outputs": [
    {
     "name": "stdout",
     "output_type": "stream",
     "text": [
      "Cell execution time: 0.000 seconds\n"
     ]
    }
   ],
   "source": [
    "# simple 8x4 fov set \n",
    "fovs = list(range(63, 71)) + list(range(42, 50)) + \\\n",
    "       list(range(22, 30)) + list(range(2, 10))\n",
    "\n",
    "# 4x5 + 3x2 fov set \n",
    "# fovs = [249,250,251,252,\n",
    "#         266,267,268,269,\n",
    "#         283,284,285,286,\n",
    "#         299,300,301,302,\n",
    "#         312,313,314,315,\n",
    "#         325,326,327,335,336,337]\n",
    "\n",
    "# set of fovs not well aligned and disconnected \n",
    "# fovs = list(range(358,382))"
   ]
  },
  {
   "cell_type": "code",
   "execution_count": 5,
   "id": "c272e8bf-ea42-4537-a576-7dfd83374596",
   "metadata": {},
   "outputs": [
    {
     "name": "stdout",
     "output_type": "stream",
     "text": [
      "Cell execution time: 0.000 seconds\n"
     ]
    }
   ],
   "source": [
    "# channels and path to channels  \n",
    "channels   = [\"cd3\", \"cd19\", \"cd163\", \"cd68\", \"vim\"]   \n",
    "CH_DIR_OUT = {c: f\"/Users/jonathanperrie/Documents/UCLA/projects/cosmx/protein/data/ptb211_zenodo/{c}\" for c in channels}            \n",
    "\n",
    "# tiffs are 4256 x 4256\n",
    "FOV_SIZE   = 4256  \n",
    "# downsample scale \n",
    "SCALE      = 0.25                         \n",
    "\n",
    "# file name pattern \n",
    "PATTERN = \"20240120_024046_S3_C001_F{fov:03d}\""
   ]
  },
  {
   "cell_type": "code",
   "execution_count": 6,
   "id": "9808a736-10c7-41da-8399-7f107b9b058e",
   "metadata": {},
   "outputs": [
    {
     "name": "stdout",
     "output_type": "stream",
     "text": [
      "Cell execution time: 0.003 seconds\n"
     ]
    }
   ],
   "source": [
    "# fov coords \n",
    "# FOV,x_global_px,y_global_px,x_global_mm,y_global_mm\n",
    "df   = pd.read_csv(\"data/PTB211protein_fov_positions_file.csv\")    \n",
    "df = df.loc[[True if x in fovs else False for x in df.FOV.values]] \n",
    "coords = {int(r.FOV): (int(r.x_global_px), int(r.y_global_px))\n",
    "          for r in df.itertuples()}\n",
    "\n",
    "fovs = list(coords.keys())             "
   ]
  },
  {
   "cell_type": "code",
   "execution_count": 7,
   "id": "dd73b07e-ea64-4893-98c0-985da742bd96",
   "metadata": {},
   "outputs": [
    {
     "name": "stdout",
     "output_type": "stream",
     "text": [
      "Cell execution time: 0.000 seconds\n"
     ]
    }
   ],
   "source": [
    "# calculate the shape of the zarr matrix\n",
    "min_x  = min(x for x, _ in coords.values())\n",
    "min_y  = min(y for _, y in coords.values())\n",
    "max_x  = max(x for x, _ in coords.values()) + FOV_SIZE\n",
    "max_y  = max(y for _, y in coords.values()) + FOV_SIZE\n",
    "\n",
    "mosaic_w = int(np.ceil((max_x - min_x) * SCALE))\n",
    "mosaic_h = int(np.ceil((max_y - min_y) * SCALE))\n",
    "\n",
    "OUT_SHAPE  = (len(channels),      \n",
    "              mosaic_h,\n",
    "              mosaic_w)   "
   ]
  },
  {
   "cell_type": "code",
   "execution_count": 8,
   "id": "d3bc89e2-94ab-4303-b0e6-e1ee7b6df6f6",
   "metadata": {},
   "outputs": [
    {
     "name": "stdout",
     "output_type": "stream",
     "text": [
      "Cell execution time: 0.005 seconds\n"
     ]
    }
   ],
   "source": [
    "# create empty zarr matrix \n",
    "store = zarr.DirectoryStore(\"mosaic.zarr\")\n",
    "root  = zarr.group(store=store, overwrite=True)\n",
    "mosaic = root.create_dataset(\"mosaic\",\n",
    "                             shape=OUT_SHAPE,\n",
    "                             chunks=(len(channels), 1024, 1024),\n",
    "                             dtype=\"uint16\")"
   ]
  },
  {
   "cell_type": "code",
   "execution_count": 9,
   "id": "9dc44742-5bf5-40d7-bfa7-0c7f43c7d307",
   "metadata": {},
   "outputs": [
    {
     "name": "stdout",
     "output_type": "stream",
     "text": [
      "Cell execution time: 0.000 seconds\n"
     ]
    }
   ],
   "source": [
    "def get_coords(fov):\n",
    "    \"\"\"\n",
    "    For a given fov, return coords (flip y)\n",
    "    \"\"\"\n",
    "    SIDE_PX = int(FOV_SIZE * SCALE)\n",
    "    x_native, y_native = coords[fov]\n",
    "    \n",
    "    # offset from the global origin, then downsample\n",
    "    x_off = int(round((x_native - min_x) * SCALE))\n",
    "    y_off = int(round((y_native - min_y) * SCALE))\n",
    "    return (\n",
    "        slice(mosaic_h - y_off - SIDE_PX, mosaic_h - y_off),\n",
    "        slice(x_off, x_off + SIDE_PX),\n",
    "    )"
   ]
  },
  {
   "cell_type": "code",
   "execution_count": 10,
   "id": "461ff316-eb83-4fa5-95dc-74312977b295",
   "metadata": {},
   "outputs": [
    {
     "name": "stdout",
     "output_type": "stream",
     "text": [
      "Cell execution time: 0.000 seconds\n"
     ]
    }
   ],
   "source": [
    "def read_channel(fov, chan):\n",
    "    \"\"\"Load tiff and return downsample\"\"\"\n",
    "    # file path of tiff \n",
    "    fp = os.path.join(CH_DIR_OUT[chan], PATTERN.format(fov=fov) +\"_\" + cprot_dict[chan] + \".TIF\")\n",
    "    \n",
    "    if not os.path.exists(fp):\n",
    "        raise FileNotFoundError(fp)\n",
    "        \n",
    "    img = tifffile.imread(fp)         \n",
    "    side = int(FOV_SIZE * SCALE)\n",
    "    \n",
    "    return cv2.resize(img, (side, side),\n",
    "                      interpolation=cv2.INTER_NEAREST)"
   ]
  },
  {
   "cell_type": "code",
   "execution_count": 11,
   "id": "13146e19-ff0d-43ea-90b4-5f6a0c33bd59",
   "metadata": {},
   "outputs": [
    {
     "name": "stdout",
     "output_type": "stream",
     "text": [
      "Cell execution time: 14.697 seconds\n"
     ]
    }
   ],
   "source": [
    "for fov in fovs:\n",
    "    ysl, xsl = get_coords(fov)\n",
    "    for cidx, chan in enumerate(channels):\n",
    "        mosaic[cidx, ysl, xsl] = read_channel(fov, chan)\n",
    "    # sanity check \n",
    "    # print(f\"[Placed] FOV {fov} at Y{ysl.start}:{ysl.stop}, X{xsl.start}:{xsl.stop}\")\n"
   ]
  },
  {
   "cell_type": "code",
   "execution_count": 12,
   "id": "27601e2e-c4e1-409f-8b0c-d834a135cee3",
   "metadata": {},
   "outputs": [
    {
     "name": "stdout",
     "output_type": "stream",
     "text": [
      "Cell execution time: 0.126 seconds\n"
     ]
    }
   ],
   "source": [
    "selected_mat = np.array(mosaic[:,:,:])"
   ]
  },
  {
   "cell_type": "code",
   "execution_count": 13,
   "id": "25990607-8d95-4e16-968b-56a474f6905d",
   "metadata": {},
   "outputs": [
    {
     "name": "stdout",
     "output_type": "stream",
     "text": [
      "Cell execution time: 0.000 seconds\n"
     ]
    }
   ],
   "source": [
    "cd3_floor,    cd3_ceil    = 20, 800\n",
    "cd19_floor,   cd19_ceil   = 20, 1500\n",
    "cd163_floor,  cd163_ceil  = 20, 2000\n",
    "cd68_floor,   cd68_ceil   = 20, 1500\n",
    "vim_floor,    vim_ceil    = 100, 5000\n",
    " \n",
    "floor_values = [cd3_floor, cd19_floor, cd163_floor, cd68_floor, vim_floor]\n",
    "ceil_values  = [cd3_ceil,  cd19_ceil,  cd163_ceil,  cd68_ceil,  vim_ceil ]\n",
    "\n",
    "# map proteins to rgb \n",
    "# cd3 to yellow \n",
    "# cd19 to green \n",
    "# cd163 to red \n",
    "# cd68 to blue\n",
    "# vimentin to grey\n",
    "channel_colors = [\n",
    "    (1.0, 1.0, 0.0),  \n",
    "    (0.0, 1.0, 0.0),  \n",
    "    (1.0, 0.0, 0.0),  \n",
    "    (0.0, 0.0, 1.0),  \n",
    "    (0.5, 0.5, 0.5)   \n",
    "]"
   ]
  },
  {
   "cell_type": "code",
   "execution_count": 14,
   "id": "b4879462-fead-4243-8775-c7f2c9dfe04a",
   "metadata": {},
   "outputs": [
    {
     "name": "stdout",
     "output_type": "stream",
     "text": [
      "Cell execution time: 0.235 seconds\n"
     ]
    }
   ],
   "source": [
    "# rescale to floor/ceil and then normalize by diff to 0-1 space\n",
    "scaled_channels = []\n",
    "for i in range(selected_mat.shape[0]):\n",
    "    chan = selected_mat[i, :, :].astype(np.float32)\n",
    "\n",
    "    # clip\n",
    "    chan_clipped = np.clip(chan, floor_values[i], ceil_values[i])\n",
    "\n",
    "    # rescale \n",
    "    chan_scaled = (chan_clipped - floor_values[i]) / (ceil_values[i] - floor_values[i])\n",
    "    \n",
    "    scaled_channels.append(chan_scaled)\n",
    "\n",
    "scaled_channels = np.array(scaled_channels)  "
   ]
  },
  {
   "cell_type": "code",
   "execution_count": 15,
   "id": "867de359-082a-4700-9d1f-aa40094929e5",
   "metadata": {},
   "outputs": [
    {
     "name": "stdout",
     "output_type": "stream",
     "text": [
      "Cell execution time: 0.402 seconds\n"
     ]
    }
   ],
   "source": [
    "height, width = scaled_channels.shape[1], scaled_channels.shape[2]\n",
    "rgb_image = np.zeros((height, width, 3), dtype=np.float32)\n",
    "\n",
    "# build composite \n",
    "for i in range(len(channels)):\n",
    "    ccolor = channel_colors[i]    # rgb vec e.g. (1,1,0)\n",
    "    cscaled = scaled_channels[i]  # normalized channel (width x height)\n",
    "\n",
    "    # add composites \n",
    "    rgb_image[..., 0] += cscaled * ccolor[0]\n",
    "    rgb_image[..., 1] += cscaled * ccolor[1]\n",
    "    rgb_image[..., 2] += cscaled * ccolor[2]\n",
    "\n",
    "# avoid saturation above 1 \n",
    "rgb_image = np.clip(rgb_image, 0.0, 1.0)"
   ]
  },
  {
   "cell_type": "code",
   "execution_count": 16,
   "id": "34054dd4-2b26-45fe-ae26-52ed51e39134",
   "metadata": {},
   "outputs": [
    {
     "name": "stdout",
     "output_type": "stream",
     "text": [
      "Cell execution time: 0.073 seconds\n"
     ]
    }
   ],
   "source": [
    "rgb_image_8bit = (rgb_image * 255).astype(np.uint8)\n",
    "tifffile.imwrite(\"plots/cosmx_sample_plots/composite_image1.tif\", np.flip(rgb_image_8bit, axis=0))"
   ]
  },
  {
   "cell_type": "code",
   "execution_count": null,
   "id": "f68676e7-7ec3-46aa-b7d0-e00714160d4b",
   "metadata": {},
   "outputs": [],
   "source": []
  }
 ],
 "metadata": {
  "kernelspec": {
   "display_name": "general",
   "language": "python",
   "name": "general"
  },
  "language_info": {
   "codemirror_mode": {
    "name": "ipython",
    "version": 3
   },
   "file_extension": ".py",
   "mimetype": "text/x-python",
   "name": "python",
   "nbconvert_exporter": "python",
   "pygments_lexer": "ipython3",
   "version": "3.12.2"
  }
 },
 "nbformat": 4,
 "nbformat_minor": 5
}
