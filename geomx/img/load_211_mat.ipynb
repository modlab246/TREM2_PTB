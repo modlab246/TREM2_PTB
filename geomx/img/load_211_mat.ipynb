{
 "cells": [
  {
   "cell_type": "code",
   "execution_count": 1,
   "id": "d3c8ac20-888d-43b5-a912-d8712ae71589",
   "metadata": {},
   "outputs": [],
   "source": [
    "from IPython.core.events import EventManager\n",
    "from IPython import get_ipython\n",
    "import time\n",
    "\n",
    "global_start_time = None\n",
    "\n",
    "def start_timer(event):\n",
    "    global global_start_time\n",
    "    global_start_time = time.time()\n",
    "\n",
    "def stop_timer(event):\n",
    "    global global_start_time\n",
    "    if global_start_time:\n",
    "        duration = time.time() - global_start_time\n",
    "        print(f\"Cell execution time: {duration:.3f} seconds\")\n",
    "        global_start_time = None\n",
    "\n",
    "ip = get_ipython()\n",
    "ip.events.register('pre_run_cell', start_timer)\n",
    "ip.events.register('post_run_cell', stop_timer)"
   ]
  },
  {
   "cell_type": "code",
   "execution_count": 2,
   "id": "982a6ce0-91c7-4bfc-abfb-a87a4d0229cb",
   "metadata": {},
   "outputs": [
    {
     "name": "stdout",
     "output_type": "stream",
     "text": [
      "Cell execution time: 1.221 seconds\n"
     ]
    }
   ],
   "source": [
    "from skimage import io \n",
    "import pandas as pd \n",
    "import matplotlib.pyplot as plt\n",
    "import gc\n",
    "import numpy as np\n",
    "from glob import glob \n",
    "import cv2\n",
    "import matplotlib.colors as mcolors\n",
    "from scipy.sparse import lil_matrix"
   ]
  },
  {
   "cell_type": "code",
   "execution_count": 3,
   "id": "d4b7532e-edb8-43b9-9179-2fd2d3a02259",
   "metadata": {},
   "outputs": [
    {
     "name": "stdout",
     "output_type": "stream",
     "text": [
      "Cell execution time: 0.000 seconds\n"
     ]
    }
   ],
   "source": [
    "red_denom = 2**13\n",
    "blue_denom = 2**14\n",
    "green_denom = 2**12\n",
    "yellow_denom = 2**13\n",
    "\n",
    "blue_adjust = 1.2\n",
    "yellow_adjust = 1.1 \n",
    "red_adjust = 1.8\n",
    "green_adjust = 1.8\n",
    "\n",
    "gamma = 1.4"
   ]
  },
  {
   "cell_type": "code",
   "execution_count": 4,
   "id": "c095950f-da91-42c6-b4f1-cce7fb13da47",
   "metadata": {},
   "outputs": [
    {
     "data": {
      "text/plain": [
       "266"
      ]
     },
     "execution_count": 4,
     "metadata": {},
     "output_type": "execute_result"
    },
    {
     "name": "stdout",
     "output_type": "stream",
     "text": [
      "Cell execution time: 163.472 seconds\n"
     ]
    }
   ],
   "source": [
    "red_mat = io.imread(\"../channel/PTB21.1_Red.tiff\")\n",
    "rawR = np.clip(red_mat /     red_denom,    0, 1)\n",
    "imgR_norm = np.power(rawR, gamma) * red_adjust\n",
    "imgR_final = np.clip(imgR_norm,                0, 1)\n",
    "del red_mat\n",
    "del rawR\n",
    "del imgR_norm\n",
    "gc.collect()"
   ]
  },
  {
   "cell_type": "code",
   "execution_count": 5,
   "id": "e01330e0-744a-4053-a551-6f590cecece7",
   "metadata": {},
   "outputs": [
    {
     "name": "stdout",
     "output_type": "stream",
     "text": [
      "Cell execution time: 49.326 seconds\n"
     ]
    }
   ],
   "source": [
    "yellow_mat = io.imread(\"../channel/PTB21.1_Blue.tiff\")\n",
    "rawY = np.clip(yellow_mat / yellow_denom,    0, 1)\n",
    "del yellow_mat"
   ]
  },
  {
   "cell_type": "code",
   "execution_count": 6,
   "id": "4f983336-b968-47e7-aab3-06a275bbab03",
   "metadata": {},
   "outputs": [
    {
     "data": {
      "text/plain": [
       "266"
      ]
     },
     "execution_count": 6,
     "metadata": {},
     "output_type": "execute_result"
    },
    {
     "name": "stdout",
     "output_type": "stream",
     "text": [
      "Cell execution time: 56.570 seconds\n"
     ]
    }
   ],
   "source": [
    "imgY_norm = np.power(rawY, gamma) * yellow_adjust\n",
    "del rawY\n",
    "gc.collect()"
   ]
  },
  {
   "cell_type": "code",
   "execution_count": 7,
   "id": "dcede211-bb20-40f8-98b1-d254dcf349ad",
   "metadata": {},
   "outputs": [
    {
     "name": "stdout",
     "output_type": "stream",
     "text": [
      "Cell execution time: 21.045 seconds\n"
     ]
    }
   ],
   "source": [
    "green_mat = io.imread(\"../channel/PTB21.1_Yellow.tiff\") "
   ]
  },
  {
   "cell_type": "code",
   "execution_count": 8,
   "id": "97bb1214-59b3-4b2c-a78f-b98c49572788",
   "metadata": {},
   "outputs": [
    {
     "data": {
      "text/plain": [
       "266"
      ]
     },
     "execution_count": 8,
     "metadata": {},
     "output_type": "execute_result"
    },
    {
     "name": "stdout",
     "output_type": "stream",
     "text": [
      "Cell execution time: 108.699 seconds\n"
     ]
    }
   ],
   "source": [
    "rawG = np.clip(green_mat /   green_denom,    0, 1)\n",
    "imgG_norm = np.power(rawG, gamma) * green_adjust\n",
    "\n",
    "del green_mat\n",
    "del rawG\n",
    "gc.collect()"
   ]
  },
  {
   "cell_type": "code",
   "execution_count": 9,
   "id": "b6431009-df6f-4056-943e-02ba8d36c150",
   "metadata": {},
   "outputs": [
    {
     "data": {
      "text/plain": [
       "0"
      ]
     },
     "execution_count": 9,
     "metadata": {},
     "output_type": "execute_result"
    },
    {
     "name": "stdout",
     "output_type": "stream",
     "text": [
      "Cell execution time: 96.681 seconds\n"
     ]
    }
   ],
   "source": [
    "imgG_final = np.clip(imgG_norm + imgY_norm,    0, 1)\n",
    "del imgG_norm\n",
    "gc.collect()"
   ]
  },
  {
   "cell_type": "code",
   "execution_count": 10,
   "id": "1bdfd70a-d642-4fba-bd89-486841645ba7",
   "metadata": {},
   "outputs": [
    {
     "name": "stdout",
     "output_type": "stream",
     "text": [
      "Cell execution time: 18.295 seconds\n"
     ]
    }
   ],
   "source": [
    "blue_mat = io.imread(\"../channel/PTB21.1_Green.tiff\")"
   ]
  },
  {
   "cell_type": "code",
   "execution_count": 11,
   "id": "5ec74061-237c-4f2f-9aab-a9c51a6f6cb8",
   "metadata": {},
   "outputs": [
    {
     "data": {
      "text/plain": [
       "266"
      ]
     },
     "execution_count": 11,
     "metadata": {},
     "output_type": "execute_result"
    },
    {
     "name": "stdout",
     "output_type": "stream",
     "text": [
      "Cell execution time: 120.978 seconds\n"
     ]
    }
   ],
   "source": [
    "rawB = np.clip(blue_mat /    blue_denom,    0, 1)\n",
    "imgB_norm = np.power(rawB, gamma) * blue_adjust\n",
    "del blue_mat\n",
    "del rawB\n",
    "gc.collect()"
   ]
  },
  {
   "cell_type": "code",
   "execution_count": 12,
   "id": "d3a1d305-0899-4e47-b315-5285ca783685",
   "metadata": {},
   "outputs": [
    {
     "data": {
      "text/plain": [
       "0"
      ]
     },
     "execution_count": 12,
     "metadata": {},
     "output_type": "execute_result"
    },
    {
     "name": "stdout",
     "output_type": "stream",
     "text": [
      "Cell execution time: 120.030 seconds\n"
     ]
    }
   ],
   "source": [
    "imgB_final = np.clip(imgB_norm + imgY_norm,    0, 1)\n",
    "del imgB_norm\n",
    "del imgY_norm\n",
    "gc.collect()"
   ]
  },
  {
   "cell_type": "code",
   "execution_count": 13,
   "id": "df7d1100-2880-4553-b3d7-c1597c7909b6",
   "metadata": {},
   "outputs": [
    {
     "name": "stdout",
     "output_type": "stream",
     "text": [
      "Cell execution time: 310.880 seconds\n"
     ]
    }
   ],
   "source": [
    "# full composite scan, requires lot of memory \n",
    "img = np.stack((imgR_final,imgG_final, imgB_final), -1)"
   ]
  },
  {
   "cell_type": "code",
   "execution_count": 14,
   "id": "1be16f74-c7d1-4256-87ff-d6cc6b1912bf",
   "metadata": {},
   "outputs": [
    {
     "name": "stdout",
     "output_type": "stream",
     "text": [
      "Cell execution time: 3.595 seconds\n"
     ]
    }
   ],
   "source": [
    "del imgR_final\n",
    "del imgG_final\n",
    "del imgB_final"
   ]
  },
  {
   "cell_type": "code",
   "execution_count": 15,
   "id": "32e921cf-f73f-47ae-9065-c2cb32091f98",
   "metadata": {},
   "outputs": [
    {
     "data": {
      "text/plain": [
       "0"
      ]
     },
     "execution_count": 15,
     "metadata": {},
     "output_type": "execute_result"
    },
    {
     "name": "stdout",
     "output_type": "stream",
     "text": [
      "Cell execution time: 0.179 seconds\n"
     ]
    }
   ],
   "source": [
    "gc.collect()"
   ]
  },
  {
   "cell_type": "code",
   "execution_count": 16,
   "id": "7a1e9bef-f2c4-4887-8986-50d5b3a4bba3",
   "metadata": {},
   "outputs": [
    {
     "name": "stdout",
     "output_type": "stream",
     "text": [
      "Cell execution time: 0.545 seconds\n"
     ]
    }
   ],
   "source": [
    "df = pd.read_excel(\"../data/geomx_211.xlsx\",sheet_name=\"SegmentProperties\")\n",
    "df = df.loc[df[\"SlideName\"]==\"B172914-2\"]\n",
    "df = df[[\"ROILabel\",\"ROICoordinateX\",\"ROICoordinateY\",\"AOISurfaceArea\"]]"
   ]
  },
  {
   "cell_type": "code",
   "execution_count": 17,
   "id": "95fa7c44-7bee-447f-bd23-8f7ccf9e08a4",
   "metadata": {},
   "outputs": [
    {
     "name": "stdout",
     "output_type": "stream",
     "text": [
      "Cell execution time: 0.002 seconds\n"
     ]
    }
   ],
   "source": [
    "bb_fns = glob(\"../bb_mask/PTB211*\")"
   ]
  },
  {
   "cell_type": "code",
   "execution_count": 18,
   "id": "ad247297-e54b-4fb7-bb4b-4d188cba3061",
   "metadata": {},
   "outputs": [
    {
     "name": "stdout",
     "output_type": "stream",
     "text": [
      "Cell execution time: 0.169 seconds\n"
     ]
    }
   ],
   "source": [
    "img_path = \"../bb_annot/PTB211_1.png\"\n",
    "tmp_img=plt.imread(img_path)\n",
    "xw = np.floor(tmp_img.shape[1]/2).astype(int)"
   ]
  },
  {
   "cell_type": "code",
   "execution_count": 19,
   "id": "6a0bb630-bd40-4e5f-a41a-5e1af29798f2",
   "metadata": {},
   "outputs": [
    {
     "name": "stdout",
     "output_type": "stream",
     "text": [
      "Cell execution time: 0.139 seconds\n"
     ]
    }
   ],
   "source": [
    "# big font and bounding box matrix \n",
    "mask = lil_matrix(img.shape[:2], dtype=np.uint8)\n",
    "# small font and bounding box matrix \n",
    "mini_mask = lil_matrix(img.shape[:2], dtype=np.uint8)"
   ]
  },
  {
   "cell_type": "code",
   "execution_count": 20,
   "id": "7914f6c1-cb7f-4013-b5b9-8f2ea8a66047",
   "metadata": {},
   "outputs": [
    {
     "name": "stdout",
     "output_type": "stream",
     "text": [
      "Cell execution time: 0.770 seconds\n"
     ]
    }
   ],
   "source": [
    "# first estimate of text placement around bounding box \n",
    "font_dict = {i:(np.floor(xw/4).astype(int)-151,np.floor(xw/2).astype(int)) for i in df.ROILabel.values}\n",
    "\n",
    "# second estimate of text placement \n",
    "for bbf in bb_fns:\n",
    "    roi=bbf.split(\"_\")[-1].split(\".npy\")[0]\n",
    "    roi=int(roi)\n",
    "    if roi not in df[\"ROILabel\"].values:\n",
    "        continue\n",
    "\n",
    "    # bounding box \n",
    "    bb_mat = np.load(bbf)\n",
    "\n",
    "    # resized bounding box used for estimates in text placement along y-axis \n",
    "    bbr_mat = cv2.resize(bb_mat.astype(float), (xw*2,xw*2), interpolation=cv2.INTER_LANCZOS4)\n",
    "\n",
    "    font_dict[roi] = (font_dict[roi][0],np.where(bbr_mat.sum(1)>0)[0][0]-100)\n",
    "    if roi == 8:\n",
    "        font_dict[roi] = (font_dict[roi][0],np.where(bbr_mat.sum(1)>0)[0][-1]+1000)\n",
    "    if roi == 2:\n",
    "        font_dict[roi] = (font_dict[roi][0]-300,font_dict[roi][1]+100)\n",
    "    if roi == 3:\n",
    "        font_dict[roi] = (font_dict[roi][0]+600,font_dict[roi][1]+100)\n",
    "    if roi == 6:\n",
    "        font_dict[roi] = (1200,np.floor(np.mean(np.where(bbr_mat.sum(0)>0)[0])+600).astype(int))"
   ]
  },
  {
   "cell_type": "code",
   "execution_count": 21,
   "id": "24cceea9-c1f1-46e9-a538-e6e2066c3856",
   "metadata": {},
   "outputs": [
    {
     "name": "stdout",
     "output_type": "stream",
     "text": [
      "Cell execution time: 0.680 seconds\n"
     ]
    }
   ],
   "source": [
    "# smaller version of font dict for mini text placement \n",
    "font_dict_mini = {i:(np.floor(xw/4).astype(int)-151,np.floor(xw/2).astype(int)) for i in df.ROILabel.values}\n",
    "\n",
    "for bbf in bb_fns:\n",
    "    roi=bbf.split(\"_\")[-1].split(\".npy\")[0]\n",
    "    roi=int(roi)\n",
    "    if roi not in df[\"ROILabel\"].values:\n",
    "        continue\n",
    "\n",
    "    # bounding box \n",
    "    bb_mat = np.load(bbf)\n",
    "    bbr_mat = cv2.resize(bb_mat.astype(float), (xw*2,xw*2), interpolation=cv2.INTER_LANCZOS4)\n",
    "    bbr_mat[bbr_mat>0.33] = 2\n",
    "    \n",
    "    font_dict_mini[roi] = (font_dict_mini[roi][0],np.where(bbr_mat.sum(1)>0)[0][0]-100)\n",
    "    if roi == 8:\n",
    "        font_dict_mini[roi] = (font_dict_mini[roi][0],np.where(bbr_mat.sum(1)>0)[0][-1]+200)\n",
    "    if roi == 6:\n",
    "        font_dict_mini[roi] = (750,np.floor(np.mean(np.where(bbr_mat.sum(0)>0)[0])+100).astype(int))"
   ]
  },
  {
   "cell_type": "code",
   "execution_count": 22,
   "id": "8b14396d-6e47-4fa4-803e-21f3dc2b52ab",
   "metadata": {},
   "outputs": [
    {
     "name": "stdout",
     "output_type": "stream",
     "text": [
      "Cell execution time: 13.236 seconds\n"
     ]
    }
   ],
   "source": [
    "# iterate through each file, place the bounding box and text \n",
    "for bbf in bb_fns:\n",
    "    # getting ROI and loading bounding box \n",
    "    roi=bbf.split(\"_\")[-1].split(\".npy\")[0]\n",
    "    roi=int(roi)\n",
    "    if roi not in df[\"ROILabel\"].values:\n",
    "        continue\n",
    "\n",
    "    bb_mat = np.load(bbf)\n",
    "\n",
    "    ry,rx=df.loc[df[\"ROILabel\"]==roi,[\"ROICoordinateX\",\"ROICoordinateY\"]].values[0]\n",
    "    ry=np.int64(ry)\n",
    "    rx=np.int64(rx)\n",
    "\n",
    "    # bounding box has its middle filled in using contours \n",
    "    bbr_mat = cv2.resize(bb_mat.astype(float), (xw*2,xw*2), interpolation=cv2.INTER_LANCZOS4)\n",
    "    \n",
    "    bbr_bin = (bbr_mat > 0).astype(np.uint8)          \n",
    "    contours, _ = cv2.findContours(\n",
    "        bbr_bin, cv2.RETR_EXTERNAL, cv2.CHAIN_APPROX_SIMPLE\n",
    "    )\n",
    "\n",
    "    fill_color = 2                                   \n",
    "    cv2.drawContours(bbr_mat, contours, -1, fill_color, thickness=-1)\n",
    "    \n",
    "    bbr_mat[bbr_mat>0.33] = roi\n",
    "\n",
    "    region_mask = mask[(rx-xw):(rx+xw),(ry-xw):(ry+xw)].toarray()\n",
    "    \n",
    "    # we do not want to lose surrounding annotations from past spots \n",
    "    max_mat = np.maximum(region_mask, bbr_mat)\n",
    "\n",
    "    \n",
    "    # padded space placing text (at current font scale extends beyond xw) \n",
    "    pad = 800\n",
    "    padded_mat = cv2.copyMakeBorder(\n",
    "        max_mat.astype(np.uint8),\n",
    "        pad, pad, pad, pad,\n",
    "        borderType=cv2.BORDER_CONSTANT,\n",
    "        value=0\n",
    "    )\n",
    "\n",
    "    text_mask = np.zeros_like(padded_mat)\n",
    "    font = cv2.FONT_HERSHEY_COMPLEX\n",
    "    font_scale = 24\n",
    "    thickness = 48\n",
    "    position = (xw-font_dict[roi][0]+400, font_dict[roi][1]+500)  \n",
    "    white_color = (1)  \n",
    "    cv2.putText(text_mask, str(roi).zfill(2), position, font, font_scale, white_color, thickness)\n",
    "\n",
    "    \n",
    "    padded_mat[text_mask > 0] = 100 + roi \n",
    "\n",
    "    r0 = rx - xw - pad\n",
    "    r1 = rx + xw + pad\n",
    "    c0 = ry - xw - pad\n",
    "    c1 = ry + xw + pad\n",
    "\n",
    "    sub_mask = mask[r0:r1, c0:c1].copy()\n",
    "    sub_mask = sub_mask.toarray()\n",
    "\n",
    "    # mask has encoding for each spot bounding box (roi int) and text (roi + 100 int) \n",
    "    mask[r0:r1, c0:c1] = np.maximum(sub_mask, padded_mat)\n",
    "\n",
    "    # place smaller font on mini version \n",
    "    region_mask = mini_mask[(rx-xw):(rx+xw),(ry-xw):(ry+xw)].toarray()\n",
    "    max_mat = np.maximum(region_mask, bbr_mat)\n",
    "    text_mask = np.zeros_like(max_mat)\n",
    "    font_scale = 4\n",
    "    thickness = 12\n",
    "    position = (xw-font_dict_mini[roi][0]+50, font_dict_mini[roi][1]) \n",
    "    cv2.putText(text_mask, str(roi).zfill(2), position, font, font_scale, white_color, thickness)\n",
    "    max_mat[text_mask > 0] = 100 + roi \n",
    "    mini_mask[(rx-xw):(rx+xw),(ry-xw):(ry+xw)] = max_mat"
   ]
  },
  {
   "cell_type": "code",
   "execution_count": 23,
   "id": "404588f0-ee24-4bc6-95bf-d111f70045ef",
   "metadata": {},
   "outputs": [
    {
     "name": "stdout",
     "output_type": "stream",
     "text": [
      "Cell execution time: 0.448 seconds\n"
     ]
    }
   ],
   "source": [
    "# simplify mask codes to just distinguish text and bounding boxes \n",
    "csr_mask = mask.tocsr()\n",
    "d = csr_mask.data\n",
    "d[(d > 1) & (d < 100)] = 1\n",
    "d[d >= 100] = 2\n",
    "mask = csr_mask.toarray()\n",
    "\n",
    "# simplify mask codes to just distinguish text and bounding boxes \n",
    "csr_mini_mask = mini_mask.tocsr()\n",
    "d = csr_mini_mask.data\n",
    "d[(d > 1) & (d < 100)] = 1\n",
    "d[d >= 100] = 2\n",
    "mini_mask = csr_mini_mask.toarray()"
   ]
  },
  {
   "cell_type": "code",
   "execution_count": 24,
   "id": "e4feb086-25f2-44bb-9cbf-50d1a57700e6",
   "metadata": {},
   "outputs": [
    {
     "data": {
      "text/plain": [
       "<matplotlib.image.AxesImage at 0x140da4cd0>"
      ]
     },
     "execution_count": 24,
     "metadata": {},
     "output_type": "execute_result"
    },
    {
     "data": {
      "image/png": "[encoded data removed]",
      "text/plain": [
       "<Figure size 1200x1200 with 1 Axes>"
      ]
     },
     "metadata": {},
     "output_type": "display_data"
    },
    {
     "name": "stdout",
     "output_type": "stream",
     "text": [
      "Cell execution time: 9.177 seconds\n"
     ]
    }
   ],
   "source": [
    "# downsize mask and plot to see if placement is adequate \n",
    "mask_small = cv2.resize(mask, (mask.shape[1]//4, mask.shape[0]//4),\n",
    "                         interpolation=cv2.INTER_NEAREST)\n",
    "\n",
    "mini_mask_small = cv2.resize(mini_mask, (mini_mask.shape[1]//4, mini_mask.shape[0]//4),\n",
    "                         interpolation=cv2.INTER_NEAREST)\n",
    "\n",
    "fig,ax=plt.subplots(figsize=(12,12))\n",
    "plt.imshow(mask_small)"
   ]
  },
  {
   "cell_type": "code",
   "execution_count": 25,
   "id": "a38e5c92-6071-43f1-89c5-cba66436f2c7",
   "metadata": {},
   "outputs": [
    {
     "name": "stdout",
     "output_type": "stream",
     "text": [
      "Cell execution time: 56.635 seconds\n"
     ]
    }
   ],
   "source": [
    "# downsize image \n",
    "img_small  = cv2.resize(img,   (img.shape[1]//4, img.shape[0]//4),\n",
    "                         interpolation=cv2.INTER_AREA)\n",
    "img_small = cv2.cvtColor((img_small * 255).clip(0, 255).astype(np.uint8), cv2.COLOR_RGB2BGR)"
   ]
  },
  {
   "cell_type": "code",
   "execution_count": 26,
   "id": "674a4541-3dd7-478f-9c39-4656b4aac9d4",
   "metadata": {},
   "outputs": [
    {
     "data": {
      "text/plain": [
       "True"
      ]
     },
     "execution_count": 26,
     "metadata": {},
     "output_type": "execute_result"
    },
    {
     "name": "stdout",
     "output_type": "stream",
     "text": [
      "Cell execution time: 4.032 seconds\n"
     ]
    }
   ],
   "source": [
    "# save image using mask overlay \n",
    "mask_small = (mask_small > 0).astype(np.uint8)\n",
    "\n",
    "\n",
    "overlay = np.zeros_like(img_small, dtype=np.uint8)\n",
    "overlay[mask_small == 1] = (255, 255, 255)  \n",
    "\n",
    "alpha = 0.5                                 \n",
    "blended = cv2.addWeighted(img_small, 1.0,\n",
    "                          overlay,   alpha, 0)\n",
    "\n",
    "cv2.imwrite(\"../plots/ptb211_label.png\", blended)"
   ]
  },
  {
   "cell_type": "code",
   "execution_count": 27,
   "id": "ab64aea3-80ad-49cd-9e12-b80a02e7e192",
   "metadata": {},
   "outputs": [
    {
     "data": {
      "text/plain": [
       "True"
      ]
     },
     "execution_count": 27,
     "metadata": {},
     "output_type": "execute_result"
    },
    {
     "name": "stdout",
     "output_type": "stream",
     "text": [
      "Cell execution time: 3.996 seconds\n"
     ]
    }
   ],
   "source": [
    "# save image using mask overlay \n",
    "mini_mask_small = (mini_mask_small > 0).astype(np.uint8)\n",
    "\n",
    "\n",
    "overlay = np.zeros_like(img_small, dtype=np.uint8)\n",
    "overlay[mini_mask_small == 1] = (255, 255, 255)  \n",
    "\n",
    "alpha = 0.5                                 \n",
    "blended = cv2.addWeighted(img_small, 1.0,\n",
    "                          overlay,   alpha, 0)\n",
    "\n",
    "cv2.imwrite(\"../plots/ptb211_mini_label.png\", blended)"
   ]
  },
  {
   "cell_type": "code",
   "execution_count": null,
   "id": "d6ab07ce-a5cc-4e9c-853a-2a88b48f36b0",
   "metadata": {},
   "outputs": [],
   "source": []
  }
 ],
 "metadata": {
  "kernelspec": {
   "display_name": "scvi",
   "language": "python",
   "name": "scvi"
  },
  "language_info": {
   "codemirror_mode": {
    "name": "ipython",
    "version": 3
   },
   "file_extension": ".py",
   "mimetype": "text/x-python",
   "name": "python",
   "nbconvert_exporter": "python",
   "pygments_lexer": "ipython3",
   "version": "3.11.11"
  }
 },
 "nbformat": 4,
 "nbformat_minor": 5
}
