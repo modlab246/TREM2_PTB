{
 "cells": [
  {
   "cell_type": "code",
   "execution_count": 1,
   "id": "f63f7622-8c4a-4f7a-a9b5-8518402efb7d",
   "metadata": {},
   "outputs": [],
   "source": [
    "from IPython.core.events import EventManager\n",
    "from IPython import get_ipython\n",
    "import time\n",
    "\n",
    "global_start_time = None\n",
    "\n",
    "def start_timer(event):\n",
    "    global global_start_time\n",
    "    global_start_time = time.time()\n",
    "\n",
    "def stop_timer(event):\n",
    "    global global_start_time\n",
    "    if global_start_time:\n",
    "        duration = time.time() - global_start_time\n",
    "        print(f\"Cell execution time: {duration:.3f} seconds\")\n",
    "        global_start_time = None\n",
    "\n",
    "ip = get_ipython()\n",
    "ip.events.register('pre_run_cell', start_timer)\n",
    "ip.events.register('post_run_cell', stop_timer)"
   ]
  },
  {
   "cell_type": "code",
   "execution_count": 2,
   "id": "5961873f-f29f-4c4e-ae1f-15bd551b92b7",
   "metadata": {},
   "outputs": [
    {
     "name": "stdout",
     "output_type": "stream",
     "text": [
      "Cell execution time: 6.424 seconds\n"
     ]
    }
   ],
   "source": [
    "from skimage import io \n",
    "import pandas as pd \n",
    "import matplotlib.pyplot as plt\n",
    "import gc\n",
    "import cv2\n",
    "import numpy as np\n",
    "from glob import glob "
   ]
  },
  {
   "cell_type": "code",
   "execution_count": 3,
   "id": "5bbf35ac-993c-4c46-b8ef-97b0063b639d",
   "metadata": {},
   "outputs": [
    {
     "name": "stdout",
     "output_type": "stream",
     "text": [
      "Cell execution time: 1.024 seconds\n"
     ]
    }
   ],
   "source": [
    "df = pd.read_excel(\"../data/geomx_221_223.xlsx\",sheet_name=\"SegmentProperties\")\n",
    "df = df.loc[df[\"SlideName\"]==\"1 PTB-22.1\"]\n",
    "df = df[[\"ROILabel\",\"ROICoordinateX\",\"ROICoordinateY\",\"AOISurfaceArea\"]]"
   ]
  },
  {
   "cell_type": "code",
   "execution_count": 4,
   "id": "1822bb0f-018e-467d-a49f-dc34cac3aaa2",
   "metadata": {},
   "outputs": [
    {
     "name": "stdout",
     "output_type": "stream",
     "text": [
      "Cell execution time: 0.000 seconds\n"
     ]
    }
   ],
   "source": [
    "xw = 512"
   ]
  },
  {
   "cell_type": "code",
   "execution_count": 5,
   "id": "53683056-34fa-4b4f-983d-d21de998174d",
   "metadata": {},
   "outputs": [
    {
     "name": "stdout",
     "output_type": "stream",
     "text": [
      "Cell execution time: 31.828 seconds\n"
     ]
    }
   ],
   "source": [
    "# DAPI stain \n",
    "mat = io.imread(\"../channel/PTB22.1_Blue.tiff\")\n",
    "img={}\n",
    "for spot in df.iterrows():\n",
    "    y,x=spot[1][[\"ROICoordinateX\",\"ROICoordinateY\"]]\n",
    "    roi=spot[1][[\"ROILabel\"]].astype(int).values[0]\n",
    "    x=int(x)\n",
    "    y=int(y)\n",
    "    img[roi]=mat[(x-xw):(x+xw),(y-xw):(y+xw)]\n",
    "\n",
    "for x in img:\n",
    "    np.save(\"../crop/221/\"+\"BLUE_\"+str(x)+\".npy\",img[x])\n",
    "\n",
    "del img\n",
    "del mat"
   ]
  },
  {
   "cell_type": "code",
   "execution_count": 6,
   "id": "a71397f0-ea9d-4262-bc08-c52ea140b83f",
   "metadata": {},
   "outputs": [
    {
     "name": "stdout",
     "output_type": "stream",
     "text": [
      "Cell execution time: 41.409 seconds\n"
     ]
    }
   ],
   "source": [
    "# CD3 stain \n",
    "mat =  io.imread(\"../channel/PTB22.1_Green.tiff\")\n",
    "\n",
    "img={}\n",
    "for spot in df.iterrows():\n",
    "    y,x=spot[1][[\"ROICoordinateX\",\"ROICoordinateY\"]]\n",
    "    roi=spot[1][[\"ROILabel\"]].astype(int).values[0]\n",
    "    x=int(x)\n",
    "    y=int(y)\n",
    "    img[roi]=mat[(x-xw):(x+xw),(y-xw):(y+xw)]\n",
    "\n",
    "\n",
    "for x in img:\n",
    "    np.save(\"../crop/221/\"+\"GREEN_\"+str(x)+\".npy\",img[x])\n",
    "\n",
    "del img\n",
    "del mat"
   ]
  },
  {
   "cell_type": "code",
   "execution_count": 7,
   "id": "fba83cba-d740-4cfd-8691-79899ee9b73d",
   "metadata": {},
   "outputs": [
    {
     "name": "stdout",
     "output_type": "stream",
     "text": [
      "Cell execution time: 38.600 seconds\n"
     ]
    }
   ],
   "source": [
    "# CD68 stain \n",
    "mat =  io.imread(\"../channel/PTB22.1_Red.tiff\")\n",
    "\n",
    "img={}\n",
    "for spot in df.iterrows():\n",
    "    y,x=spot[1][[\"ROICoordinateX\",\"ROICoordinateY\"]]\n",
    "    roi=spot[1][[\"ROILabel\"]].astype(int).values[0]\n",
    "    x=int(x)\n",
    "    y=int(y)\n",
    "    img[roi]=mat[(x-xw):(x+xw),(y-xw):(y+xw)]\n",
    "\n",
    "\n",
    "for x in img:\n",
    "    np.save(\"../crop/221/\"+\"RED_\"+str(x)+\".npy\",img[x])\n",
    "\n",
    "del img\n",
    "del mat"
   ]
  },
  {
   "cell_type": "code",
   "execution_count": 8,
   "id": "dc53cad5-971b-4bda-ac86-1cf5d7b769ac",
   "metadata": {},
   "outputs": [
    {
     "name": "stdout",
     "output_type": "stream",
     "text": [
      "Cell execution time: 35.192 seconds\n"
     ]
    }
   ],
   "source": [
    "# CD20 stain \n",
    "mat =  io.imread(\"../channel/PTB22.1_Yellow.tiff\")\n",
    "\n",
    "img={}\n",
    "for spot in df.iterrows():\n",
    "    y,x=spot[1][[\"ROICoordinateX\",\"ROICoordinateY\"]]\n",
    "    roi=spot[1][[\"ROILabel\"]].astype(int).values[0]\n",
    "    x=int(x)\n",
    "    y=int(y)\n",
    "    img[roi]=mat[(x-xw):(x+xw),(y-xw):(y+xw)]\n",
    "\n",
    "for x in img:\n",
    "    np.save(\"../crop/221/\"+\"YELLOW_\"+str(x)+\".npy\",img[x])\n",
    "\n",
    "del img\n",
    "del mat"
   ]
  },
  {
   "cell_type": "code",
   "execution_count": 9,
   "id": "885a5ad3-ddbb-4e13-a18a-2341bba5200d",
   "metadata": {},
   "outputs": [
    {
     "name": "stdout",
     "output_type": "stream",
     "text": [
      "Cell execution time: 0.002 seconds\n"
     ]
    }
   ],
   "source": [
    "cpath = \"../crop/221/\"\n",
    "imgs = glob(cpath+\"*.npy\")\n",
    "\n",
    "roi = list(set([x.split(\"_\")[-1].split(\".npy\")[0] for x in imgs]))\n",
    "roi_dict = {int(r):[x for x in imgs if \"_\"+r+\".npy\" in x] for r in roi}"
   ]
  },
  {
   "cell_type": "code",
   "execution_count": 10,
   "id": "d8f648cd-809b-445d-9c5c-17738952821a",
   "metadata": {},
   "outputs": [
    {
     "data": {
      "text/plain": [
       "<Figure size 640x480 with 0 Axes>"
      ]
     },
     "metadata": {},
     "output_type": "display_data"
    },
    {
     "name": "stdout",
     "output_type": "stream",
     "text": [
      "Cell execution time: 73.742 seconds\n"
     ]
    }
   ],
   "source": [
    "red_denom = 2**16\n",
    "blue_denom = 2**12\n",
    "green_denom = 2**16\n",
    "yellow_denom = 2**12\n",
    "\n",
    "blue_adjust = 0.7 \n",
    "yellow_adjust = 0.7\n",
    "red_adjust = 1.9 \n",
    "green_adjust = 1.6\n",
    "\n",
    "gamma = 1.2\n",
    "\n",
    "for r in roi_dict:\n",
    "    channels = roi_dict[r]\n",
    "    imgB = np.load([x for x in channels if \"BLUE\" in x][0])\n",
    "    imgR = np.load([x for x in channels if \"RED\" in x][0])\n",
    "    imgG = np.load([x for x in channels if \"GREEN\" in x][0])\n",
    "    imgY = np.load([x for x in channels if \"YELLOW\" in x][0])\n",
    "\n",
    "    # scale and clip to a maximum pixel value \n",
    "    rawR = np.clip(imgR /     red_denom,    0, 1)\n",
    "    rawG = np.clip(imgG /   green_denom,    0, 1)\n",
    "    rawB = np.clip(imgB /    blue_denom,    0, 1)\n",
    "    rawY = np.clip(imgY / yellow_denom,    0, 1)\n",
    "    \n",
    "    # image adjustment \n",
    "    imgR_norm = np.power(rawR, gamma) * red_adjust\n",
    "    imgG_norm = np.power(rawG, gamma) * green_adjust\n",
    "    imgB_norm = np.power(rawB, gamma) * blue_adjust\n",
    "    imgY_norm = np.power(rawY, gamma) * yellow_adjust\n",
    "    \n",
    "    # red = red + yellow\n",
    "    # green = green + yellow\n",
    "    # blue = blue \n",
    "    imgR_final = np.clip(imgR_norm + imgY_norm, 0, 1)\n",
    "    imgG_final = np.clip(imgG_norm + imgY_norm, 0, 1)\n",
    "    imgB_final = np.clip(imgB_norm, 0, 1)\n",
    "\n",
    "    img = np.stack((imgR_final, imgG_final, imgB_final), -1)\n",
    "    \n",
    "    fig,ax=plt.subplots(figsize=(16,16))\n",
    "    plt.imshow(img)\n",
    "    plt.axis(\"off\")\n",
    "    plt.savefig(\"../composite/\"+\"PTB221_\"+str(r)+\".png\",dpi=400,bbox_inches='tight', pad_inches=0)\n",
    "    plt.close(fig)\n",
    "    plt.clf()"
   ]
  },
  {
   "cell_type": "code",
   "execution_count": 11,
   "id": "122dd4fb-3bfe-433c-9c41-4faae6f86fb0",
   "metadata": {},
   "outputs": [
    {
     "name": "stdout",
     "output_type": "stream",
     "text": [
      "Cell execution time: 0.952 seconds\n"
     ]
    }
   ],
   "source": [
    "df = pd.read_excel(\"../data/geomx_221_223.xlsx\",sheet_name=\"SegmentProperties\")\n",
    "df = df.loc[df[\"SlideName\"]==\"2 PTB-22.3\"]\n",
    "df = df[[\"ROILabel\",\"ROICoordinateX\",\"ROICoordinateY\",\"AOISurfaceArea\"]]"
   ]
  },
  {
   "cell_type": "code",
   "execution_count": 12,
   "id": "d028de83-f924-4684-b8c5-8d5377027153",
   "metadata": {},
   "outputs": [
    {
     "name": "stdout",
     "output_type": "stream",
     "text": [
      "Cell execution time: 32.215 seconds\n"
     ]
    }
   ],
   "source": [
    "# DAPI stain\n",
    "mat = io.imread(\"../channel/PTB22.3_Blue.tiff\")\n",
    "img={}\n",
    "for spot in df.iterrows():\n",
    "    y,x=spot[1][[\"ROICoordinateX\",\"ROICoordinateY\"]]\n",
    "    roi=spot[1][[\"ROILabel\"]].astype(int).values[0]\n",
    "    x=int(x)\n",
    "    y=int(y)\n",
    "    img[roi]=mat[(x-xw):(x+xw),(y-xw):(y+xw)]\n",
    "\n",
    "for x in img:\n",
    "    np.save(\"../crop/223/\"+\"BLUE_\"+str(x)+\".npy\",img[x])\n",
    "\n",
    "del img\n",
    "del mat"
   ]
  },
  {
   "cell_type": "code",
   "execution_count": 13,
   "id": "8c26ff08-9dab-4294-b428-3803103799ea",
   "metadata": {},
   "outputs": [
    {
     "name": "stdout",
     "output_type": "stream",
     "text": [
      "Cell execution time: 34.510 seconds\n"
     ]
    }
   ],
   "source": [
    "# CD3 stain\n",
    "mat =  io.imread(\"../channel/PTB22.3_Green.tiff\")\n",
    "\n",
    "img={}\n",
    "for spot in df.iterrows():\n",
    "    y,x=spot[1][[\"ROICoordinateX\",\"ROICoordinateY\"]]\n",
    "    roi=spot[1][[\"ROILabel\"]].astype(int).values[0]\n",
    "    x=int(x)\n",
    "    y=int(y)\n",
    "    img[roi]=mat[(x-xw):(x+xw),(y-xw):(y+xw)]\n",
    "\n",
    "\n",
    "for x in img:\n",
    "    np.save(\"../crop/223/\"+\"GREEN_\"+str(x)+\".npy\",img[x])\n",
    "\n",
    "del img\n",
    "del mat"
   ]
  },
  {
   "cell_type": "code",
   "execution_count": 14,
   "id": "26e57eb7-e374-4068-bb0a-f67bc2841abc",
   "metadata": {},
   "outputs": [
    {
     "name": "stdout",
     "output_type": "stream",
     "text": [
      "Cell execution time: 38.536 seconds\n"
     ]
    }
   ],
   "source": [
    "# CD68 stain \n",
    "mat =  io.imread(\"../channel/PTB22.3_Red.tiff\")\n",
    "\n",
    "img={}\n",
    "for spot in df.iterrows():\n",
    "    y,x=spot[1][[\"ROICoordinateX\",\"ROICoordinateY\"]]\n",
    "    roi=spot[1][[\"ROILabel\"]].astype(int).values[0]\n",
    "    x=int(x)\n",
    "    y=int(y)\n",
    "    img[roi]=mat[(x-xw):(x+xw),(y-xw):(y+xw)]\n",
    "\n",
    "\n",
    "for x in img:\n",
    "    np.save(\"../crop/223/\"+\"RED_\"+str(x)+\".npy\",img[x])\n",
    "\n",
    "del img\n",
    "del mat"
   ]
  },
  {
   "cell_type": "code",
   "execution_count": 15,
   "id": "a80fa6e8-7715-421d-92f0-c0a64855f6f9",
   "metadata": {},
   "outputs": [
    {
     "name": "stdout",
     "output_type": "stream",
     "text": [
      "Cell execution time: 44.703 seconds\n"
     ]
    }
   ],
   "source": [
    "# CD20 stain \n",
    "mat =  io.imread(\"../channel/PTB22.3_Yellow.tiff\")\n",
    "\n",
    "img={}\n",
    "for spot in df.iterrows():\n",
    "    y,x=spot[1][[\"ROICoordinateX\",\"ROICoordinateY\"]]\n",
    "    roi=spot[1][[\"ROILabel\"]].astype(int).values[0]\n",
    "    x=int(x)\n",
    "    y=int(y)\n",
    "    img[roi]=mat[(x-xw):(x+xw),(y-xw):(y+xw)]\n",
    "\n",
    "for x in img:\n",
    "    np.save(\"../crop/223/\"+\"YELLOW_\"+str(x)+\".npy\",img[x])\n",
    "\n",
    "del img\n",
    "del mat"
   ]
  },
  {
   "cell_type": "code",
   "execution_count": 16,
   "id": "ed12dff6-619d-4e50-bddc-058d41cf8357",
   "metadata": {},
   "outputs": [
    {
     "name": "stdout",
     "output_type": "stream",
     "text": [
      "Cell execution time: 0.002 seconds\n"
     ]
    }
   ],
   "source": [
    "cpath = \"../crop/223/\"\n",
    "imgs = glob(cpath+\"*.npy\")\n",
    "\n",
    "roi = list(set([x.split(\"_\")[-1].split(\".npy\")[0] for x in imgs]))\n",
    "roi_dict = {int(r):[x for x in imgs if \"_\"+r+\".npy\" in x] for r in roi}"
   ]
  },
  {
   "cell_type": "code",
   "execution_count": 17,
   "id": "05017bc5-3465-4c6e-b4ad-08d223a94282",
   "metadata": {},
   "outputs": [
    {
     "data": {
      "text/plain": [
       "<Figure size 640x480 with 0 Axes>"
      ]
     },
     "metadata": {},
     "output_type": "display_data"
    },
    {
     "name": "stdout",
     "output_type": "stream",
     "text": [
      "Cell execution time: 42.559 seconds\n"
     ]
    }
   ],
   "source": [
    "red_denom = 2**16\n",
    "blue_denom = 2**12\n",
    "green_denom = 2**16\n",
    "yellow_denom = 2**12\n",
    "\n",
    "blue_adjust = 0.7 \n",
    "yellow_adjust = 0.7\n",
    "red_adjust = 1.9 \n",
    "green_adjust = 1.6\n",
    "\n",
    "gamma = 1.2\n",
    "\n",
    "for r in roi_dict:\n",
    "    channels = roi_dict[r]\n",
    "    imgB = np.load([x for x in channels if \"BLUE\" in x][0])\n",
    "    imgR = np.load([x for x in channels if \"RED\" in x][0])\n",
    "    imgG = np.load([x for x in channels if \"GREEN\" in x][0])\n",
    "    imgY = np.load([x for x in channels if \"YELLOW\" in x][0])\n",
    "\n",
    "    # scale and clip to a maximum pixel value \n",
    "    rawR = np.clip(imgR /     red_denom,    0, 1)\n",
    "    rawG = np.clip(imgG /   green_denom,    0, 1)\n",
    "    rawB = np.clip(imgB /    blue_denom,    0, 1)\n",
    "    rawY = np.clip(imgY / yellow_denom,    0, 1)\n",
    "    \n",
    "    # image adjustment \n",
    "    imgR_norm = np.power(rawR, gamma) * red_adjust\n",
    "    imgG_norm = np.power(rawG, gamma) * green_adjust\n",
    "    imgB_norm = np.power(rawB, gamma) * blue_adjust\n",
    "    imgY_norm = np.power(rawY, gamma) * yellow_adjust\n",
    "    \n",
    "    # red = red + yellow\n",
    "    # green = green + yellow\n",
    "    # blue = blue \n",
    "    imgR_final = np.clip(imgR_norm + imgY_norm, 0, 1)\n",
    "    imgG_final = np.clip(imgG_norm + imgY_norm, 0, 1)\n",
    "    imgB_final = np.clip(imgB_norm, 0, 1)\n",
    "\n",
    "    img = np.stack((imgR_final, imgG_final, imgB_final), -1)\n",
    "\n",
    "    fig,ax = plt.subplots(figsize=(16,16))\n",
    "    plt.imshow(img)\n",
    "    plt.axis(\"off\")\n",
    "    plt.savefig(\"../composite/\"+\"PTB223_\"+str(r)+\".png\",dpi=400,bbox_inches='tight', pad_inches=0)\n",
    "    plt.close(fig)\n",
    "    plt.clf()"
   ]
  },
  {
   "cell_type": "code",
   "execution_count": 18,
   "id": "784aeba3-8999-4386-9b1b-7ed95e0751da",
   "metadata": {},
   "outputs": [
    {
     "name": "stdout",
     "output_type": "stream",
     "text": [
      "Cell execution time: 0.911 seconds\n"
     ]
    },
    {
     "name": "stderr",
     "output_type": "stream",
     "text": [
      "/Users/jperrie/miniconda3/envs/scvi/lib/python3.11/site-packages/openpyxl/styles/stylesheet.py:226: UserWarning: Workbook contains no default style, apply openpyxl's default\n",
      "  warn(\"Workbook contains no default style, apply openpyxl's default\")\n"
     ]
    }
   ],
   "source": [
    "df = pd.read_excel(\"../data/geomx_222.xlsx\",sheet_name=\"SegmentProperties\")\n",
    "df = df.loc[df[\"SlideName\"]==\"PTB22.2\"]\n",
    "df = df[[\"ROILabel\",\"ROICoordinateX\",\"ROICoordinateY\",\"AOISurfaceArea\"]]"
   ]
  },
  {
   "cell_type": "code",
   "execution_count": 19,
   "id": "ab8ee698-4174-4c80-a8bf-f39a8f45f749",
   "metadata": {},
   "outputs": [
    {
     "name": "stdout",
     "output_type": "stream",
     "text": [
      "Cell execution time: 0.042 seconds\n"
     ]
    }
   ],
   "source": [
    "img_path = \"../bb_annot/PTB222_1.png\"\n",
    "img=plt.imread(img_path)\n",
    "xw = np.floor(img.shape[1]/2).astype(int)"
   ]
  },
  {
   "cell_type": "code",
   "execution_count": 20,
   "id": "2c5352be-db5a-4670-b604-f2ddfcee818b",
   "metadata": {},
   "outputs": [
    {
     "name": "stdout",
     "output_type": "stream",
     "text": [
      "Cell execution time: 38.084 seconds\n"
     ]
    }
   ],
   "source": [
    "# DAPI stain \n",
    "mat = io.imread(\"../channel/PTB22.2_Blue.tiff\")\n",
    "img={}\n",
    "for spot in df.iterrows():\n",
    "    y,x=spot[1][[\"ROICoordinateX\",\"ROICoordinateY\"]]\n",
    "    roi=spot[1][[\"ROILabel\"]].astype(int).values[0]\n",
    "    x=int(x)\n",
    "    y=int(y)\n",
    "    img[roi]=mat[(x-xw):(x+xw),(y-xw):(y+xw)]\n",
    "\n",
    "for x in img:\n",
    "    np.save(\"../crop/222/\"+\"BLUE_\"+str(x)+\".npy\",img[x])\n",
    "\n",
    "del img\n",
    "del mat"
   ]
  },
  {
   "cell_type": "code",
   "execution_count": 21,
   "id": "c72fd6e2-ec16-438d-aab7-f96a22cfa8b6",
   "metadata": {},
   "outputs": [
    {
     "name": "stdout",
     "output_type": "stream",
     "text": [
      "Cell execution time: 38.450 seconds\n"
     ]
    }
   ],
   "source": [
    "# CD20 stain \n",
    "mat =  io.imread(\"../channel/PTB22.2_Green.tiff\")\n",
    "\n",
    "img={}\n",
    "for spot in df.iterrows():\n",
    "    y,x=spot[1][[\"ROICoordinateX\",\"ROICoordinateY\"]]\n",
    "    roi=spot[1][[\"ROILabel\"]].astype(int).values[0]\n",
    "    x=int(x)\n",
    "    y=int(y)\n",
    "    img[roi]=mat[(x-xw):(x+xw),(y-xw):(y+xw)]\n",
    "\n",
    "\n",
    "for x in img:\n",
    "    np.save(\"../crop/222/\"+\"GREEN_\"+str(x)+\".npy\",img[x])\n",
    "\n",
    "del img\n",
    "del mat"
   ]
  },
  {
   "cell_type": "code",
   "execution_count": 22,
   "id": "ff3ec834-0f13-464f-ab22-b511007ba7be",
   "metadata": {},
   "outputs": [
    {
     "name": "stdout",
     "output_type": "stream",
     "text": [
      "Cell execution time: 33.871 seconds\n"
     ]
    }
   ],
   "source": [
    "# CD68 stain \n",
    "mat =  io.imread(\"../channel/PTB22.2_Red.tiff\")\n",
    "\n",
    "img={}\n",
    "for spot in df.iterrows():\n",
    "    y,x=spot[1][[\"ROICoordinateX\",\"ROICoordinateY\"]]\n",
    "    roi=spot[1][[\"ROILabel\"]].astype(int).values[0]\n",
    "    x=int(x)\n",
    "    y=int(y)\n",
    "    img[roi]=mat[(x-xw):(x+xw),(y-xw):(y+xw)]\n",
    "\n",
    "\n",
    "for x in img:\n",
    "    np.save(\"../crop/222/\"+\"RED_\"+str(x)+\".npy\",img[x])\n",
    "\n",
    "del img\n",
    "del mat"
   ]
  },
  {
   "cell_type": "code",
   "execution_count": 23,
   "id": "0a7710de-4209-48b7-810e-e332ecdef88b",
   "metadata": {},
   "outputs": [
    {
     "name": "stdout",
     "output_type": "stream",
     "text": [
      "Cell execution time: 36.074 seconds\n"
     ]
    }
   ],
   "source": [
    "# CD20 stain \n",
    "mat =  io.imread(\"../channel/PTB22.2_Yellow.tiff\")\n",
    "\n",
    "img={}\n",
    "for spot in df.iterrows():\n",
    "    y,x=spot[1][[\"ROICoordinateX\",\"ROICoordinateY\"]]\n",
    "    roi=spot[1][[\"ROILabel\"]].astype(int).values[0]\n",
    "    x=int(x)\n",
    "    y=int(y)\n",
    "    img[roi]=mat[(x-xw):(x+xw),(y-xw):(y+xw)]\n",
    "\n",
    "for x in img:\n",
    "    np.save(\"../crop/222/\"+\"YELLOW_\"+str(x)+\".npy\",img[x])\n",
    "\n",
    "del img\n",
    "del mat"
   ]
  },
  {
   "cell_type": "code",
   "execution_count": 24,
   "id": "6bdb5bd8-66d1-4b3c-ab33-0761004e192a",
   "metadata": {},
   "outputs": [
    {
     "name": "stdout",
     "output_type": "stream",
     "text": [
      "Cell execution time: 0.002 seconds\n"
     ]
    }
   ],
   "source": [
    "cpath = \"../crop/222/\"\n",
    "imgs = glob(cpath+\"*.npy\")\n",
    "\n",
    "roi = list(set([x.split(\"_\")[-1].split(\".npy\")[0] for x in imgs]))\n",
    "roi_dict = {int(r):[x for x in imgs if \"_\"+r+\".npy\" in x] for r in roi}"
   ]
  },
  {
   "cell_type": "code",
   "execution_count": 25,
   "id": "175466af-40c7-4f33-8bcf-aadfee871cb4",
   "metadata": {},
   "outputs": [
    {
     "data": {
      "text/plain": [
       "<Figure size 640x480 with 0 Axes>"
      ]
     },
     "metadata": {},
     "output_type": "display_data"
    },
    {
     "name": "stdout",
     "output_type": "stream",
     "text": [
      "Cell execution time: 78.525 seconds\n"
     ]
    }
   ],
   "source": [
    "red_denom = 2**16\n",
    "blue_denom = 2**14\n",
    "green_denom = 2**15\n",
    "yellow_denom = 2**13\n",
    "\n",
    "blue_adjust = 0.9    \n",
    "yellow_adjust = 0.8  \n",
    "red_adjust = 1.3 \n",
    "green_adjust = 1.6\n",
    "\n",
    "gamma = 1.1\n",
    "\n",
    "for r in roi_dict:\n",
    "    channels = roi_dict[r]\n",
    "    imgB = np.load([x for x in channels if \"BLUE\" in x][0])\n",
    "    imgR = np.load([x for x in channels if \"RED\" in x][0])\n",
    "    imgG = np.load([x for x in channels if \"GREEN\" in x][0])\n",
    "    imgY = np.load([x for x in channels if \"YELLOW\" in x][0])\n",
    "\n",
    "    # scale and clip to a maximum pixel value \n",
    "    rawR = np.clip(imgR /     red_denom,    0, 1)\n",
    "    rawG = np.clip(imgG /   green_denom,    0, 1)\n",
    "    rawB = np.clip(imgB /    blue_denom,    0, 1)\n",
    "    rawY = np.clip(imgY / yellow_denom,    0, 1)\n",
    "    \n",
    "    # image adjustment \n",
    "    imgR_norm = np.power(rawR, gamma) * red_adjust\n",
    "    imgG_norm = np.power(rawG, gamma) * green_adjust\n",
    "    imgB_norm = np.power(rawB, gamma) * blue_adjust\n",
    "    imgY_norm = np.power(rawY, gamma) * yellow_adjust\n",
    "    \n",
    "    # red = red + yellow\n",
    "    # green = green + yellow\n",
    "    # blue = blue \n",
    "    imgR_final = np.clip(imgR_norm + imgY_norm, 0, 1)\n",
    "    imgG_final = np.clip(imgG_norm + imgY_norm, 0, 1)\n",
    "    imgB_final = np.clip(imgB_norm, 0, 1)\n",
    "\n",
    "    img = np.stack((imgR_final, imgG_final, imgB_final), -1)\n",
    "    \n",
    "    fig,ax = plt.subplots(figsize=(16,16))\n",
    "    plt.imshow(img)\n",
    "    plt.axis(\"off\")\n",
    "    plt.savefig(\"../composite/\"+\"PTB222_\"+str(r)+\".png\",dpi=400,bbox_inches='tight', pad_inches=0)\n",
    "    plt.close(fig)\n",
    "    plt.clf()"
   ]
  },
  {
   "cell_type": "code",
   "execution_count": 26,
   "id": "b80a7387-191f-49d9-9138-e7ac181b2d1e",
   "metadata": {},
   "outputs": [
    {
     "name": "stdout",
     "output_type": "stream",
     "text": [
      "Cell execution time: 0.347 seconds\n"
     ]
    }
   ],
   "source": [
    "df = pd.read_excel(\"../data/geomx_211.xlsx\",sheet_name=\"SegmentProperties\")\n",
    "df = df.loc[df[\"SlideName\"]==\"B172914-2\"]\n",
    "df = df[[\"ROILabel\",\"ROICoordinateX\",\"ROICoordinateY\",\"AOISurfaceArea\"]]"
   ]
  },
  {
   "cell_type": "code",
   "execution_count": 27,
   "id": "be6710af-08ac-446c-96f2-2d8369e6caf0",
   "metadata": {},
   "outputs": [
    {
     "name": "stdout",
     "output_type": "stream",
     "text": [
      "Cell execution time: 0.132 seconds\n"
     ]
    }
   ],
   "source": [
    "img_path = \"../bb_annot/PTB211_1.png\"\n",
    "img=plt.imread(img_path)\n",
    "xw = np.floor(img.shape[1]/2).astype(int)"
   ]
  },
  {
   "cell_type": "code",
   "execution_count": 28,
   "id": "f88222ac-3b88-472f-ba20-9e69cc1a171c",
   "metadata": {},
   "outputs": [
    {
     "name": "stdout",
     "output_type": "stream",
     "text": [
      "Cell execution time: 36.359 seconds\n"
     ]
    }
   ],
   "source": [
    "# CD68 stain not DAPI \n",
    "mat = io.imread(\"../channel/PTB21.1_Blue.tiff\")\n",
    "img={}\n",
    "for spot in df.iterrows():\n",
    "    y,x=spot[1][[\"ROICoordinateX\",\"ROICoordinateY\"]]\n",
    "    roi=spot[1][[\"ROILabel\"]].astype(int).values[0]\n",
    "    x=int(x)\n",
    "    y=int(y)\n",
    "    img[roi]=mat[(x-xw):(x+xw),(y-xw):(y+xw)]\n",
    "\n",
    "\n",
    "for x in img:\n",
    "    np.save(\"../crop/211/\"+\"BLUE_\"+str(x)+\".npy\",img[x])\n",
    "\n",
    "del img\n",
    "del mat"
   ]
  },
  {
   "cell_type": "code",
   "execution_count": 29,
   "id": "75da531a-6286-4e41-a89e-1c65f7f90565",
   "metadata": {},
   "outputs": [
    {
     "name": "stdout",
     "output_type": "stream",
     "text": [
      "Cell execution time: 41.270 seconds\n"
     ]
    }
   ],
   "source": [
    "# DAPI stain not CD3 \n",
    "mat =  io.imread(\"../channel/PTB21.1_Green.tiff\")\n",
    "\n",
    "img={}\n",
    "for spot in df.iterrows():\n",
    "    y,x=spot[1][[\"ROICoordinateX\",\"ROICoordinateY\"]]\n",
    "    roi=spot[1][[\"ROILabel\"]].astype(int).values[0]\n",
    "    x=int(x)\n",
    "    y=int(y)\n",
    "    img[roi]=mat[(x-xw):(x+xw),(y-xw):(y+xw)]\n",
    "\n",
    "\n",
    "for x in img:\n",
    "    np.save(\"../crop/211/\"+\"GREEN_\"+str(x)+\".npy\",img[x])\n",
    "\n",
    "del img\n",
    "del mat"
   ]
  },
  {
   "cell_type": "code",
   "execution_count": 30,
   "id": "2583a480-1578-428f-8e0a-8e9a86fecf3a",
   "metadata": {},
   "outputs": [
    {
     "name": "stdout",
     "output_type": "stream",
     "text": [
      "Cell execution time: 33.966 seconds\n"
     ]
    }
   ],
   "source": [
    "# CD8 stain not CD68\n",
    "mat =  io.imread(\"../channel/PTB21.1_Red.tiff\")\n",
    "\n",
    "img={}\n",
    "for spot in df.iterrows():\n",
    "    y,x=spot[1][[\"ROICoordinateX\",\"ROICoordinateY\"]]\n",
    "    roi=spot[1][[\"ROILabel\"]].astype(int).values[0]\n",
    "    x=int(x)\n",
    "    y=int(y)\n",
    "    img[roi]=mat[(x-xw):(x+xw),(y-xw):(y+xw)]\n",
    "\n",
    "\n",
    "for x in img:\n",
    "    np.save(\"../crop/211/\"+\"RED_\"+str(x)+\".npy\",img[x])\n",
    "\n",
    "del img\n",
    "del mat"
   ]
  },
  {
   "cell_type": "code",
   "execution_count": 31,
   "id": "0b539eb7-7d25-4207-905e-02f676cf09c4",
   "metadata": {},
   "outputs": [
    {
     "name": "stdout",
     "output_type": "stream",
     "text": [
      "Cell execution time: 36.998 seconds\n"
     ]
    }
   ],
   "source": [
    "# CD3 stain not CD20 \n",
    "mat =  io.imread(\"../channel/PTB21.1_Yellow.tiff\")\n",
    "\n",
    "img={}\n",
    "for spot in df.iterrows():\n",
    "    y,x=spot[1][[\"ROICoordinateX\",\"ROICoordinateY\"]]\n",
    "    roi=spot[1][[\"ROILabel\"]].astype(int).values[0]\n",
    "    x=int(x)\n",
    "    y=int(y)\n",
    "    img[roi]=mat[(x-xw):(x+xw),(y-xw):(y+xw)]\n",
    "\n",
    "for x in img:\n",
    "    np.save(\"../crop/211/\"+\"YELLOW_\"+str(x)+\".npy\",img[x])\n",
    "\n",
    "del img\n",
    "del mat"
   ]
  },
  {
   "cell_type": "code",
   "execution_count": 32,
   "id": "73c6c1d6-4278-47ab-863d-ef111ccc06c9",
   "metadata": {},
   "outputs": [
    {
     "name": "stdout",
     "output_type": "stream",
     "text": [
      "Cell execution time: 0.001 seconds\n"
     ]
    }
   ],
   "source": [
    "cpath = \"../crop/211/\"\n",
    "imgs = glob(cpath+\"*.npy\")\n",
    "\n",
    "roi = list(set([x.split(\"_\")[-1].split(\".npy\")[0] for x in imgs]))\n",
    "roi_dict = {int(r):[x for x in imgs if \"_\"+r+\".npy\" in x] for r in roi}"
   ]
  },
  {
   "cell_type": "code",
   "execution_count": 33,
   "id": "01ef352a-0c88-4cd5-9c8f-31396b9660f5",
   "metadata": {},
   "outputs": [
    {
     "data": {
      "text/plain": [
       "<Figure size 640x480 with 0 Axes>"
      ]
     },
     "metadata": {},
     "output_type": "display_data"
    },
    {
     "name": "stdout",
     "output_type": "stream",
     "text": [
      "Cell execution time: 128.224 seconds\n"
     ]
    }
   ],
   "source": [
    "red_denom = 2**13\n",
    "blue_denom = 2**14\n",
    "green_denom = 2**12\n",
    "yellow_denom = 2**13\n",
    "\n",
    "blue_adjust = 1.2\n",
    "yellow_adjust = 1.1 \n",
    "red_adjust = 1.8\n",
    "green_adjust = 1.8\n",
    "\n",
    "gamma = 1.4\n",
    "\n",
    "for r in roi_dict:\n",
    "    channels = roi_dict[r]\n",
    "    imgY = np.load([x for x in channels if \"BLUE\" in x][0]) \n",
    "    imgR = np.load([x for x in channels if \"RED\" in x][0])\n",
    "    imgB = np.load([x for x in channels if \"GREEN\" in x][0])\n",
    "    imgG = np.load([x for x in channels if \"YELLOW\" in x][0])\n",
    "\n",
    "    # scale and clip to a maximum pixel value \n",
    "    rawR = np.clip(imgR /     red_denom,    0, 1)\n",
    "    rawG = np.clip(imgG /   green_denom,    0, 1)\n",
    "    rawB = np.clip(imgB /    blue_denom,    0, 1)\n",
    "    rawY = np.clip(imgY / yellow_denom,    0, 1)\n",
    "    \n",
    "    # image adjustment \n",
    "    imgR_norm = np.power(rawR, gamma) * red_adjust\n",
    "    imgG_norm = np.power(rawG, gamma) * green_adjust\n",
    "    imgB_norm = np.power(rawB, gamma) * blue_adjust\n",
    "    imgY_norm = np.power(rawY, gamma) * yellow_adjust\n",
    "    \n",
    "    # red = red\n",
    "    # green = green + yellow\n",
    "    # blue = blue + yellow \n",
    "    imgR_final = np.clip(imgR_norm,                0, 1)\n",
    "    imgG_final = np.clip(imgG_norm + imgY_norm,    0, 1)\n",
    "    imgB_final = np.clip(imgB_norm + imgY_norm,    0, 1)\n",
    "    \n",
    "    img = np.stack((imgR_final, imgG_final, imgB_final), axis=-1)\n",
    "\n",
    "    fig,ax = plt.subplots(figsize=(16,16))\n",
    "    plt.imshow(img)\n",
    "    plt.axis(\"off\")\n",
    "    plt.savefig(\"../composite/\"+\"PTB211_\"+str(r)+\".png\",dpi=400,bbox_inches='tight', pad_inches=0)\n",
    "    plt.close(fig)\n",
    "    plt.clf()\n",
    "    "
   ]
  },
  {
   "cell_type": "code",
   "execution_count": null,
   "id": "2a38396d-1df2-41dd-a161-a1d77f61854b",
   "metadata": {},
   "outputs": [],
   "source": []
  }
 ],
 "metadata": {
  "kernelspec": {
   "display_name": "scvi",
   "language": "python",
   "name": "scvi"
  },
  "language_info": {
   "codemirror_mode": {
    "name": "ipython",
    "version": 3
   },
   "file_extension": ".py",
   "mimetype": "text/x-python",
   "name": "python",
   "nbconvert_exporter": "python",
   "pygments_lexer": "ipython3",
   "version": "3.11.11"
  }
 },
 "nbformat": 4,
 "nbformat_minor": 5
}
