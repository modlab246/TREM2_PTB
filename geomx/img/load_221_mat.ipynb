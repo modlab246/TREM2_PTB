{
 "cells": [
  {
   "cell_type": "code",
   "execution_count": 3,
   "id": "633c262e-38de-4ed2-a2b9-ae3e7b4606cd",
   "metadata": {},
   "outputs": [],
   "source": [
    "from IPython.core.events import EventManager\n",
    "from IPython import get_ipython\n",
    "import time\n",
    "\n",
    "global_start_time = None\n",
    "\n",
    "def start_timer(event):\n",
    "    global global_start_time\n",
    "    global_start_time = time.time()\n",
    "\n",
    "def stop_timer(event):\n",
    "    global global_start_time\n",
    "    if global_start_time:\n",
    "        duration = time.time() - global_start_time\n",
    "        print(f\"Cell execution time: {duration:.3f} seconds\")\n",
    "        global_start_time = None\n",
    "\n",
    "ip = get_ipython()\n",
    "ip.events.register('pre_run_cell', start_timer)\n",
    "ip.events.register('post_run_cell', stop_timer)"
   ]
  },
  {
   "cell_type": "code",
   "execution_count": 19,
   "id": "d787aeda-4191-4940-ace1-4d8a33fec593",
   "metadata": {},
   "outputs": [
    {
     "name": "stdout",
     "output_type": "stream",
     "text": [
      "Cell execution time: 0.000 seconds\n"
     ]
    }
   ],
   "source": [
    "from skimage import io \n",
    "import pandas as pd \n",
    "import matplotlib.pyplot as plt\n",
    "import gc\n",
    "import numpy as np\n",
    "from glob import glob \n",
    "import cv2\n",
    "import matplotlib.colors as mcolors\n",
    "from scipy.sparse import lil_matrix"
   ]
  },
  {
   "cell_type": "code",
   "execution_count": 5,
   "id": "d4b7532e-edb8-43b9-9179-2fd2d3a02259",
   "metadata": {},
   "outputs": [
    {
     "name": "stdout",
     "output_type": "stream",
     "text": [
      "Cell execution time: 0.000 seconds\n"
     ]
    }
   ],
   "source": [
    "red_denom = 2**16\n",
    "blue_denom = 2**12\n",
    "green_denom = 2**16\n",
    "yellow_denom = 2**12\n",
    "\n",
    "blue_adjust = 0.7 \n",
    "yellow_adjust = 0.7\n",
    "red_adjust = 1.9 \n",
    "green_adjust = 1.6\n",
    "\n",
    "gamma = 1.2"
   ]
  },
  {
   "cell_type": "code",
   "execution_count": 6,
   "id": "c095950f-da91-42c6-b4f1-cce7fb13da47",
   "metadata": {},
   "outputs": [
    {
     "data": {
      "text/plain": [
       "266"
      ]
     },
     "execution_count": 6,
     "metadata": {},
     "output_type": "execute_result"
    },
    {
     "name": "stdout",
     "output_type": "stream",
     "text": [
      "Cell execution time: 149.294 seconds\n"
     ]
    }
   ],
   "source": [
    "imgR = io.imread(\"../channel/PTB22.1_Red.tiff\")\n",
    "rawR = np.clip(imgR /     red_denom,    0, 1)\n",
    "imgR_norm = np.power(rawR, gamma) * red_adjust\n",
    "del imgR\n",
    "del rawR\n",
    "gc.collect()"
   ]
  },
  {
   "cell_type": "code",
   "execution_count": 7,
   "id": "472e1825-3a27-45f5-ada6-0f881df8cb12",
   "metadata": {},
   "outputs": [
    {
     "data": {
      "text/plain": [
       "266"
      ]
     },
     "execution_count": 7,
     "metadata": {},
     "output_type": "execute_result"
    },
    {
     "name": "stdout",
     "output_type": "stream",
     "text": [
      "Cell execution time: 166.077 seconds\n"
     ]
    }
   ],
   "source": [
    "imgY = io.imread(\"../channel/PTB22.1_Yellow.tiff\")\n",
    "rawY = np.clip(imgY / yellow_denom,    0, 1)\n",
    "imgY_norm = np.power(rawY, gamma) * yellow_adjust\n",
    "del imgY\n",
    "del rawY\n",
    "gc.collect()"
   ]
  },
  {
   "cell_type": "code",
   "execution_count": 8,
   "id": "615ef5b8-237b-4922-966c-db0ee9dbfdc3",
   "metadata": {},
   "outputs": [
    {
     "data": {
      "text/plain": [
       "0"
      ]
     },
     "execution_count": 8,
     "metadata": {},
     "output_type": "execute_result"
    },
    {
     "name": "stdout",
     "output_type": "stream",
     "text": [
      "Cell execution time: 161.263 seconds\n"
     ]
    }
   ],
   "source": [
    "imgR_final = np.clip(imgR_norm + imgY_norm, 0, 1)\n",
    "del imgR_norm\n",
    "gc.collect()"
   ]
  },
  {
   "cell_type": "code",
   "execution_count": 9,
   "id": "74941335-9dd7-4961-b959-17c5a1c8f950",
   "metadata": {},
   "outputs": [
    {
     "data": {
      "text/plain": [
       "266"
      ]
     },
     "execution_count": 9,
     "metadata": {},
     "output_type": "execute_result"
    },
    {
     "name": "stdout",
     "output_type": "stream",
     "text": [
      "Cell execution time: 161.731 seconds\n"
     ]
    }
   ],
   "source": [
    "imgG = io.imread(\"../channel/PTB22.1_Green.tiff\")\n",
    "rawG = np.clip(imgG /   green_denom,    0, 1)\n",
    "imgG_norm = np.power(rawG, gamma) * green_adjust\n",
    "del imgG\n",
    "del rawG\n",
    "gc.collect()"
   ]
  },
  {
   "cell_type": "code",
   "execution_count": 10,
   "id": "03583dc7-c84d-49e1-969d-cf5e3d845957",
   "metadata": {},
   "outputs": [
    {
     "data": {
      "text/plain": [
       "0"
      ]
     },
     "execution_count": 10,
     "metadata": {},
     "output_type": "execute_result"
    },
    {
     "name": "stdout",
     "output_type": "stream",
     "text": [
      "Cell execution time: 174.774 seconds\n"
     ]
    }
   ],
   "source": [
    "imgG_final = np.clip(imgG_norm + imgY_norm, 0, 1)\n",
    "del imgY_norm\n",
    "del imgG_norm\n",
    "gc.collect()"
   ]
  },
  {
   "cell_type": "code",
   "execution_count": 11,
   "id": "f42dc9b6-a301-4f4d-9707-1c9b8fecfa48",
   "metadata": {},
   "outputs": [
    {
     "data": {
      "text/plain": [
       "266"
      ]
     },
     "execution_count": 11,
     "metadata": {},
     "output_type": "execute_result"
    },
    {
     "name": "stdout",
     "output_type": "stream",
     "text": [
      "Cell execution time: 141.544 seconds\n"
     ]
    }
   ],
   "source": [
    "imgB = io.imread(\"../channel/PTB22.1_Blue.tiff\")\n",
    "rawB = np.clip(imgB /    blue_denom,    0, 1)\n",
    "imgB_norm = np.power(rawB, gamma) * blue_adjust\n",
    "del imgB\n",
    "del rawB\n",
    "gc.collect()"
   ]
  },
  {
   "cell_type": "code",
   "execution_count": 12,
   "id": "639b4819-162a-4ac8-8edb-b019657d113f",
   "metadata": {},
   "outputs": [
    {
     "name": "stdout",
     "output_type": "stream",
     "text": [
      "Cell execution time: 13.204 seconds\n"
     ]
    }
   ],
   "source": [
    "imgB_final = np.clip(imgB_norm, 0, 1)"
   ]
  },
  {
   "cell_type": "code",
   "execution_count": 13,
   "id": "55740b95-3cf9-4141-952e-3f40b52c2c24",
   "metadata": {},
   "outputs": [
    {
     "name": "stdout",
     "output_type": "stream",
     "text": [
      "Cell execution time: 1.815 seconds\n"
     ]
    }
   ],
   "source": [
    "del imgB_norm"
   ]
  },
  {
   "cell_type": "code",
   "execution_count": 14,
   "id": "df7d1100-2880-4553-b3d7-c1597c7909b6",
   "metadata": {},
   "outputs": [
    {
     "name": "stdout",
     "output_type": "stream",
     "text": [
      "Cell execution time: 596.050 seconds\n"
     ]
    }
   ],
   "source": [
    "# full composite scan, requires lot of memory \n",
    "img = np.stack((imgR_final,imgG_final, imgB_final), -1)"
   ]
  },
  {
   "cell_type": "code",
   "execution_count": 15,
   "id": "1be16f74-c7d1-4256-87ff-d6cc6b1912bf",
   "metadata": {},
   "outputs": [
    {
     "name": "stdout",
     "output_type": "stream",
     "text": [
      "Cell execution time: 3.505 seconds\n"
     ]
    }
   ],
   "source": [
    "del imgR_final\n",
    "del imgG_final\n",
    "del imgB_final"
   ]
  },
  {
   "cell_type": "code",
   "execution_count": 17,
   "id": "32e921cf-f73f-47ae-9065-c2cb32091f98",
   "metadata": {},
   "outputs": [
    {
     "data": {
      "text/plain": [
       "0"
      ]
     },
     "execution_count": 17,
     "metadata": {},
     "output_type": "execute_result"
    },
    {
     "name": "stdout",
     "output_type": "stream",
     "text": [
      "Cell execution time: 0.041 seconds\n"
     ]
    }
   ],
   "source": [
    "gc.collect()"
   ]
  },
  {
   "cell_type": "code",
   "execution_count": 336,
   "id": "7a1e9bef-f2c4-4887-8986-50d5b3a4bba3",
   "metadata": {},
   "outputs": [
    {
     "name": "stdout",
     "output_type": "stream",
     "text": [
      "Cell execution time: 0.894 seconds\n"
     ]
    }
   ],
   "source": [
    "df = pd.read_excel(\"../data/geomx_221_223.xlsx\",sheet_name=\"SegmentProperties\")\n",
    "df = df.loc[df[\"SlideName\"]==\"1 PTB-22.1\"]\n",
    "df = df[[\"ROILabel\",\"ROICoordinateX\",\"ROICoordinateY\",\"AOISurfaceArea\"]]"
   ]
  },
  {
   "cell_type": "code",
   "execution_count": 337,
   "id": "95fa7c44-7bee-447f-bd23-8f7ccf9e08a4",
   "metadata": {},
   "outputs": [
    {
     "name": "stdout",
     "output_type": "stream",
     "text": [
      "Cell execution time: 0.001 seconds\n"
     ]
    }
   ],
   "source": [
    "bb_fns = glob(\"../bb_mask/PTB221*\")"
   ]
  },
  {
   "cell_type": "code",
   "execution_count": 338,
   "id": "ad247297-e54b-4fb7-bb4b-4d188cba3061",
   "metadata": {},
   "outputs": [
    {
     "name": "stdout",
     "output_type": "stream",
     "text": [
      "Cell execution time: 0.000 seconds\n"
     ]
    }
   ],
   "source": [
    "xw = 512"
   ]
  },
  {
   "cell_type": "code",
   "execution_count": 339,
   "id": "6a0bb630-bd40-4e5f-a41a-5e1af29798f2",
   "metadata": {},
   "outputs": [
    {
     "name": "stdout",
     "output_type": "stream",
     "text": [
      "Cell execution time: 0.156 seconds\n"
     ]
    }
   ],
   "source": [
    "mask = lil_matrix(img.shape[:2], dtype=np.uint8)"
   ]
  },
  {
   "cell_type": "code",
   "execution_count": 340,
   "id": "7914f6c1-cb7f-4013-b5b9-8f2ea8a66047",
   "metadata": {},
   "outputs": [
    {
     "name": "stdout",
     "output_type": "stream",
     "text": [
      "Cell execution time: 0.000 seconds\n"
     ]
    }
   ],
   "source": [
    "# first estimate of text placement around bounding box \n",
    "font_dict = {i:(np.floor(xw/4).astype(int)-8,np.floor(xw/2).astype(int)) for i in df.ROILabel.values}"
   ]
  },
  {
   "cell_type": "code",
   "execution_count": 341,
   "id": "50fa80fc-789f-4693-b1d8-1ddb8cd2a5b0",
   "metadata": {},
   "outputs": [
    {
     "name": "stdout",
     "output_type": "stream",
     "text": [
      "Cell execution time: 1.206 seconds\n"
     ]
    }
   ],
   "source": [
    "# second estimate of text placement\n",
    "for bbf in bb_fns:\n",
    "    roi=bbf.split(\"_\")[-1].split(\".npy\")[0]\n",
    "    roi=int(roi)\n",
    "    if roi not in df[\"ROILabel\"].values:\n",
    "        continue\n",
    "\n",
    "    # bounding box \n",
    "    bb_mat = np.load(bbf)\n",
    "\n",
    "    # resized bounding box used for estimates in text placement along y-axis  \n",
    "    bbr_mat = cv2.resize(bb_mat.astype(float), (xw*2,xw*2), interpolation=cv2.INTER_LANCZOS4)\n",
    "\n",
    "    bbr_mat[bbr_mat>0.33] = 2\n",
    "    font_dict[roi] = (font_dict[roi][0],np.where(bbr_mat.sum(1)>0)[0][0]-50)\n",
    "    if roi == 23:\n",
    "        font_dict[roi] = (font_dict[roi][0],np.where(bbr_mat.sum(1)>0)[0][-1]+1100)\n",
    "    if roi == 25:\n",
    "        font_dict[roi] = (font_dict[roi][0],np.where(bbr_mat.sum(1)>0)[0][-1]+1100)\n",
    "    if roi == 19:\n",
    "        font_dict[roi] = (font_dict[roi][0]+400,np.where(bbr_mat.sum(1)>0)[0][-1]+900)\n",
    "    if roi == 1:\n",
    "        font_dict[roi] = (font_dict[roi][0],np.where(bbr_mat.sum(1)>0)[0][-1]+1100)\n",
    "    if roi == 2:\n",
    "        font_dict[roi] = (font_dict[roi][0],np.where(bbr_mat.sum(1)>0)[0][-1]+1100)\n",
    "    if roi == 17:\n",
    "        font_dict[roi] = (font_dict[roi][0],np.where(bbr_mat.sum(1)>0)[0][-1]+1100)\n",
    "    if roi == 16:\n",
    "        font_dict[roi] = (font_dict[roi][0]+800,np.where(bbr_mat.sum(1)>0)[0][-1]+600)\n",
    "    if roi == 21:\n",
    "        font_dict[roi] = (font_dict[roi][0]+500,font_dict[roi][1])\n",
    "    if roi == 18:\n",
    "        font_dict[roi] = (font_dict[roi][0]+400,font_dict[roi][1]+100)\n",
    "    if roi == 20:\n",
    "        font_dict[roi] = (font_dict[roi][0]-200,font_dict[roi][1])\n",
    "    if roi == 15:\n",
    "        font_dict[roi] = (font_dict[roi][0]-200,font_dict[roi][1])\n",
    "    if roi == 14:\n",
    "        font_dict[roi] = (font_dict[roi][0]-700,np.where(bbr_mat.sum(1)>0)[0][-1]+300)\n",
    "\n",
    "    if roi == 3:\n",
    "        font_dict[roi] = (font_dict[roi][0]+500,font_dict[roi][1]+200)\n",
    "    if roi == 4:\n",
    "        font_dict[roi] = (font_dict[roi][0]+600,font_dict[roi][1]+800)\n",
    "    if roi == 5:\n",
    "        font_dict[roi] = (font_dict[roi][0]-800,font_dict[roi][1]+1000)\n",
    "    if roi == 6:\n",
    "        font_dict[roi] = (font_dict[roi][0]+100,font_dict[roi][1])\n",
    "    if roi == 7:\n",
    "        font_dict[roi] = (font_dict[roi][0]+100,font_dict[roi][1])\n",
    "\n",
    "    if roi == 13:\n",
    "        font_dict[roi] = (font_dict[roi][0],font_dict[roi][1]+1300)\n",
    "    if roi == 12:\n",
    "        font_dict[roi] = (font_dict[roi][0]-600,font_dict[roi][1]+1200)\n",
    "    if roi == 10:\n",
    "        font_dict[roi] = (font_dict[roi][0]-700,font_dict[roi][1]+700)"
   ]
  },
  {
   "cell_type": "code",
   "execution_count": 342,
   "id": "1bc731c2-6667-4ba0-b076-684ba6745f95",
   "metadata": {},
   "outputs": [
    {
     "name": "stdout",
     "output_type": "stream",
     "text": [
      "Cell execution time: 13.690 seconds\n"
     ]
    }
   ],
   "source": [
    "# iterate through each file, place the bounding box and text \n",
    "for bbf in bb_fns:\n",
    "    # getting ROI and loading bounding box \n",
    "    roi=bbf.split(\"_\")[-1].split(\".npy\")[0]\n",
    "    roi=int(roi)\n",
    "    if roi not in df[\"ROILabel\"].values:\n",
    "        continue\n",
    "\n",
    "    bb_mat = np.load(bbf)\n",
    "\n",
    "    ry,rx=df.loc[df[\"ROILabel\"]==roi,[\"ROICoordinateX\",\"ROICoordinateY\"]].values[0]\n",
    "    ry=np.int64(ry)\n",
    "    rx=np.int64(rx)\n",
    "\n",
    "    # bounding box has its middle filled in using contours \n",
    "    bbr_mat = cv2.resize(bb_mat.astype(float), (xw*2,xw*2), interpolation=cv2.INTER_LANCZOS4)\n",
    "\n",
    "    bbr_bin = (bbr_mat > 0).astype(np.uint8)        \n",
    "    contours, _ = cv2.findContours(\n",
    "        bbr_bin, cv2.RETR_EXTERNAL, cv2.CHAIN_APPROX_SIMPLE\n",
    "    )\n",
    "\n",
    "    fill_color = 2                                \n",
    "    cv2.drawContours(bbr_mat, contours, -1, fill_color, thickness=-1)\n",
    "    \n",
    "    bbr_mat[bbr_mat>0.33] = roi\n",
    "\n",
    "    region_mask = mask[(rx-xw):(rx+xw),(ry-xw):(ry+xw)].toarray()\n",
    "    \n",
    "    # we do not want to lose surrounding annotations from past spots \n",
    "    max_mat = np.maximum(region_mask, bbr_mat)\n",
    "\n",
    "    # padded space placing text (at current font scale extends beyond xw) \n",
    "    pad = 800\n",
    "    padded_mat = cv2.copyMakeBorder(\n",
    "        max_mat.astype(np.uint8),\n",
    "        pad, pad, pad, pad,\n",
    "        borderType=cv2.BORDER_CONSTANT,\n",
    "        value=0\n",
    "    )\n",
    "\n",
    "    text_mask = np.zeros_like(padded_mat)\n",
    "    font = cv2.FONT_HERSHEY_COMPLEX\n",
    "    font_scale = 24\n",
    "    thickness = 48\n",
    "    position = (xw-font_dict[roi][0]+400, font_dict[roi][1]+500)  \n",
    "    white_color = (1) \n",
    "\n",
    "    # placing these three text boxes afterwards due to spot location \n",
    "    if roi in [8,9,11]:\n",
    "        pass\n",
    "    else:\n",
    "        cv2.putText(text_mask, str(roi).zfill(2), position, font, font_scale, white_color, thickness)\n",
    "\n",
    "    \n",
    "    padded_mat[text_mask > 0] = 100 + roi \n",
    "\n",
    "    r0 = rx - xw - pad\n",
    "    r1 = rx + xw + pad\n",
    "    c0 = ry - xw - pad\n",
    "    c1 = ry + xw + pad\n",
    "\n",
    "    sub_mask = mask[r0:r1, c0:c1].copy()\n",
    "    sub_mask = sub_mask.toarray()\n",
    "\n",
    "    # mask has encoding for each spot bounding box (roi int) and text (roi + 100 int) \n",
    "    mask[r0:r1, c0:c1] = np.maximum(sub_mask, padded_mat)\n",
    "    "
   ]
  },
  {
   "cell_type": "code",
   "execution_count": 343,
   "id": "abcd583c-7efb-4959-8e9e-dcb48781b95a",
   "metadata": {},
   "outputs": [
    {
     "name": "stdout",
     "output_type": "stream",
     "text": [
      "Cell execution time: 2.094 seconds\n"
     ]
    }
   ],
   "source": [
    "# using ROI 11 as the anchor for these three spots \n",
    "roi=11\n",
    "ry,rx=df.loc[df[\"ROILabel\"]==roi,[\"ROICoordinateX\",\"ROICoordinateY\"]].values[0]\n",
    "ry=np.int64(ry)\n",
    "rx=np.int64(rx)\n",
    "max_mat = mask[(rx-xw):(rx+xw),(ry-xw):(ry+xw)].toarray().copy()\n",
    "\n",
    "pad = 2000\n",
    "padded_mat = cv2.copyMakeBorder(\n",
    "    max_mat.astype(np.uint8),\n",
    "    pad, pad, pad, pad,\n",
    "    borderType=cv2.BORDER_CONSTANT,\n",
    "    value=0\n",
    ")\n",
    "\n",
    "text_mask = np.zeros_like(padded_mat)\n",
    "font = cv2.FONT_HERSHEY_COMPLEX\n",
    "font_scale = 24\n",
    "thickness = 48\n",
    "white_color = (1) \n",
    "\n",
    "# relative position of text boxes \n",
    "pos_adj_x = 1300\n",
    "pos_adj_y = -400\n",
    "position = (900+pos_adj_x, 1600+pos_adj_y)  \n",
    "cv2.putText(text_mask, str(8).zfill(2), position, font, font_scale, white_color, thickness)\n",
    "position = (2000+pos_adj_x, 1000+pos_adj_y)  \n",
    "cv2.putText(text_mask, str(9).zfill(2), position, font, font_scale, white_color, thickness)\n",
    "position = (2000+pos_adj_x, 1800+pos_adj_y)  \n",
    "cv2.putText(text_mask, str(11).zfill(2), position, font, font_scale, white_color, thickness)\n",
    "\n",
    "padded_mat[text_mask > 0] = 100 + roi \n",
    "\n",
    "r0 = rx - xw - pad\n",
    "r1 = rx + xw + pad\n",
    "c0 = ry - xw - pad\n",
    "c1 = ry + xw + pad\n",
    "\n",
    "sub_mask = mask[r0:r1, c0:c1].copy()\n",
    "sub_mask = sub_mask.toarray()\n",
    "\n",
    "mask[r0:r1, c0:c1] = np.maximum(sub_mask, padded_mat)"
   ]
  },
  {
   "cell_type": "code",
   "execution_count": 344,
   "id": "e66a98c3-a0f2-48a1-a34f-c0d981c03d45",
   "metadata": {},
   "outputs": [
    {
     "name": "stdout",
     "output_type": "stream",
     "text": [
      "Cell execution time: 0.163 seconds\n"
     ]
    }
   ],
   "source": [
    "# simplify mask codes to just distinguish text and bounding boxes \n",
    "csr_mask = mask.tocsr()\n",
    "d = csr_mask.data\n",
    "d[(d > 1) & (d < 100)] = 1\n",
    "d[d >= 100] = 2\n",
    "mask = csr_mask.toarray()"
   ]
  },
  {
   "cell_type": "code",
   "execution_count": 345,
   "id": "c2434b09-2d29-4ede-b530-ca8b31556013",
   "metadata": {},
   "outputs": [
    {
     "data": {
      "text/plain": [
       "<matplotlib.image.AxesImage at 0x1515c6d50>"
      ]
     },
     "execution_count": 345,
     "metadata": {},
     "output_type": "execute_result"
    },
    {
     "data": {
      "image/png": "[encoded data removed]",
      "text/plain": [
       "<Figure size 1200x1200 with 1 Axes>"
      ]
     },
     "metadata": {},
     "output_type": "display_data"
    },
    {
     "name": "stdout",
     "output_type": "stream",
     "text": [
      "Cell execution time: 8.254 seconds\n"
     ]
    }
   ],
   "source": [
    "# downsize mask and plot to see if placement is adequate \n",
    "mask_small = cv2.resize(mask, (mask.shape[1]//4, mask.shape[0]//4),\n",
    "                         interpolation=cv2.INTER_NEAREST)\n",
    "fig,ax=plt.subplots(figsize=(12,12))\n",
    "plt.imshow(mask_small)"
   ]
  },
  {
   "cell_type": "code",
   "execution_count": 346,
   "id": "085f54ef-b822-4a1a-a16a-c5fc735e1ce1",
   "metadata": {},
   "outputs": [
    {
     "name": "stdout",
     "output_type": "stream",
     "text": [
      "Cell execution time: 81.966 seconds\n"
     ]
    }
   ],
   "source": [
    "# downsize image \n",
    "img_small  = cv2.resize(img,   (img.shape[1]//4, img.shape[0]//4),\n",
    "                         interpolation=cv2.INTER_AREA)\n",
    "img_small = cv2.cvtColor((img_small * 255).clip(0, 255).astype(np.uint8), cv2.COLOR_RGB2BGR)"
   ]
  },
  {
   "cell_type": "code",
   "execution_count": 347,
   "id": "35a5220d-44c8-4c58-996d-7c7d7e9cf5eb",
   "metadata": {},
   "outputs": [
    {
     "data": {
      "text/plain": [
       "True"
      ]
     },
     "execution_count": 347,
     "metadata": {},
     "output_type": "execute_result"
    },
    {
     "name": "stdout",
     "output_type": "stream",
     "text": [
      "Cell execution time: 4.841 seconds\n"
     ]
    }
   ],
   "source": [
    "# save image using mask overlay \n",
    "mask_small = (mask_small > 0).astype(np.uint8)\n",
    "\n",
    "\n",
    "overlay = np.zeros_like(img_small, dtype=np.uint8)\n",
    "overlay[mask_small == 1] = (255, 255, 255)  \n",
    "\n",
    "alpha = 0.5                                 \n",
    "blended = cv2.addWeighted(img_small, 1.0,\n",
    "                          overlay,   alpha, 0)\n",
    "\n",
    "cv2.imwrite(\"../plots/ptb221_label.png\", blended)"
   ]
  },
  {
   "cell_type": "code",
   "execution_count": null,
   "id": "f90d345d-444f-47d0-8ada-54ca7d425293",
   "metadata": {},
   "outputs": [],
   "source": []
  }
 ],
 "metadata": {
  "kernelspec": {
   "display_name": "scvi",
   "language": "python",
   "name": "scvi"
  },
  "language_info": {
   "codemirror_mode": {
    "name": "ipython",
    "version": 3
   },
   "file_extension": ".py",
   "mimetype": "text/x-python",
   "name": "python",
   "nbconvert_exporter": "python",
   "pygments_lexer": "ipython3",
   "version": "3.11.11"
  }
 },
 "nbformat": 4,
 "nbformat_minor": 5
}
