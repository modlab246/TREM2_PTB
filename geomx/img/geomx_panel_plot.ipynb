{
 "cells": [
  {
   "cell_type": "code",
   "execution_count": 1,
   "id": "bff132d2-7299-4e1d-b510-58123eefd377",
   "metadata": {},
   "outputs": [],
   "source": [
    "import os\n",
    "import cv2\n",
    "import matplotlib.pyplot as plt\n",
    "import matplotlib.patches as patches\n",
    "import pandas as pd\n",
    "from matplotlib.lines import Line2D"
   ]
  },
  {
   "cell_type": "code",
   "execution_count": 2,
   "id": "e99b6ac7-c734-4340-9a36-808899d72319",
   "metadata": {},
   "outputs": [],
   "source": [
    "# configuration \n",
    "IMAGE_DIR    = \"../bb_comp\"   \n",
    "COLS, ROWS   = 6, 10\n",
    "SCALE        = 0.25\n",
    "BORDER_WIDTH = 40\n",
    "GUTTER       = BORDER_WIDTH*0.8\n",
    "GROUP_COLORS = {\n",
    "    \"PTB211\" : (1.0, 0.0, 0.0),\n",
    "    \"PTB221\" : (0.0, 1.0, 0.0),\n",
    "    \"PTB222\" : (0.0, 0.0, 1.0),\n",
    "    \"PTB223\" : (1.0, 1.0, 0.0),\n",
    "}\n",
    "PATCH_LETTER = \"PTB 22.1 - 00\"\n",
    "PATCH_COLOR  = (1.0, 0.853, 0.725, 0.3) \n",
    "FONTSIZE     = 7\n",
    "DPI          = 800"
   ]
  },
  {
   "cell_type": "code",
   "execution_count": 3,
   "id": "aaf4c9ed-72dd-4473-b25a-78df43d3138e",
   "metadata": {},
   "outputs": [],
   "source": [
    "# metadata master key with annotations \n",
    "df = pd.read_excel(\"../data/geomx_annotations_all_batches_only_ptb.xlsx\")\n",
    "counts = pd.read_csv(\"../data/geomx_ptb_headers.csv\",index_col=0)\n",
    "count_names = [x.split(\" | \")[1].replace(\" \", \"\")+ \"-\"+str(int(x.split(\" | \")[2])) for x in counts.columns]"
   ]
  },
  {
   "cell_type": "code",
   "execution_count": 4,
   "id": "ab277761-9d72-4d25-88df-ed0eab657957",
   "metadata": {},
   "outputs": [],
   "source": [
    "# color mapping for spot frames \n",
    "region_color_map = {\n",
    "    \"Alveoli\": \"#F8766D\",\n",
    "    \"Core\": \"#00BA38\",\n",
    "    \"Mantle\": \"#619CFF\"\n",
    "}\n"
   ]
  },
  {
   "cell_type": "code",
   "execution_count": 5,
   "id": "60e994ed-240d-4c55-9f84-c058bbe36ff5",
   "metadata": {},
   "outputs": [],
   "source": [
    "# gather files\n",
    "files = sorted(\n",
    "    (f for f in os.listdir(IMAGE_DIR) if f.lower().endswith('.png')),\n",
    "    key=lambda f: (f.split('_')[0], int(os.path.splitext(f)[0].split('_')[1]))\n",
    ")\n",
    "\n",
    "# pixel dimensions of first file \n",
    "sample = cv2.imread(os.path.join(IMAGE_DIR, files[0]), cv2.IMREAD_UNCHANGED)\n",
    "h0, w0 = sample.shape[:2]\n",
    "tile_w, tile_h = int(w0 * SCALE), int(h0 * SCALE)"
   ]
  },
  {
   "cell_type": "code",
   "execution_count": 6,
   "id": "167b1651-6218-4f89-8bb5-82319899dec7",
   "metadata": {},
   "outputs": [],
   "source": [
    "# we only want to keep the spots that are alveoli, core, or mantle \n",
    "subfiles = []\n",
    "for fname in files:\n",
    "    ptb,roi=fname.split(\"_\")\n",
    "    ptb=ptb[:-1]+\".\"+ptb[-1]\n",
    "    roi=int(roi.split(\".png\")[0])\n",
    "\n",
    "    if ptb+\"-\"+str(roi) not in count_names:\n",
    "        continue\n",
    "\n",
    "    border_anno = df.loc[(df[\"Scan name\"]==ptb) & (df[\"ROI\"]==roi),\"Sub-classification\"].values[0]\n",
    "\n",
    "    # GeoMx spots that were excluded \n",
    "    if border_anno in ['Giant-mantle','Fibrosis','Infiltrate']:\n",
    "        continue\n",
    "\n",
    "    subfiles += [fname]"
   ]
  },
  {
   "cell_type": "code",
   "execution_count": 7,
   "id": "a02b5a01-c027-4625-bc77-f9cc99ab5ae4",
   "metadata": {},
   "outputs": [
    {
     "data": {
      "text/plain": [
       "<Figure size 640x480 with 0 Axes>"
      ]
     },
     "metadata": {},
     "output_type": "display_data"
    }
   ],
   "source": [
    "fig, axes = plt.subplots(ROWS, COLS,\n",
    "                         figsize=((tile_w + GUTTER) * COLS / DPI,\n",
    "                                  (tile_h + GUTTER) * ROWS / DPI),\n",
    "                         dpi=DPI)\n",
    "plt.subplots_adjust(wspace=GUTTER/tile_w, hspace=GUTTER/tile_h)\n",
    "\n",
    "# for each grid element, plot the spot and a frame in its color \n",
    "for ax, fname in zip(axes.flat, subfiles):\n",
    "    ptb,roi=fname.split(\"_\")\n",
    "    ptb=ptb[:-1]+\".\"+ptb[-1]\n",
    "    roi=int(roi.split(\".png\")[0])\n",
    "\n",
    "    border_anno = df.loc[(df[\"Scan name\"]==ptb) & (df[\"ROI\"]==roi),\"Sub-classification\"].values[0]\n",
    "\n",
    "    # we are considering giant spots as cores \n",
    "    if border_anno == 'Giant':\n",
    "        border_anno = \"Core\"\n",
    "    border_color = region_color_map[border_anno]\n",
    "    \n",
    "    # load & scale\n",
    "    img = cv2.imread(os.path.join(IMAGE_DIR, fname), cv2.IMREAD_UNCHANGED)\n",
    "    img = cv2.resize(img, (tile_w, tile_h), interpolation=cv2.INTER_AREA)\n",
    "    img = cv2.cvtColor(img, cv2.COLOR_BGR2RGB)\n",
    "\n",
    "    ax.imshow(\n",
    "        img,\n",
    "        extent=(0, 1, 0, 1),\n",
    "        aspect='auto',\n",
    "        interpolation='nearest',\n",
    "        zorder=0\n",
    "    )\n",
    "    ax.set_xticks([])\n",
    "    ax.set_yticks([])\n",
    "    \n",
    "    # recolor & thin all four spines to white\n",
    "    for spine in ax.spines.values():\n",
    "        spine.set_visible(True)        \n",
    "        spine.set_edgecolor(\"white\")  \n",
    "        spine.set_linewidth(0.5)    \n",
    "        spine.set_zorder(3)   \n",
    "\n",
    "    \n",
    "    if roi < 10:\n",
    "        roi=\"0\"+str(roi)\n",
    "    else:\n",
    "        roi=str(roi)\n",
    "        \n",
    "    rect = patches.Rectangle((0,0), 1, 1,\n",
    "                             transform=ax.transAxes,\n",
    "                             linewidth=BORDER_WIDTH * 1.25 * 72.0 / DPI, \n",
    "                             edgecolor=border_color,\n",
    "                             facecolor=\"none\")\n",
    "    ax.add_patch(rect)\n",
    "\n",
    "    # place a title in top left corner of each image \n",
    "    ax.text(\n",
    "        0.0 + 0.075, 1.0 - 0.075,\n",
    "        ptb[3:] + \"-\" + roi,\n",
    "        transform=ax.transAxes,\n",
    "        fontsize=FONTSIZE,\n",
    "        fontweight=\"normal\",\n",
    "        color=\"white\",\n",
    "        va=\"top\", ha=\"left\"\n",
    "    )\n",
    "\n",
    "# turn off axis for last cell to plot legend \n",
    "for ax in axes.flat[len(subfiles):]:\n",
    "    ax.axis(\"off\")\n",
    "\n",
    "\n",
    "legend_labels = [\"Alveoli\",\"Core\", \"Mantle\"]\n",
    "legend_ax = axes.flat[len(subfiles)]\n",
    "legend_handles = [\n",
    "    Line2D([0], [0], marker='s', color='none', label=legend_labels[0],\n",
    "           markerfacecolor=region_color_map[legend_labels[0]], markersize=10, markeredgecolor='white'),\n",
    "    Line2D([0], [0], marker='s', color='none', label=legend_labels[1],\n",
    "           markerfacecolor=region_color_map[legend_labels[1]], markersize=10, markeredgecolor='white'),\n",
    "    Line2D([0], [0], marker='s', color='none', label=legend_labels[2],\n",
    "           markerfacecolor=region_color_map[legend_labels[2]], markersize=10, markeredgecolor='white')\n",
    "]\n",
    "\n",
    "legend_ax.legend(\n",
    "    handles=legend_handles,\n",
    "    loc='center',\n",
    "    fontsize=FONTSIZE*1.8,\n",
    "    markerscale=1.5,\n",
    "    frameon=False,\n",
    "    labelspacing=1\n",
    ")\n",
    "\n",
    "plt.savefig(\"../plots/composite_ACM.png\", dpi=DPI, bbox_inches=\"tight\")\n",
    "plt.close(fig)\n",
    "plt.clf()"
   ]
  },
  {
   "cell_type": "code",
   "execution_count": null,
   "id": "e262aec3-5447-4c88-bf16-eb74c12a2d61",
   "metadata": {},
   "outputs": [],
   "source": []
  },
  {
   "cell_type": "code",
   "execution_count": null,
   "id": "f76dfc0a-8d0f-4380-96b9-4699a0819833",
   "metadata": {},
   "outputs": [],
   "source": []
  }
 ],
 "metadata": {
  "kernelspec": {
   "display_name": "scvi",
   "language": "python",
   "name": "scvi"
  },
  "language_info": {
   "codemirror_mode": {
    "name": "ipython",
    "version": 3
   },
   "file_extension": ".py",
   "mimetype": "text/x-python",
   "name": "python",
   "nbconvert_exporter": "python",
   "pygments_lexer": "ipython3",
   "version": "3.11.11"
  }
 },
 "nbformat": 4,
 "nbformat_minor": 5
}
