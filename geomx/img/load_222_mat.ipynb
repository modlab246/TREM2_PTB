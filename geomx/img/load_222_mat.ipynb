{
 "cells": [
  {
   "cell_type": "code",
   "execution_count": 1,
   "id": "5905505c-967f-4896-91f1-5a90d54f6ab7",
   "metadata": {},
   "outputs": [],
   "source": [
    "from IPython.core.events import EventManager\n",
    "from IPython import get_ipython\n",
    "import time\n",
    "\n",
    "global_start_time = None\n",
    "\n",
    "def start_timer(event):\n",
    "    global global_start_time\n",
    "    global_start_time = time.time()\n",
    "\n",
    "def stop_timer(event):\n",
    "    global global_start_time\n",
    "    if global_start_time:\n",
    "        duration = time.time() - global_start_time\n",
    "        print(f\"Cell execution time: {duration:.3f} seconds\")\n",
    "        global_start_time = None\n",
    "\n",
    "ip = get_ipython()\n",
    "ip.events.register('pre_run_cell', start_timer)\n",
    "ip.events.register('post_run_cell', stop_timer)"
   ]
  },
  {
   "cell_type": "code",
   "execution_count": 2,
   "id": "53f0087a-d468-48b9-aabe-9d66238d7f6d",
   "metadata": {},
   "outputs": [
    {
     "name": "stdout",
     "output_type": "stream",
     "text": [
      "Cell execution time: 1.217 seconds\n"
     ]
    }
   ],
   "source": [
    "from skimage import io \n",
    "import pandas as pd \n",
    "import matplotlib.pyplot as plt\n",
    "import gc\n",
    "import numpy as np\n",
    "from glob import glob \n",
    "import cv2\n",
    "import matplotlib.colors as mcolors\n",
    "from scipy.sparse import lil_matrix"
   ]
  },
  {
   "cell_type": "code",
   "execution_count": 4,
   "id": "d4b7532e-edb8-43b9-9179-2fd2d3a02259",
   "metadata": {},
   "outputs": [
    {
     "name": "stdout",
     "output_type": "stream",
     "text": [
      "Cell execution time: 0.000 seconds\n"
     ]
    }
   ],
   "source": [
    "red_denom = 2**16\n",
    "blue_denom = 2**14\n",
    "green_denom = 2**15\n",
    "yellow_denom = 2**13\n",
    "\n",
    "blue_adjust = 0.9    \n",
    "yellow_adjust = 0.8  \n",
    "red_adjust = 1.3 \n",
    "green_adjust = 1.6\n",
    "\n",
    "gamma = 1.1"
   ]
  },
  {
   "cell_type": "code",
   "execution_count": 5,
   "id": "c095950f-da91-42c6-b4f1-cce7fb13da47",
   "metadata": {},
   "outputs": [
    {
     "data": {
      "text/plain": [
       "266"
      ]
     },
     "execution_count": 5,
     "metadata": {},
     "output_type": "execute_result"
    },
    {
     "name": "stdout",
     "output_type": "stream",
     "text": [
      "Cell execution time: 160.733 seconds\n"
     ]
    }
   ],
   "source": [
    "imgR = io.imread(\"../channel/PTB22.2_Red.tiff\")\n",
    "rawR = np.clip(imgR /     red_denom,    0, 1)\n",
    "imgR_norm = np.power(rawR, gamma) * red_adjust\n",
    "del rawR\n",
    "del imgR\n",
    "\n",
    "gc.collect()"
   ]
  },
  {
   "cell_type": "code",
   "execution_count": 6,
   "id": "472e1825-3a27-45f5-ada6-0f881df8cb12",
   "metadata": {},
   "outputs": [
    {
     "data": {
      "text/plain": [
       "266"
      ]
     },
     "execution_count": 6,
     "metadata": {},
     "output_type": "execute_result"
    },
    {
     "name": "stdout",
     "output_type": "stream",
     "text": [
      "Cell execution time: 163.086 seconds\n"
     ]
    }
   ],
   "source": [
    "imgY = io.imread(\"../channel/PTB22.2_Yellow.tiff\")\n",
    "rawY = np.clip(imgY / yellow_denom,    0, 1)\n",
    "imgY_norm = np.power(rawY, gamma) * yellow_adjust\n",
    "del rawY\n",
    "del imgY\n",
    "gc.collect()"
   ]
  },
  {
   "cell_type": "code",
   "execution_count": 7,
   "id": "615ef5b8-237b-4922-966c-db0ee9dbfdc3",
   "metadata": {},
   "outputs": [
    {
     "data": {
      "text/plain": [
       "0"
      ]
     },
     "execution_count": 7,
     "metadata": {},
     "output_type": "execute_result"
    },
    {
     "name": "stdout",
     "output_type": "stream",
     "text": [
      "Cell execution time: 129.377 seconds\n"
     ]
    }
   ],
   "source": [
    "imgR_final = np.clip(imgR_norm + imgY_norm, 0, 1)\n",
    "del imgR_norm\n",
    "gc.collect()"
   ]
  },
  {
   "cell_type": "code",
   "execution_count": 8,
   "id": "74941335-9dd7-4961-b959-17c5a1c8f950",
   "metadata": {},
   "outputs": [
    {
     "data": {
      "text/plain": [
       "266"
      ]
     },
     "execution_count": 8,
     "metadata": {},
     "output_type": "execute_result"
    },
    {
     "name": "stdout",
     "output_type": "stream",
     "text": [
      "Cell execution time: 150.946 seconds\n"
     ]
    }
   ],
   "source": [
    "imgG = io.imread(\"../channel/PTB22.2_Green.tiff\")\n",
    "rawG = np.clip(imgG /   green_denom,    0, 1)\n",
    "imgG_norm = np.power(rawG, gamma) * green_adjust\n",
    "del rawG\n",
    "del imgG\n",
    "gc.collect()"
   ]
  },
  {
   "cell_type": "code",
   "execution_count": 9,
   "id": "03583dc7-c84d-49e1-969d-cf5e3d845957",
   "metadata": {},
   "outputs": [
    {
     "data": {
      "text/plain": [
       "0"
      ]
     },
     "execution_count": 9,
     "metadata": {},
     "output_type": "execute_result"
    },
    {
     "name": "stdout",
     "output_type": "stream",
     "text": [
      "Cell execution time: 141.084 seconds\n"
     ]
    }
   ],
   "source": [
    "imgG_final = np.clip(imgG_norm + imgY_norm, 0, 1)\n",
    "del imgY_norm\n",
    "del imgG_norm\n",
    "gc.collect()"
   ]
  },
  {
   "cell_type": "code",
   "execution_count": 10,
   "id": "f42dc9b6-a301-4f4d-9707-1c9b8fecfa48",
   "metadata": {},
   "outputs": [
    {
     "name": "stdout",
     "output_type": "stream",
     "text": [
      "Cell execution time: 143.889 seconds\n"
     ]
    }
   ],
   "source": [
    "imgB = io.imread(\"../channel/PTB22.2_Blue.tiff\")\n",
    "rawB = np.clip(imgB /    blue_denom,    0, 1)\n",
    "imgB_norm = np.power(rawB, gamma) * blue_adjust\n",
    "del rawB\n",
    "del imgB"
   ]
  },
  {
   "cell_type": "code",
   "execution_count": 11,
   "id": "639b4819-162a-4ac8-8edb-b019657d113f",
   "metadata": {},
   "outputs": [
    {
     "name": "stdout",
     "output_type": "stream",
     "text": [
      "Cell execution time: 13.452 seconds\n"
     ]
    }
   ],
   "source": [
    "imgB_final = np.clip(imgB_norm, 0, 1)"
   ]
  },
  {
   "cell_type": "code",
   "execution_count": 12,
   "id": "55740b95-3cf9-4141-952e-3f40b52c2c24",
   "metadata": {},
   "outputs": [
    {
     "name": "stdout",
     "output_type": "stream",
     "text": [
      "Cell execution time: 1.720 seconds\n"
     ]
    }
   ],
   "source": [
    "del imgB_norm"
   ]
  },
  {
   "cell_type": "code",
   "execution_count": 13,
   "id": "df7d1100-2880-4553-b3d7-c1597c7909b6",
   "metadata": {},
   "outputs": [
    {
     "name": "stdout",
     "output_type": "stream",
     "text": [
      "Cell execution time: 500.245 seconds\n"
     ]
    }
   ],
   "source": [
    "# full composite scan, requires lot of memory \n",
    "img = np.stack((imgR_final,imgG_final, imgB_final), -1)"
   ]
  },
  {
   "cell_type": "code",
   "execution_count": 21,
   "id": "1be16f74-c7d1-4256-87ff-d6cc6b1912bf",
   "metadata": {},
   "outputs": [
    {
     "name": "stdout",
     "output_type": "stream",
     "text": [
      "Cell execution time: 0.000 seconds\n"
     ]
    }
   ],
   "source": [
    "del imgR_final\n",
    "del imgG_final\n",
    "del imgB_final"
   ]
  },
  {
   "cell_type": "code",
   "execution_count": 22,
   "id": "32e921cf-f73f-47ae-9065-c2cb32091f98",
   "metadata": {},
   "outputs": [
    {
     "data": {
      "text/plain": [
       "1801"
      ]
     },
     "execution_count": 22,
     "metadata": {},
     "output_type": "execute_result"
    },
    {
     "name": "stdout",
     "output_type": "stream",
     "text": [
      "Cell execution time: 0.049 seconds\n"
     ]
    }
   ],
   "source": [
    "gc.collect()"
   ]
  },
  {
   "cell_type": "code",
   "execution_count": 23,
   "id": "7a1e9bef-f2c4-4887-8986-50d5b3a4bba3",
   "metadata": {},
   "outputs": [
    {
     "name": "stdout",
     "output_type": "stream",
     "text": [
      "Cell execution time: 0.819 seconds\n"
     ]
    },
    {
     "name": "stderr",
     "output_type": "stream",
     "text": [
      "/Users/jperrie/miniconda3/envs/scvi/lib/python3.11/site-packages/openpyxl/styles/stylesheet.py:226: UserWarning: Workbook contains no default style, apply openpyxl's default\n",
      "  warn(\"Workbook contains no default style, apply openpyxl's default\")\n"
     ]
    }
   ],
   "source": [
    "df = pd.read_excel(\"../data/geomx_222.xlsx\",sheet_name=\"SegmentProperties\")\n",
    "df = df.loc[df[\"SlideName\"]==\"PTB22.2\"]\n",
    "df = df[[\"ROILabel\",\"ROICoordinateX\",\"ROICoordinateY\",\"AOISurfaceArea\"]]"
   ]
  },
  {
   "cell_type": "code",
   "execution_count": 26,
   "id": "95fa7c44-7bee-447f-bd23-8f7ccf9e08a4",
   "metadata": {},
   "outputs": [
    {
     "name": "stdout",
     "output_type": "stream",
     "text": [
      "Cell execution time: 0.001 seconds\n"
     ]
    }
   ],
   "source": [
    "bb_fns = glob(\"../bb_mask/PTB222*\")"
   ]
  },
  {
   "cell_type": "code",
   "execution_count": 76,
   "id": "ad247297-e54b-4fb7-bb4b-4d188cba3061",
   "metadata": {},
   "outputs": [
    {
     "name": "stdout",
     "output_type": "stream",
     "text": [
      "Cell execution time: 0.039 seconds\n"
     ]
    }
   ],
   "source": [
    "img_path = \"../bb_annot/PTB222_1.png\"\n",
    "tmp_img=plt.imread(img_path)\n",
    "xw = np.floor(tmp_img.shape[1]/2).astype(int)"
   ]
  },
  {
   "cell_type": "code",
   "execution_count": 83,
   "id": "6a0bb630-bd40-4e5f-a41a-5e1af29798f2",
   "metadata": {},
   "outputs": [
    {
     "name": "stdout",
     "output_type": "stream",
     "text": [
      "Cell execution time: 0.202 seconds\n"
     ]
    }
   ],
   "source": [
    "mask = lil_matrix(img.shape[:2], dtype=np.uint8)"
   ]
  },
  {
   "cell_type": "code",
   "execution_count": 84,
   "id": "7914f6c1-cb7f-4013-b5b9-8f2ea8a66047",
   "metadata": {},
   "outputs": [
    {
     "name": "stdout",
     "output_type": "stream",
     "text": [
      "Cell execution time: 0.000 seconds\n"
     ]
    }
   ],
   "source": [
    "# first estimate of text placement around bounding box \n",
    "font_dict = {i:(np.floor(xw/4).astype(int)-22,np.floor(xw/2).astype(int)) for i in df.ROILabel.values}"
   ]
  },
  {
   "cell_type": "code",
   "execution_count": 85,
   "id": "e458b93c-3899-496a-9f1c-e463b371fefe",
   "metadata": {},
   "outputs": [
    {
     "name": "stdout",
     "output_type": "stream",
     "text": [
      "Cell execution time: 1.334 seconds\n"
     ]
    }
   ],
   "source": [
    "# second estimate of text placement \n",
    "for bbf in bb_fns:\n",
    "    roi=bbf.split(\"_\")[-1].split(\".npy\")[0]\n",
    "    roi=int(roi)\n",
    "    if roi not in df[\"ROILabel\"].values:\n",
    "        continue\n",
    "\n",
    "    # bounding box \n",
    "    bb_mat = np.load(bbf)\n",
    "\n",
    "    # resized bounding box used for estimates in text placement along y-axis \n",
    "    bbr_mat = cv2.resize(bb_mat.astype(float), (xw*2,xw*2), interpolation=cv2.INTER_LANCZOS4)\n",
    "\n",
    "    font_dict[roi] = (font_dict[roi][0],np.where(bbr_mat.sum(1)>0)[0][0])\n",
    "    if roi == 9:\n",
    "        font_dict[roi] = (font_dict[roi][0],np.where(bbr_mat.sum(1)>0)[0][-1]+1100)\n",
    "    if roi == 23:\n",
    "        font_dict[roi] = (font_dict[roi][0],np.where(bbr_mat.sum(1)>0)[0][-1]+1100)\n",
    "    if roi == 25:\n",
    "        font_dict[roi] = (font_dict[roi][0]-300,np.where(bbr_mat.sum(1)>0)[0][0])\n",
    "    if roi == 19:\n",
    "        font_dict[roi] = (font_dict[roi][0]+200,np.where(bbr_mat.sum(1)>0)[0][0])"
   ]
  },
  {
   "cell_type": "code",
   "execution_count": 86,
   "id": "db2a5a62-36fb-48e7-9dbe-31a139b1792c",
   "metadata": {},
   "outputs": [
    {
     "name": "stdout",
     "output_type": "stream",
     "text": [
      "Cell execution time: 9.501 seconds\n"
     ]
    }
   ],
   "source": [
    "# iterate through each file, place the bounding box and text \n",
    "for bbf in bb_fns:\n",
    "    # getting ROI and loading bounding box \n",
    "    roi=bbf.split(\"_\")[-1].split(\".npy\")[0]\n",
    "    roi=int(roi)\n",
    "    if roi not in df[\"ROILabel\"].values:\n",
    "        continue\n",
    "\n",
    "    bb_mat = np.load(bbf)\n",
    "\n",
    "    ry,rx=df.loc[df[\"ROILabel\"]==roi,[\"ROICoordinateX\",\"ROICoordinateY\"]].values[0]\n",
    "    ry=np.int64(ry)\n",
    "    rx=np.int64(rx)\n",
    "\n",
    "    # bounding box has its middle filled in using contours \n",
    "    bbr_mat = cv2.resize(bb_mat.astype(float), (xw*2,xw*2), interpolation=cv2.INTER_LANCZOS4)\n",
    "\n",
    "    bbr_bin = (bbr_mat > 0).astype(np.uint8)        \n",
    "    contours, _ = cv2.findContours(\n",
    "        bbr_bin, cv2.RETR_EXTERNAL, cv2.CHAIN_APPROX_SIMPLE\n",
    "    )\n",
    "\n",
    "    fill_color = 2                                \n",
    "    cv2.drawContours(bbr_mat, contours, -1, fill_color, thickness=-1)\n",
    "    \n",
    "    bbr_mat[bbr_mat>0.33] = roi\n",
    "\n",
    "    region_mask = mask[(rx-xw):(rx+xw),(ry-xw):(ry+xw)].toarray()\n",
    "    \n",
    "    # we do not want to lose surrounding annotations from past spots \n",
    "    max_mat = np.maximum(region_mask, bbr_mat)\n",
    "\n",
    "    # padded space placing text (at current font scale extends beyond xw) \n",
    "    pad = 800\n",
    "    padded_mat = cv2.copyMakeBorder(\n",
    "        max_mat.astype(np.uint8),\n",
    "        pad, pad, pad, pad,\n",
    "        borderType=cv2.BORDER_CONSTANT,\n",
    "        value=0\n",
    "    )\n",
    "\n",
    "    text_mask = np.zeros_like(padded_mat)\n",
    "    font = cv2.FONT_HERSHEY_COMPLEX\n",
    "    font_scale = 24\n",
    "    thickness = 48\n",
    "    position = (xw-font_dict[roi][0]+400, font_dict[roi][1]+500)  \n",
    "    white_color = (1)  \n",
    "    cv2.putText(text_mask, str(roi).zfill(2), position, font, font_scale, white_color, thickness)\n",
    "\n",
    "    \n",
    "    padded_mat[text_mask > 0] = 100 + roi \n",
    "\n",
    "    r0 = rx - xw - pad\n",
    "    r1 = rx + xw + pad\n",
    "    c0 = ry - xw - pad\n",
    "    c1 = ry + xw + pad\n",
    "\n",
    "    sub_mask = mask[r0:r1, c0:c1].copy()\n",
    "    sub_mask = sub_mask.toarray()\n",
    "\n",
    "    # mask has encoding for each spot bounding box (roi int) and text (roi + 100 int) \n",
    "    mask[r0:r1, c0:c1] = np.maximum(sub_mask, padded_mat)"
   ]
  },
  {
   "cell_type": "code",
   "execution_count": 87,
   "id": "35a5220d-44c8-4c58-996d-7c7d7e9cf5eb",
   "metadata": {},
   "outputs": [
    {
     "name": "stdout",
     "output_type": "stream",
     "text": [
      "Cell execution time: 0.184 seconds\n"
     ]
    }
   ],
   "source": [
    "# simplify mask codes to just distinguish text and bounding boxes \n",
    "csr_mask = mask.tocsr()\n",
    "d = csr_mask.data\n",
    "d[(d > 1) & (d < 100)] = 1\n",
    "d[d >= 100] = 2\n",
    "mask = csr_mask.toarray()"
   ]
  },
  {
   "cell_type": "code",
   "execution_count": 88,
   "id": "76ef70ac-0481-4e0d-98d1-89dddc261436",
   "metadata": {},
   "outputs": [
    {
     "data": {
      "text/plain": [
       "<matplotlib.image.AxesImage at 0x15e853a10>"
      ]
     },
     "execution_count": 88,
     "metadata": {},
     "output_type": "execute_result"
    },
    {
     "data": {
      "image/png": "[encoded data removed]",
      "text/plain": [
       "<Figure size 1200x1200 with 1 Axes>"
      ]
     },
     "metadata": {},
     "output_type": "display_data"
    },
    {
     "name": "stdout",
     "output_type": "stream",
     "text": [
      "Cell execution time: 8.553 seconds\n"
     ]
    }
   ],
   "source": [
    "# downsize mask and plot to see if placement is adequate \n",
    "mask_small = cv2.resize(mask, (mask.shape[1]//4, mask.shape[0]//4),\n",
    "                         interpolation=cv2.INTER_NEAREST)\n",
    "fig,ax=plt.subplots(figsize=(12,12))\n",
    "plt.imshow(mask_small)"
   ]
  },
  {
   "cell_type": "code",
   "execution_count": 89,
   "id": "4c1cd592-bb36-42f3-baa1-ae4d8036a149",
   "metadata": {},
   "outputs": [
    {
     "name": "stdout",
     "output_type": "stream",
     "text": [
      "Cell execution time: 64.350 seconds\n"
     ]
    }
   ],
   "source": [
    "# downsize image \n",
    "img_small  = cv2.resize(img,   (img.shape[1]//4, img.shape[0]//4),\n",
    "                         interpolation=cv2.INTER_AREA)\n",
    "img_small = cv2.cvtColor((img_small * 255).clip(0, 255).astype(np.uint8), cv2.COLOR_RGB2BGR)"
   ]
  },
  {
   "cell_type": "code",
   "execution_count": 90,
   "id": "629444b8-507c-4ae6-b89f-c512f5da754a",
   "metadata": {},
   "outputs": [
    {
     "data": {
      "text/plain": [
       "True"
      ]
     },
     "execution_count": 90,
     "metadata": {},
     "output_type": "execute_result"
    },
    {
     "name": "stdout",
     "output_type": "stream",
     "text": [
      "Cell execution time: 4.800 seconds\n"
     ]
    }
   ],
   "source": [
    "# save image using mask overlay \n",
    "mask_small = (mask_small > 0).astype(np.uint8)\n",
    "\n",
    "\n",
    "overlay = np.zeros_like(img_small, dtype=np.uint8)\n",
    "overlay[mask_small == 1] = (255, 255, 255)  \n",
    "\n",
    "alpha = 0.5                                 \n",
    "blended = cv2.addWeighted(img_small, 1.0,\n",
    "                          overlay,   alpha, 0)\n",
    "\n",
    "cv2.imwrite(\"../plots/ptb222_label.png\", blended)"
   ]
  },
  {
   "cell_type": "code",
   "execution_count": null,
   "id": "15b87a03-4965-49b6-b02e-b01ca6b6a366",
   "metadata": {},
   "outputs": [],
   "source": []
  }
 ],
 "metadata": {
  "kernelspec": {
   "display_name": "scvi",
   "language": "python",
   "name": "scvi"
  },
  "language_info": {
   "codemirror_mode": {
    "name": "ipython",
    "version": 3
   },
   "file_extension": ".py",
   "mimetype": "text/x-python",
   "name": "python",
   "nbconvert_exporter": "python",
   "pygments_lexer": "ipython3",
   "version": "3.11.11"
  }
 },
 "nbformat": 4,
 "nbformat_minor": 5
}
