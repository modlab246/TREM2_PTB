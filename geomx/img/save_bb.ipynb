{
 "cells": [
  {
   "cell_type": "code",
   "execution_count": 1,
   "id": "8ef4b239-6caf-49da-80fe-c933fddab21a",
   "metadata": {},
   "outputs": [],
   "source": [
    "from IPython.core.events import EventManager\n",
    "from IPython import get_ipython\n",
    "import time\n",
    "\n",
    "global_start_time = None\n",
    "\n",
    "def start_timer(event):\n",
    "    global global_start_time\n",
    "    global_start_time = time.time()\n",
    "\n",
    "def stop_timer(event):\n",
    "    global global_start_time\n",
    "    if global_start_time:\n",
    "        duration = time.time() - global_start_time\n",
    "        print(f\"Cell execution time: {duration:.3f} seconds\")\n",
    "        global_start_time = None\n",
    "\n",
    "ip = get_ipython()\n",
    "ip.events.register('pre_run_cell', start_timer)\n",
    "ip.events.register('post_run_cell', stop_timer)"
   ]
  },
  {
   "cell_type": "code",
   "execution_count": 2,
   "id": "45d8c6ac-f69f-4144-b50a-9e4bd9e7af0c",
   "metadata": {},
   "outputs": [
    {
     "name": "stdout",
     "output_type": "stream",
     "text": [
      "Cell execution time: 1.883 seconds\n"
     ]
    }
   ],
   "source": [
    "import numpy as np\n",
    "import pandas as pd\n",
    "import matplotlib.pyplot as plt \n",
    "from skimage import io \n",
    "from shapely.geometry import Polygon\n",
    "from matplotlib.patches import Polygon as mplPolygon\n",
    "from glob import glob\n",
    "import cv2\n",
    "from scipy import ndimage\n",
    "import matplotlib.colors as mcolors\n",
    "from scipy.spatial import KDTree\n",
    "from sklearn.neighbors import NearestNeighbors\n",
    "from scipy import ndimage as ndi"
   ]
  },
  {
   "cell_type": "code",
   "execution_count": 3,
   "id": "073ef74a-4d47-4c23-bf26-10e3ce1f1614",
   "metadata": {},
   "outputs": [
    {
     "name": "stdout",
     "output_type": "stream",
     "text": [
      "Cell execution time: 1.005 seconds\n"
     ]
    }
   ],
   "source": [
    "df = pd.read_excel(\"../data/geomx_221_223.xlsx\",sheet_name=\"SegmentProperties\")\n",
    "df = df.loc[df[\"SlideName\"]==\"1 PTB-22.1\"]\n",
    "df = df[[\"ROILabel\",\"ROICoordinateX\",\"ROICoordinateY\",\"AOISurfaceArea\"]]"
   ]
  },
  {
   "cell_type": "code",
   "execution_count": 4,
   "id": "926f0590-d14e-4fce-81bd-5f85345cf0d3",
   "metadata": {},
   "outputs": [
    {
     "name": "stdout",
     "output_type": "stream",
     "text": [
      "Cell execution time: 0.261 seconds\n"
     ]
    }
   ],
   "source": [
    "mat = io.imread(\"../img/1 PTB-22.1.tiff\")"
   ]
  },
  {
   "cell_type": "code",
   "execution_count": 5,
   "id": "2c49b9ef-9126-4b77-a813-67e3c67d9dab",
   "metadata": {},
   "outputs": [
    {
     "name": "stdout",
     "output_type": "stream",
     "text": [
      "Cell execution time: 0.000 seconds\n"
     ]
    }
   ],
   "source": [
    "x_221_sf = (11008-10172)/(42949.5-39599)\n",
    "y_221_sf = (3569-1523)/(19294.5-11100)\n",
    "x_221_cnst = 10172-39599*x_221_sf\n",
    "y_221_cnst = 1523-11100*y_221_sf"
   ]
  },
  {
   "cell_type": "code",
   "execution_count": 6,
   "id": "4f311332-5d46-4fa0-a482-ef76cb7dae3c",
   "metadata": {},
   "outputs": [
    {
     "name": "stdout",
     "output_type": "stream",
     "text": [
      "Cell execution time: 0.001 seconds\n"
     ]
    }
   ],
   "source": [
    "comp = glob(\"../composite/PTB221*\")\n",
    "comp = {int(x.split(\"_\")[-1].split(\".png\")[0]):x for x in comp}"
   ]
  },
  {
   "cell_type": "code",
   "execution_count": 7,
   "id": "7c688062-56f4-4bcb-9fa7-cccb6f6f8580",
   "metadata": {},
   "outputs": [
    {
     "data": {
      "text/plain": [
       "<Figure size 640x480 with 0 Axes>"
      ]
     },
     "metadata": {},
     "output_type": "display_data"
    },
    {
     "name": "stdout",
     "output_type": "stream",
     "text": [
      "Cell execution time: 294.029 seconds\n"
     ]
    }
   ],
   "source": [
    "xw =128\n",
    "\n",
    "for spot in df.iterrows():\n",
    "    y,x=spot[1][[\"ROICoordinateX\",\"ROICoordinateY\"]]\n",
    "    roi=spot[1][[\"ROILabel\"]].astype(int).values[0]\n",
    "    x=np.round((x*x_221_sf)+x_221_cnst).astype(int)\n",
    "    y=np.round((y*y_221_sf)+y_221_cnst).astype(int)\n",
    "    img_bb = mat[(x-xw):(x+xw),(y-xw):(y+xw)]\n",
    "    white_pixels = np.where(np.all(img_bb == [255, 255, 255, 255], axis=-1))\n",
    "\n",
    "    starting_point = np.argmin(np.abs(np.array(white_pixels).T-np.array([128,128])).sum(1))\n",
    "\n",
    "    selected_pixels = np.array(white_pixels).T\n",
    "\n",
    "    nearest_neighbors = NearestNeighbors(n_neighbors=5)\n",
    "    nearest_neighbors.fit(selected_pixels)\n",
    "    neighbors = nearest_neighbors.kneighbors(selected_pixels, return_distance=False)\n",
    "    neighbors = [set(list(x)) for x in neighbors]\n",
    "    \n",
    "    pp = neighbors[starting_point]\n",
    "    add_point = True\n",
    "    while (add_point):\n",
    "        old_pp = pp\n",
    "        pp = set.union(*[neighbors[x] for x in pp])\n",
    "        if old_pp == pp:\n",
    "            add_point=False\n",
    "    pp=list(pp)\n",
    "    white_pixels = tuple([x[pp] for x in white_pixels])\n",
    "    \n",
    "    img_comp = io.imread(comp[roi])\n",
    "\n",
    "    x_coord,y_coord=white_pixels\n",
    "\n",
    "    img_sf = img_bb.shape[0]/img_comp.shape[0]\n",
    "    img_sf = img_sf\n",
    "\n",
    "    x_coord=x_coord/img_sf\n",
    "    y_coord=y_coord/img_sf\n",
    "\n",
    "    x_coord = x_coord.astype(int)\n",
    "    y_coord = y_coord.astype(int)\n",
    "    \n",
    "    fig,ax=plt.subplots(figsize=(16,16))\n",
    "    plt.imshow(img_comp,alpha=0)\n",
    "    plt.scatter(y_coord,x_coord,s=100,c=\"black\",alpha=1)\n",
    "    plt.axis(\"off\")\n",
    "    fig.patch.set_visible(False)\n",
    "    plt.savefig('scatter.png', bbox_inches='tight', pad_inches=0)  # Save without padding\n",
    "    plt.close(fig)  # Close plot\n",
    "\n",
    "    image = cv2.imread('scatter.png', cv2.IMREAD_GRAYSCALE)  # Load as grayscale image for simplicity\n",
    "\n",
    "    smooth_image = ndimage.gaussian_filter(image, sigma=10)\n",
    "    target_image = cv2.imread(comp[roi], cv2.IMREAD_UNCHANGED)  # Load with alpha channel\n",
    "\n",
    "    resized_smooth_image = cv2.resize(smooth_image, (target_image.shape[1], target_image.shape[0]))\n",
    "    mask = ~(resized_smooth_image>200)\n",
    "\n",
    "    colors = [(0, 0, 0, 0), (1, 1, 1, 0.25)]  # RGB and alpha values for each point in the colormap\n",
    "    cmap = mcolors.LinearSegmentedColormap.from_list('my_cmap', colors, N=2)\n",
    "    \n",
    "    gaus_mask = ndimage.gaussian_filter(mask, sigma=5)\n",
    "    dilate_mask = cv2.dilate(gaus_mask.astype(np.uint8), None, iterations=5)\n",
    "    final_mask = cv2.erode(dilate_mask.astype(np.uint8), None, iterations=25)\n",
    "    \n",
    "    np.save(\"../bb_mask/\"+\"PTB221_\"+(str(roi))+\".npy\",final_mask)\n",
    "    \n",
    "    fig,ax=plt.subplots(figsize=(16,16))\n",
    "    plt.imshow(cv2.cvtColor(target_image, cv2.COLOR_BGRA2RGBA))\n",
    "    plt.imshow(final_mask,cmap=cmap)\n",
    "    plt.axis(\"off\")\n",
    "    plt.savefig(\"../bb_comp/\"+\"PTB221_\"+(str(roi)),dpi=400,bbox_inches='tight', pad_inches=0)\n",
    "    plt.close(fig)\n",
    "    plt.clf()\n",
    "    \n",
    "    fig,ax=plt.subplots(figsize=(16,16))\n",
    "    plt.imshow(img_bb)\n",
    "    plt.axis(\"off\")\n",
    "    plt.savefig(\"../bb_annot/\"+\"PTB221_\"+(str(roi)),dpi=400,bbox_inches='tight', pad_inches=0)\n",
    "    plt.close(fig)\n",
    "    plt.clf()\n",
    "    \n",
    "    filled_mask = ndi.binary_fill_holes(final_mask)\n",
    "    masked_image = np.zeros_like(target_image,)\n",
    "    masked_image[filled_mask == 1] = target_image[filled_mask == 1]\n",
    "\n",
    "    fig,ax=plt.subplots(figsize=(16,16))\n",
    "    plt.imshow(cv2.cvtColor(masked_image, cv2.COLOR_BGRA2RGBA))\n",
    "    plt.axis(\"off\")\n",
    "    plt.savefig(\"../bb_comp_mask/\"+\"PTB221_\"+(str(roi)),dpi=400,bbox_inches='tight', pad_inches=0)\n",
    "    plt.close(fig)\n",
    "    plt.clf()"
   ]
  },
  {
   "cell_type": "code",
   "execution_count": 8,
   "id": "d3e9e338-1413-4f90-8462-24de4cb14aba",
   "metadata": {},
   "outputs": [
    {
     "name": "stdout",
     "output_type": "stream",
     "text": [
      "Cell execution time: 1.752 seconds\n"
     ]
    }
   ],
   "source": [
    "df = pd.read_excel(\"../data/geomx_221_223.xlsx\",sheet_name=\"SegmentProperties\")\n",
    "df = df.loc[df[\"SlideName\"]==\"2 PTB-22.3\"]\n",
    "df = df[[\"ROILabel\",\"ROICoordinateX\",\"ROICoordinateY\",\"AOISurfaceArea\"]]"
   ]
  },
  {
   "cell_type": "code",
   "execution_count": 9,
   "id": "3ee6aefa-5ed3-44b4-a5f2-7fa4cdc1709f",
   "metadata": {},
   "outputs": [
    {
     "name": "stdout",
     "output_type": "stream",
     "text": [
      "Cell execution time: 0.257 seconds\n"
     ]
    }
   ],
   "source": [
    "mat = io.imread(\"../img/2 PTB-22.3-2.tiff\")"
   ]
  },
  {
   "cell_type": "code",
   "execution_count": 10,
   "id": "dc37a69e-cb82-457d-852b-fcd397a1cf59",
   "metadata": {},
   "outputs": [
    {
     "name": "stdout",
     "output_type": "stream",
     "text": [
      "Cell execution time: 0.000 seconds\n"
     ]
    }
   ],
   "source": [
    "x_223_sf = (4318-6234)/(16205.8-23872)\n",
    "y_223_sf = (3344-5892)/(18429.5-28631)\n",
    "x_223_cnst = 4318-16205.8*x_221_sf\n",
    "y_223_cnst = 3344-18429.5*y_221_sf"
   ]
  },
  {
   "cell_type": "code",
   "execution_count": 11,
   "id": "3473ae0e-56ef-4448-a81b-c9bd1a994a2d",
   "metadata": {},
   "outputs": [
    {
     "name": "stdout",
     "output_type": "stream",
     "text": [
      "Cell execution time: 0.001 seconds\n"
     ]
    }
   ],
   "source": [
    "comp = glob(\"../composite/PTB223*\")\n",
    "comp = {int(x.split(\"_\")[-1].split(\".png\")[0]):x for x in comp}"
   ]
  },
  {
   "cell_type": "code",
   "execution_count": 12,
   "id": "b858a6cc-2574-4621-bb2f-d6bfe337475f",
   "metadata": {},
   "outputs": [
    {
     "data": {
      "text/plain": [
       "<Figure size 640x480 with 0 Axes>"
      ]
     },
     "metadata": {},
     "output_type": "display_data"
    },
    {
     "name": "stdout",
     "output_type": "stream",
     "text": [
      "Cell execution time: 168.701 seconds\n"
     ]
    }
   ],
   "source": [
    "for spot in df.iterrows():\n",
    "    # get spot attributes \n",
    "    y,x=spot[1][[\"ROICoordinateX\",\"ROICoordinateY\"]]\n",
    "    roi=spot[1][[\"ROILabel\"]].astype(int).values[0]\n",
    "    x=np.round((x*x_223_sf)+x_223_cnst).astype(int)\n",
    "    y=np.round((y*y_223_sf)+y_223_cnst).astype(int)\n",
    "    xw =128\n",
    "    \n",
    "    img_bb = mat[(x-xw):(x+xw),(y-xw):(y+xw)]\n",
    "    white_pixels = np.where(np.all(img_bb == [255, 255, 255, 255], axis=-1))\n",
    "\n",
    "    starting_point = np.argmin(np.abs(np.array(white_pixels).T-np.array([128,128])).sum(1))\n",
    "\n",
    "    selected_pixels = np.array(white_pixels).T\n",
    "\n",
    "    nearest_neighbors = NearestNeighbors(n_neighbors=5)\n",
    "    nearest_neighbors.fit(selected_pixels)\n",
    "    neighbors = nearest_neighbors.kneighbors(selected_pixels, return_distance=False)\n",
    "    neighbors = [set(list(x)) for x in neighbors]\n",
    "    \n",
    "    pp = neighbors[starting_point]\n",
    "    add_point = True\n",
    "    while (add_point):\n",
    "        old_pp = pp\n",
    "        pp = set.union(*[neighbors[x] for x in pp])\n",
    "        if old_pp == pp:\n",
    "            add_point=False\n",
    "    pp=list(pp)\n",
    "    white_pixels = tuple([x[pp] for x in white_pixels])\n",
    "    \n",
    "    img_comp = io.imread(comp[roi])\n",
    "\n",
    "    x_coord,y_coord=white_pixels\n",
    "\n",
    "    img_sf = img_bb.shape[0]/img_comp.shape[0]\n",
    "    img_sf = img_sf\n",
    "\n",
    "    x_coord=x_coord/img_sf\n",
    "    y_coord=y_coord/img_sf\n",
    "\n",
    "    x_coord = x_coord.astype(int)\n",
    "    y_coord = y_coord.astype(int)\n",
    "     \n",
    "    fig,ax=plt.subplots(figsize=(16,16))\n",
    "    plt.imshow(img_comp,alpha=0)\n",
    "    plt.scatter(y_coord,x_coord,s=100,c=\"black\",alpha=1)\n",
    "    plt.axis(\"off\")\n",
    "    fig.patch.set_visible(False)\n",
    "    plt.savefig('scatter.png', bbox_inches='tight', pad_inches=0)  # Save without padding\n",
    "    plt.close(fig)  # Close plot\n",
    "\n",
    "    image = cv2.imread('scatter.png', cv2.IMREAD_GRAYSCALE)  # Load as grayscale image for simplicity\n",
    "\n",
    "    smooth_image = ndimage.gaussian_filter(image, sigma=10)\n",
    "    target_image = cv2.imread(comp[roi], cv2.IMREAD_UNCHANGED)  # Load with alpha channel\n",
    "\n",
    "    resized_smooth_image = cv2.resize(smooth_image, (target_image.shape[1], target_image.shape[0]))\n",
    "    mask = ~(resized_smooth_image>200)\n",
    "\n",
    "    colors = [(0, 0, 0, 0), (1, 1, 1, 0.25)]  # RGB and alpha values for each point in the colormap\n",
    "    cmap = mcolors.LinearSegmentedColormap.from_list('my_cmap', colors, N=2)\n",
    "    \n",
    "    gaus_mask = ndimage.gaussian_filter(mask, sigma=5)\n",
    "    dilate_mask = cv2.dilate(gaus_mask.astype(np.uint8), None, iterations=5)\n",
    "    final_mask = cv2.erode(dilate_mask.astype(np.uint8), None, iterations=25)\n",
    "    \n",
    "    np.save(\"../bb_mask/\"+\"PTB223_\"+(str(roi))+\".npy\",final_mask)\n",
    "    \n",
    "    fig,ax=plt.subplots(figsize=(16,16))\n",
    "    plt.imshow(cv2.cvtColor(target_image, cv2.COLOR_BGRA2RGBA))\n",
    "    plt.imshow(final_mask,cmap=cmap)\n",
    "    plt.axis(\"off\")\n",
    "    plt.savefig(\"../bb_comp/\"+\"PTB223_\"+(str(roi)),dpi=400,bbox_inches='tight', pad_inches=0)\n",
    "    plt.close(fig)\n",
    "    plt.clf()\n",
    "    \n",
    "    fig,ax=plt.subplots(figsize=(16,16))\n",
    "    plt.imshow(img_bb)\n",
    "    plt.axis(\"off\")\n",
    "    plt.savefig(\"../bb_annot/\"+\"PTB223_\"+(str(roi)),dpi=400,bbox_inches='tight', pad_inches=0)\n",
    "    plt.close(fig)\n",
    "    plt.clf()\n",
    "    \n",
    "    filled_mask = ndi.binary_fill_holes(final_mask)\n",
    "    masked_image = np.zeros_like(target_image,)\n",
    "    masked_image[filled_mask == 1] = target_image[filled_mask == 1]\n",
    "    \n",
    "    fig,ax=plt.subplots(figsize=(16,16))\n",
    "    plt.imshow(cv2.cvtColor(masked_image, cv2.COLOR_BGRA2RGBA))\n",
    "    plt.axis(\"off\")\n",
    "    plt.savefig(\"../bb_comp_mask/\"+\"PTB223_\"+(str(roi)),dpi=400,bbox_inches='tight', pad_inches=0)\n",
    "    plt.close(fig)\n",
    "    plt.clf()"
   ]
  },
  {
   "cell_type": "code",
   "execution_count": 13,
   "id": "afaa11d6-b4d4-428a-b0be-ba37dbd7f10a",
   "metadata": {},
   "outputs": [
    {
     "name": "stdout",
     "output_type": "stream",
     "text": [
      "Cell execution time: 1.279 seconds\n"
     ]
    },
    {
     "name": "stderr",
     "output_type": "stream",
     "text": [
      "/Users/jperrie/miniconda3/envs/scvi/lib/python3.11/site-packages/openpyxl/styles/stylesheet.py:226: UserWarning: Workbook contains no default style, apply openpyxl's default\n",
      "  warn(\"Workbook contains no default style, apply openpyxl's default\")\n"
     ]
    }
   ],
   "source": [
    "# PTB 22.2 already has bounding boxes around each spot \n",
    "df = pd.read_excel(\"../data/geomx_222.xlsx\",sheet_name=\"SegmentProperties\")\n",
    "df = df.loc[df[\"SlideName\"]==\"PTB22.2\"]\n",
    "df = df[[\"ROILabel\",\"ROICoordinateX\",\"ROICoordinateY\",\"AOISurfaceArea\"]]"
   ]
  },
  {
   "cell_type": "code",
   "execution_count": 14,
   "id": "b761e3f7-306e-4b92-bd31-4f69c3377c4f",
   "metadata": {},
   "outputs": [
    {
     "name": "stdout",
     "output_type": "stream",
     "text": [
      "Cell execution time: 0.001 seconds\n"
     ]
    }
   ],
   "source": [
    "comp = glob(\"../composite/PTB222*\")\n",
    "comp = {int(x.split(\"_\")[-1].split(\".png\")[0]):x for x in comp}"
   ]
  },
  {
   "cell_type": "code",
   "execution_count": 15,
   "id": "fe8111d8-8f0f-4b53-9e0d-bae479d222c5",
   "metadata": {},
   "outputs": [
    {
     "data": {
      "text/plain": [
       "<Figure size 640x480 with 0 Axes>"
      ]
     },
     "metadata": {},
     "output_type": "display_data"
    },
    {
     "name": "stdout",
     "output_type": "stream",
     "text": [
      "Cell execution time: 269.880 seconds\n"
     ]
    }
   ],
   "source": [
    "for spot in df.iterrows():\n",
    "    roi=spot[1][[\"ROILabel\"]].astype(int).values[0]\n",
    "    img_bb = io.imread(\"../bb_annot/PTB222_\"+str(roi)+\".png\")\n",
    "    img_bb = img_bb[:img_bb.shape[1],:img_bb.shape[1]]\n",
    "    pad = 0\n",
    "    img_bb = img_bb[pad:img_bb.shape[1]-pad,pad:img_bb.shape[0]-pad]\n",
    "    white_pixels = np.where(np.all(img_bb == [255, 255, 255, 255], axis=-1))\n",
    "\n",
    "    # find starting point closest to center of image \n",
    "    starting_point = np.argmin(np.abs(np.array(white_pixels).T-np.array([img_bb.shape[1]/2,img_bb.shape[0]/2])).sum(1))\n",
    "\n",
    "    # find all white pixels that are connected to starting point \n",
    "    selected_pixels = np.array(white_pixels).T\n",
    "\n",
    "    nearest_neighbors = NearestNeighbors(n_neighbors=5)\n",
    "    nearest_neighbors.fit(selected_pixels)\n",
    "    neighbors = nearest_neighbors.kneighbors(selected_pixels, return_distance=False)\n",
    "    neighbors = [set(list(x)) for x in neighbors]\n",
    "    \n",
    "    pp = neighbors[starting_point]\n",
    "    add_point = True\n",
    "    while (add_point):\n",
    "        old_pp = pp\n",
    "        pp = set.union(*[neighbors[x] for x in pp])\n",
    "        if old_pp == pp:\n",
    "            add_point=False\n",
    "    pp=list(pp)\n",
    "    white_pixels = tuple([x[pp] for x in white_pixels])\n",
    "    \n",
    "    # load in high quality image \n",
    "    img_comp = io.imread(comp[roi])\n",
    "\n",
    "    x_coord,y_coord=white_pixels\n",
    "\n",
    "    img_sf = img_bb.shape[0]/img_comp.shape[0]\n",
    "    img_sf = img_sf\n",
    "\n",
    "    x_coord=x_coord/img_sf\n",
    "    y_coord=y_coord/img_sf\n",
    "\n",
    "    x_coord = x_coord.astype(int)\n",
    "    y_coord = y_coord.astype(int)\n",
    "     \n",
    "    fig,ax=plt.subplots(figsize=(16,16))\n",
    "    plt.imshow(img_comp,alpha=0)\n",
    "    plt.scatter(y_coord,x_coord,s=100,c=\"black\",alpha=1)\n",
    "    plt.axis(\"off\")\n",
    "    fig.patch.set_visible(False)\n",
    "    plt.savefig('scatter.png', bbox_inches='tight', pad_inches=0)  # Save without padding\n",
    "    plt.close(fig)  # Close plot\n",
    "\n",
    "    image = cv2.imread('scatter.png', cv2.IMREAD_GRAYSCALE)  # Load as grayscale image for simplicity\n",
    "\n",
    "    smooth_image = ndimage.gaussian_filter(image, sigma=10)\n",
    "    target_image = cv2.imread(comp[roi], cv2.IMREAD_UNCHANGED)  # Load with alpha channel\n",
    "\n",
    "    resized_smooth_image = cv2.resize(smooth_image, (target_image.shape[1], target_image.shape[0]))\n",
    "    mask = ~(resized_smooth_image>200)\n",
    "\n",
    "    colors = [(0, 0, 0, 0), (1, 1, 1, 0.25)]  # RGB and alpha values for each point in the colormap\n",
    "    cmap = mcolors.LinearSegmentedColormap.from_list('my_cmap', colors, N=2)\n",
    "    \n",
    "    gaus_mask = ndimage.gaussian_filter(mask, sigma=5)\n",
    "    dilate_mask = cv2.dilate(gaus_mask.astype(np.uint8), None, iterations=5)\n",
    "    final_mask = cv2.erode(dilate_mask.astype(np.uint8), None, iterations=25)\n",
    "\n",
    "    np.save(\"../bb_mask/\"+\"PTB222_\"+(str(roi))+\".npy\",final_mask)\n",
    "    \n",
    "    fig,ax=plt.subplots(figsize=(16,16))\n",
    "    plt.imshow(cv2.cvtColor(target_image, cv2.COLOR_BGRA2RGBA))\n",
    "    plt.imshow(final_mask,cmap=cmap)\n",
    "    plt.axis(\"off\")\n",
    "    plt.savefig(\"../bb_comp/\"+\"PTB222_\"+(str(roi)),dpi=400,bbox_inches='tight', pad_inches=0)\n",
    "    plt.close(fig)\n",
    "    plt.clf()\n",
    "    \n",
    "    filled_mask = ndi.binary_fill_holes(final_mask)\n",
    "    masked_image = np.zeros_like(target_image,)\n",
    "    masked_image[filled_mask == 1] = target_image[filled_mask == 1]\n",
    "    \n",
    "    fig,ax=plt.subplots(figsize=(16,16))\n",
    "    plt.imshow(cv2.cvtColor(masked_image, cv2.COLOR_BGRA2RGBA))\n",
    "    plt.axis(\"off\")\n",
    "    plt.savefig(\"../bb_comp_mask/\"+\"PTB222_\"+(str(roi)),dpi=400,bbox_inches='tight', pad_inches=0)\n",
    "    plt.close(fig)\n",
    "    plt.clf()"
   ]
  },
  {
   "cell_type": "code",
   "execution_count": 16,
   "id": "16cbb39a-7593-4120-834f-04b7bc70bffe",
   "metadata": {},
   "outputs": [
    {
     "name": "stdout",
     "output_type": "stream",
     "text": [
      "Cell execution time: 0.355 seconds\n"
     ]
    }
   ],
   "source": [
    "df = pd.read_excel(\"../data/geomx_211.xlsx\",sheet_name=\"SegmentProperties\")\n",
    "df = df.loc[df[\"SlideName\"]==\"B172914-2\"]\n",
    "df = df[[\"ROILabel\",\"ROICoordinateX\",\"ROICoordinateY\",\"AOISurfaceArea\"]]"
   ]
  },
  {
   "cell_type": "code",
   "execution_count": 17,
   "id": "802b0d06-ba88-4a48-8c06-9fc0c08d0bf0",
   "metadata": {},
   "outputs": [
    {
     "name": "stdout",
     "output_type": "stream",
     "text": [
      "Cell execution time: 0.001 seconds\n"
     ]
    }
   ],
   "source": [
    "comp = glob(\"../composite/PTB211*\")\n",
    "comp = {int(x.split(\"_\")[-1].split(\".png\")[0]):x for x in comp}"
   ]
  },
  {
   "cell_type": "code",
   "execution_count": 18,
   "id": "4391b6db-277e-4f6b-af57-754431d21cb9",
   "metadata": {},
   "outputs": [
    {
     "data": {
      "text/plain": [
       "<Figure size 640x480 with 0 Axes>"
      ]
     },
     "metadata": {},
     "output_type": "display_data"
    },
    {
     "name": "stdout",
     "output_type": "stream",
     "text": [
      "Cell execution time: 239.549 seconds\n"
     ]
    }
   ],
   "source": [
    "for spot in df.iterrows():\n",
    "    roi=spot[1][[\"ROILabel\"]].astype(int).values[0]\n",
    "    img_bb = io.imread(\"../bb_annot/PTB211_\"+str(roi)+\".png\")\n",
    "    img_bb = img_bb[:img_bb.shape[1],:img_bb.shape[1]]\n",
    "    pad = 0\n",
    "    img_bb = img_bb[pad:img_bb.shape[1]-pad,pad:img_bb.shape[0]-pad]\n",
    "\n",
    "    condition1 = np.all(img_bb == [255, 255, 255, 255], axis=-1)\n",
    "    condition2 = np.all(img_bb == [254, 254, 254, 255], axis=-1)\n",
    "    condition3 = np.all(img_bb == [254, 255, 255, 255], axis=-1)\n",
    "    condition4 = np.all(img_bb == [255, 254, 255, 255], axis=-1)\n",
    "    condition5 = np.all(img_bb == [255, 255, 254, 255], axis=-1)\n",
    "\n",
    "    # Combine the conditions using logical OR\n",
    "    combined_condition = np.logical_or(np.logical_or(np.logical_or(np.logical_or(condition1, condition2),condition3),condition4),condition5)\n",
    "\n",
    "    # Get the indices of white pixels under any of these conditions\n",
    "    white_pixels = np.where(combined_condition)\n",
    "\n",
    "    # find starting point closest to center of image \n",
    "    starting_point = np.argmin(np.abs(np.array(white_pixels).T-np.array([img_bb.shape[1]/2,img_bb.shape[0]/2])).sum(1))\n",
    "\n",
    "    # find all white pixels that are connected to starting point \n",
    "    selected_pixels = np.array(white_pixels).T\n",
    "\n",
    "    nearest_neighbors = NearestNeighbors(n_neighbors=5)\n",
    "    nearest_neighbors.fit(selected_pixels)\n",
    "    neighbors = nearest_neighbors.kneighbors(selected_pixels, return_distance=False)\n",
    "    neighbors = [set(list(x)) for x in neighbors]\n",
    "    \n",
    "    pp = neighbors[starting_point]\n",
    "    add_point = True\n",
    "    while (add_point):\n",
    "        old_pp = pp\n",
    "        pp = set.union(*[neighbors[x] for x in pp])\n",
    "        if old_pp == pp:\n",
    "            add_point=False\n",
    "    pp=list(pp)\n",
    "    white_pixels = tuple([x[pp] for x in white_pixels])\n",
    "    \n",
    "    # load in high quality image \n",
    "    img_comp = io.imread(comp[roi])\n",
    "\n",
    "    x_coord,y_coord=white_pixels\n",
    "\n",
    "    img_sf = img_bb.shape[0]/img_comp.shape[0]\n",
    "    img_sf = img_sf\n",
    "\n",
    "    x_coord=x_coord/img_sf\n",
    "    y_coord=y_coord/img_sf\n",
    "\n",
    "    x_coord = x_coord.astype(int)\n",
    "    y_coord = y_coord.astype(int)\n",
    "     \n",
    "    fig,ax=plt.subplots(figsize=(16,16))\n",
    "    plt.imshow(img_comp,alpha=0)\n",
    "    plt.scatter(y_coord,x_coord,s=100,c=\"black\",alpha=1)\n",
    "    plt.axis(\"off\")\n",
    "    fig.patch.set_visible(False)\n",
    "    plt.savefig('scatter.png', bbox_inches='tight', pad_inches=0)  # Save without padding\n",
    "    plt.close(fig)  # Close plot\n",
    "\n",
    "    image = cv2.imread('scatter.png', cv2.IMREAD_GRAYSCALE)  # Load as grayscale image for simplicity\n",
    "\n",
    "    smooth_image = ndimage.gaussian_filter(image, sigma=10)\n",
    "    target_image = cv2.imread(comp[roi], cv2.IMREAD_UNCHANGED)  # Load with alpha channel\n",
    "\n",
    "    resized_smooth_image = cv2.resize(smooth_image, (target_image.shape[1], target_image.shape[0]))\n",
    "    mask = ~(resized_smooth_image>200)\n",
    "\n",
    "    colors = [(0, 0, 0, 0), (1, 1, 1, 0.25)]  # RGB and alpha values for each point in the colormap\n",
    "    cmap = mcolors.LinearSegmentedColormap.from_list('my_cmap', colors, N=2)\n",
    "    \n",
    "    gaus_mask = ndimage.gaussian_filter(mask, sigma=5)\n",
    "    dilate_mask = cv2.dilate(gaus_mask.astype(np.uint8), None, iterations=5)\n",
    "    final_mask = cv2.erode(dilate_mask.astype(np.uint8), None, iterations=15)\n",
    "\n",
    "    np.save(\"../bb_mask/\"+\"PTB211_\"+(str(roi))+\".npy\",final_mask)\n",
    "    \n",
    "    fig,ax=plt.subplots(figsize=(16,16))\n",
    "    plt.imshow(cv2.cvtColor(target_image, cv2.COLOR_BGRA2RGBA))\n",
    "    plt.imshow(final_mask,cmap=cmap)\n",
    "    plt.axis(\"off\")\n",
    "    plt.savefig(\"../bb_comp/\"+\"PTB211_\"+(str(roi)),dpi=400,bbox_inches='tight', pad_inches=0)\n",
    "    plt.close(fig)\n",
    "    plt.clf()\n",
    "    \n",
    "    filled_mask = ndi.binary_fill_holes(final_mask)\n",
    "    masked_image = np.zeros_like(target_image,)\n",
    "    masked_image[filled_mask == 1] = target_image[filled_mask == 1]\n",
    "    \n",
    "    fig,ax=plt.subplots(figsize=(16,16))\n",
    "    plt.imshow(cv2.cvtColor(masked_image, cv2.COLOR_BGRA2RGBA))\n",
    "    plt.axis(\"off\")\n",
    "    plt.savefig(\"../bb_comp_mask/\"+\"PTB211_\"+(str(roi)),dpi=400,bbox_inches='tight', pad_inches=0)\n",
    "    plt.close(fig)\n",
    "    plt.clf()"
   ]
  },
  {
   "cell_type": "code",
   "execution_count": null,
   "id": "c9124698-7880-47e4-969d-0f3a2f8ea7ec",
   "metadata": {},
   "outputs": [],
   "source": []
  },
  {
   "cell_type": "code",
   "execution_count": null,
   "id": "8de4ee1a-3f62-485f-96cb-aaeeeb6e7d50",
   "metadata": {},
   "outputs": [],
   "source": []
  },
  {
   "cell_type": "code",
   "execution_count": null,
   "id": "c18d5d4b-565e-4775-92d9-d5461a9a282e",
   "metadata": {},
   "outputs": [],
   "source": []
  },
  {
   "cell_type": "code",
   "execution_count": null,
   "id": "bca7d710-e436-45ce-8f63-45fc6942d8b8",
   "metadata": {},
   "outputs": [],
   "source": []
  },
  {
   "cell_type": "code",
   "execution_count": null,
   "id": "82a3e8cc-7c34-4436-83e5-84ee3a31dce3",
   "metadata": {},
   "outputs": [],
   "source": []
  }
 ],
 "metadata": {
  "kernelspec": {
   "display_name": "scvi",
   "language": "python",
   "name": "scvi"
  },
  "language_info": {
   "codemirror_mode": {
    "name": "ipython",
    "version": 3
   },
   "file_extension": ".py",
   "mimetype": "text/x-python",
   "name": "python",
   "nbconvert_exporter": "python",
   "pygments_lexer": "ipython3",
   "version": "3.11.11"
  }
 },
 "nbformat": 4,
 "nbformat_minor": 5
}
