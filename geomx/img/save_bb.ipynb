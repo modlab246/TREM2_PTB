{
 "cells": [
  {
   "cell_type": "code",
   "execution_count": 1,
   "id": "8ef4b239-6caf-49da-80fe-c933fddab21a",
   "metadata": {},
   "outputs": [],
   "source": [
    "from IPython.core.events import EventManager\n",
    "from IPython import get_ipython\n",
    "import time\n",
    "\n",
    "global_start_time = None\n",
    "\n",
    "def start_timer(event):\n",
    "    global global_start_time\n",
    "    global_start_time = time.time()\n",
    "\n",
    "def stop_timer(event):\n",
    "    global global_start_time\n",
    "    if global_start_time:\n",
    "        duration = time.time() - global_start_time\n",
    "        print(f\"Cell execution time: {duration:.3f} seconds\")\n",
    "        global_start_time = None\n",
    "\n",
    "ip = get_ipython()\n",
    "ip.events.register('pre_run_cell', start_timer)\n",
    "ip.events.register('post_run_cell', stop_timer)"
   ]
  },
  {
   "cell_type": "code",
   "execution_count": 2,
   "id": "45d8c6ac-f69f-4144-b50a-9e4bd9e7af0c",
   "metadata": {},
   "outputs": [
    {
     "name": "stdout",
     "output_type": "stream",
     "text": [
      "Cell execution time: 1.940 seconds\n"
     ]
    }
   ],
   "source": [
    "import numpy as np\n",
    "import pandas as pd\n",
    "import matplotlib.pyplot as plt \n",
    "from skimage import io \n",
    "from shapely.geometry import Polygon\n",
    "from matplotlib.patches import Polygon as mplPolygon\n",
    "from glob import glob\n",
    "import cv2\n",
    "from scipy import ndimage\n",
    "import matplotlib.colors as mcolors\n",
    "from scipy.spatial import KDTree\n",
    "from sklearn.neighbors import NearestNeighbors\n",
    "from scipy import ndimage as ndi\n",
    "from scipy.ndimage import binary_dilation"
   ]
  },
  {
   "cell_type": "code",
   "execution_count": 3,
   "id": "073ef74a-4d47-4c23-bf26-10e3ce1f1614",
   "metadata": {},
   "outputs": [
    {
     "name": "stdout",
     "output_type": "stream",
     "text": [
      "Cell execution time: 0.975 seconds\n"
     ]
    }
   ],
   "source": [
    "df = pd.read_excel(\"../data/geomx_221_223.xlsx\",sheet_name=\"SegmentProperties\")\n",
    "df = df.loc[df[\"SlideName\"]==\"1 PTB-22.1\"]\n",
    "df = df[[\"ROILabel\",\"ROICoordinateX\",\"ROICoordinateY\",\"AOISurfaceArea\"]]"
   ]
  },
  {
   "cell_type": "code",
   "execution_count": 4,
   "id": "926f0590-d14e-4fce-81bd-5f85345cf0d3",
   "metadata": {},
   "outputs": [
    {
     "name": "stdout",
     "output_type": "stream",
     "text": [
      "Cell execution time: 0.280 seconds\n"
     ]
    }
   ],
   "source": [
    "mat = io.imread(\"../img/1 PTB-22.1.tiff\")"
   ]
  },
  {
   "cell_type": "code",
   "execution_count": 5,
   "id": "2c49b9ef-9126-4b77-a813-67e3c67d9dab",
   "metadata": {},
   "outputs": [
    {
     "name": "stdout",
     "output_type": "stream",
     "text": [
      "Cell execution time: 0.000 seconds\n"
     ]
    }
   ],
   "source": [
    "# adjustments between metadata coordinates and approximate annotation coordinates \n",
    "x_221_sf = (11008-10172)/(42949.5-39599)\n",
    "y_221_sf = (3569-1523)/(19294.5-11100)\n",
    "x_221_cnst = 10172-39599*x_221_sf\n",
    "y_221_cnst = 1523-11100*y_221_sf"
   ]
  },
  {
   "cell_type": "code",
   "execution_count": 6,
   "id": "4f311332-5d46-4fa0-a482-ef76cb7dae3c",
   "metadata": {},
   "outputs": [
    {
     "name": "stdout",
     "output_type": "stream",
     "text": [
      "Cell execution time: 0.002 seconds\n"
     ]
    }
   ],
   "source": [
    "comp = glob(\"../composite/PTB221*\")\n",
    "comp = {int(x.split(\"_\")[-1].split(\".png\")[0]):x for x in comp}"
   ]
  },
  {
   "cell_type": "code",
   "execution_count": 7,
   "id": "7c688062-56f4-4bcb-9fa7-cccb6f6f8580",
   "metadata": {},
   "outputs": [
    {
     "data": {
      "text/plain": [
       "<Figure size 640x480 with 0 Axes>"
      ]
     },
     "metadata": {},
     "output_type": "display_data"
    },
    {
     "name": "stdout",
     "output_type": "stream",
     "text": [
      "Cell execution time: 227.917 seconds\n"
     ]
    }
   ],
   "source": [
    "xw =128\n",
    "\n",
    "for spot in df.iterrows():\n",
    "    y,x=spot[1][[\"ROICoordinateX\",\"ROICoordinateY\"]]\n",
    "    roi=spot[1][[\"ROILabel\"]].astype(int).values[0]\n",
    "    x=np.round((x*x_221_sf)+x_221_cnst).astype(int)\n",
    "    y=np.round((y*y_221_sf)+y_221_cnst).astype(int)\n",
    "    xw =128\n",
    "    \n",
    "    img_bb = mat[(x-xw):(x+xw),(y-xw):(y+xw)]\n",
    "\n",
    "    # bounding box is white \n",
    "    white_mask = (img_bb == [255,255,255,255]).all(-1)\n",
    "    white_pixels = np.where(white_mask)\n",
    "    \n",
    "    # find the closest point to this middle \n",
    "    starting_point = np.argmin(np.abs(np.array(white_pixels).T-np.array([img_bb.shape[1]/2,img_bb.shape[0]/2])).sum(1))\n",
    "    # this middle point is then used as the basis for flooding the mask layer \n",
    "    mid_point = (white_pixels[1][starting_point],white_pixels[0][starting_point])\n",
    "\n",
    "    dilation_iter = 1\n",
    "\n",
    "    # 19 and 20 are in contact, so we cannot flood their outlines \n",
    "    if roi in [19,20]:\n",
    "        flood_mask = white_mask.astype(np.uint8).copy()\n",
    "        _, flood_mask, _, _ = cv2.floodFill(flood_mask, None, (int(img_bb.shape[1]/2),int(img_bb.shape[0]/2)), 2)\n",
    "        interior_mask = (flood_mask == 2)\n",
    "        dilation_iter = 3\n",
    "    else:\n",
    "        flood_mask = ~white_mask.astype(np.uint8).copy()\n",
    "        _, flood_mask, _, _ = cv2.floodFill(flood_mask, None, mid_point, 2)\n",
    "        interior_mask = (flood_mask == 2)\n",
    "    \n",
    "    image = (~(binary_dilation(interior_mask, structure=np.ones((3,3)), iterations = dilation_iter) & white_mask)).astype(np.uint8)*255\n",
    "    target_image = cv2.imread(comp[roi], cv2.IMREAD_UNCHANGED) \n",
    "\n",
    "    smooth_image = ndimage.gaussian_filter(image, sigma=3)\n",
    "    resized_smooth_image = cv2.resize(smooth_image, (target_image.shape[1], target_image.shape[0]))\n",
    "    mask = ~(resized_smooth_image>200)\n",
    "\n",
    "    # mask has two colors, empty and white mask with low alpha \n",
    "    colors = [(0, 0, 0, 0), (1, 1, 1, 0.25)] \n",
    "    cmap = mcolors.LinearSegmentedColormap.from_list('my_cmap', colors, N=2)\n",
    "    \n",
    "    gaus_mask = ndimage.gaussian_filter(mask, sigma=3)\n",
    "    dilate_mask = cv2.dilate(gaus_mask.astype(np.uint8), None, iterations=3)\n",
    "    final_mask = cv2.erode(dilate_mask.astype(np.uint8), None, iterations=9)\n",
    "    \n",
    "    np.save(\"../bb_mask/\"+\"PTB221_\"+(str(roi))+\".npy\",final_mask)\n",
    "\n",
    "    # bounding box + composite \n",
    "    fig,ax=plt.subplots(figsize=(16,16))\n",
    "    plt.imshow(cv2.cvtColor(target_image, cv2.COLOR_BGRA2RGBA))\n",
    "    plt.imshow(final_mask,cmap=cmap)\n",
    "    plt.axis(\"off\")\n",
    "    plt.savefig(\"../bb_comp/\"+\"PTB221_\"+(str(roi)),dpi=400,bbox_inches='tight', pad_inches=0)\n",
    "    plt.close(fig)\n",
    "    plt.clf()\n",
    "\n",
    "    # original annotation bounding box\n",
    "    fig,ax=plt.subplots(figsize=(16,16))\n",
    "    plt.imshow(img_bb)\n",
    "    plt.axis(\"off\")\n",
    "    plt.savefig(\"../bb_annot/\"+\"PTB221_\"+(str(roi)),dpi=400,bbox_inches='tight', pad_inches=0)\n",
    "    plt.close(fig)\n",
    "    plt.clf()\n",
    "\n",
    "    # cut out of composite within bounding box \n",
    "    filled_mask = ndi.binary_fill_holes(final_mask)\n",
    "    masked_image = np.zeros_like(target_image,)\n",
    "    masked_image[filled_mask == 1] = target_image[filled_mask == 1]\n",
    "\n",
    "    fig,ax=plt.subplots(figsize=(16,16))\n",
    "    plt.imshow(cv2.cvtColor(masked_image, cv2.COLOR_BGRA2RGBA))\n",
    "    plt.axis(\"off\")\n",
    "    plt.savefig(\"../bb_comp_mask/\"+\"PTB221_\"+(str(roi)),dpi=400,bbox_inches='tight', pad_inches=0)\n",
    "    plt.close(fig)\n",
    "    plt.clf()"
   ]
  },
  {
   "cell_type": "code",
   "execution_count": 8,
   "id": "c135e337-b3ca-4b3f-98ce-550c9059e404",
   "metadata": {},
   "outputs": [
    {
     "name": "stdout",
     "output_type": "stream",
     "text": [
      "Cell execution time: 1.365 seconds\n"
     ]
    }
   ],
   "source": [
    "df = pd.read_excel(\"../data/geomx_221_223.xlsx\",sheet_name=\"SegmentProperties\")\n",
    "df = df.loc[df[\"SlideName\"]==\"2 PTB-22.3\"]\n",
    "df = df[[\"ROILabel\",\"ROICoordinateX\",\"ROICoordinateY\",\"AOISurfaceArea\"]]"
   ]
  },
  {
   "cell_type": "code",
   "execution_count": 9,
   "id": "3ee6aefa-5ed3-44b4-a5f2-7fa4cdc1709f",
   "metadata": {},
   "outputs": [
    {
     "name": "stdout",
     "output_type": "stream",
     "text": [
      "Cell execution time: 0.265 seconds\n"
     ]
    }
   ],
   "source": [
    "mat = io.imread(\"../img/2 PTB-22.3-2.tiff\")"
   ]
  },
  {
   "cell_type": "code",
   "execution_count": 10,
   "id": "dc37a69e-cb82-457d-852b-fcd397a1cf59",
   "metadata": {},
   "outputs": [
    {
     "name": "stdout",
     "output_type": "stream",
     "text": [
      "Cell execution time: 0.000 seconds\n"
     ]
    }
   ],
   "source": [
    "# adjustments between metadata coordinates and approximate annotation coordinates \n",
    "x_223_sf = (4318-6234)/(16205.8-23872)\n",
    "y_223_sf = (3344-5892)/(18429.5-28631)\n",
    "x_223_cnst = 4318-16205.8*x_223_sf\n",
    "y_223_cnst = 3344-18429.5*y_223_sf"
   ]
  },
  {
   "cell_type": "code",
   "execution_count": 11,
   "id": "3473ae0e-56ef-4448-a81b-c9bd1a994a2d",
   "metadata": {},
   "outputs": [
    {
     "name": "stdout",
     "output_type": "stream",
     "text": [
      "Cell execution time: 0.001 seconds\n"
     ]
    }
   ],
   "source": [
    "comp = glob(\"../composite/PTB223*\")\n",
    "comp = {int(x.split(\"_\")[-1].split(\".png\")[0]):x for x in comp}"
   ]
  },
  {
   "cell_type": "code",
   "execution_count": 12,
   "id": "b858a6cc-2574-4621-bb2f-d6bfe337475f",
   "metadata": {},
   "outputs": [
    {
     "data": {
      "text/plain": [
       "<Figure size 640x480 with 0 Axes>"
      ]
     },
     "metadata": {},
     "output_type": "display_data"
    },
    {
     "name": "stdout",
     "output_type": "stream",
     "text": [
      "Cell execution time: 131.071 seconds\n"
     ]
    }
   ],
   "source": [
    "for spot in df.iterrows():\n",
    "    y,x=spot[1][[\"ROICoordinateX\",\"ROICoordinateY\"]]\n",
    "    roi=spot[1][[\"ROILabel\"]].astype(int).values[0]\n",
    "    x=np.round((x*x_223_sf)+x_223_cnst).astype(int)\n",
    "    y=np.round((y*y_223_sf)+y_223_cnst).astype(int)\n",
    "    xw =128\n",
    "    \n",
    "    img_bb = mat[(x-xw):(x+xw),(y-xw):(y+xw)]\n",
    "\n",
    "    white_mask = (img_bb == [255,255,255,255]).all(-1)\n",
    "    white_pixels = np.where(white_mask)\n",
    "\n",
    "    # 8 has an origin lower than its middle where a separate box is defaulted, hence we change the starting point\n",
    "    if roi in [8]:\n",
    "        starting_point = np.argmin(np.abs(np.array(white_pixels).T-np.array([img_bb.shape[1]/2,img_bb.shape[0]])).sum(1))\n",
    "    else:\n",
    "        starting_point = np.argmin(np.abs(np.array(white_pixels).T-np.array([img_bb.shape[1]/2,img_bb.shape[0]/2])).sum(1))\n",
    "\n",
    "    mid_point = (white_pixels[1][starting_point],white_pixels[0][starting_point])\n",
    "\n",
    "    # we want to flood the outline \n",
    "    flood_mask = ~white_mask.astype(np.uint8).copy()\n",
    "    _, flood_mask, _, _ = cv2.floodFill(flood_mask, None, mid_point, 2)\n",
    "    interior_mask = (flood_mask == 2)\n",
    "\n",
    "    image = (~(binary_dilation(interior_mask, structure=np.ones((3,3)), iterations = 1) & white_mask)).astype(np.uint8)*255\n",
    "    target_image = cv2.imread(comp[roi], cv2.IMREAD_UNCHANGED) \n",
    "\n",
    "    smooth_image = ndimage.gaussian_filter(image, sigma=3)\n",
    "    resized_smooth_image = cv2.resize(smooth_image, (target_image.shape[1], target_image.shape[0]))\n",
    "    mask = ~(resized_smooth_image>200)\n",
    "\n",
    "    # mask has two colors, empty and white mask with low alpha \n",
    "    colors = [(0, 0, 0, 0), (1, 1, 1, 0.25)] \n",
    "    cmap = mcolors.LinearSegmentedColormap.from_list('my_cmap', colors, N=2)\n",
    "    \n",
    "    gaus_mask = ndimage.gaussian_filter(mask, sigma=3)\n",
    "    dilate_mask = cv2.dilate(gaus_mask.astype(np.uint8), None, iterations=3)\n",
    "    final_mask = cv2.erode(dilate_mask.astype(np.uint8), None, iterations=9)\n",
    "    \n",
    "    np.save(\"../bb_mask/\"+\"PTB223_\"+(str(roi))+\".npy\",final_mask)\n",
    "\n",
    "    # bounding box + composite \n",
    "    fig,ax=plt.subplots(figsize=(16,16))\n",
    "    plt.imshow(cv2.cvtColor(target_image, cv2.COLOR_BGRA2RGBA))\n",
    "    plt.imshow(final_mask,cmap=cmap)\n",
    "    plt.axis(\"off\")\n",
    "    plt.savefig(\"../bb_comp/\"+\"PTB223_\"+(str(roi)),dpi=400,bbox_inches='tight', pad_inches=0)\n",
    "    plt.close(fig)\n",
    "    plt.clf()\n",
    "\n",
    "    # original annotation bounding box\n",
    "    fig,ax=plt.subplots(figsize=(16,16))\n",
    "    plt.imshow(img_bb)\n",
    "    plt.axis(\"off\")\n",
    "    plt.savefig(\"../bb_annot/\"+\"PTB223_\"+(str(roi)),dpi=400,bbox_inches='tight', pad_inches=0)\n",
    "    plt.close(fig)\n",
    "    plt.clf()\n",
    "\n",
    "    # cut out of composite within bounding box \n",
    "    filled_mask = ndi.binary_fill_holes(final_mask)\n",
    "    masked_image = np.zeros_like(target_image,)\n",
    "    masked_image[filled_mask == 1] = target_image[filled_mask == 1]\n",
    "    \n",
    "    fig,ax=plt.subplots(figsize=(16,16))\n",
    "    plt.imshow(cv2.cvtColor(masked_image, cv2.COLOR_BGRA2RGBA))\n",
    "    plt.axis(\"off\")\n",
    "    plt.savefig(\"../bb_comp_mask/\"+\"PTB223_\"+(str(roi)),dpi=400,bbox_inches='tight', pad_inches=0)\n",
    "    plt.close(fig)\n",
    "    plt.clf()"
   ]
  },
  {
   "cell_type": "code",
   "execution_count": 13,
   "id": "afaa11d6-b4d4-428a-b0be-ba37dbd7f10a",
   "metadata": {},
   "outputs": [
    {
     "name": "stdout",
     "output_type": "stream",
     "text": [
      "Cell execution time: 1.112 seconds\n"
     ]
    },
    {
     "name": "stderr",
     "output_type": "stream",
     "text": [
      "/Users/jperrie/miniconda3/envs/scvi/lib/python3.11/site-packages/openpyxl/styles/stylesheet.py:226: UserWarning: Workbook contains no default style, apply openpyxl's default\n",
      "  warn(\"Workbook contains no default style, apply openpyxl's default\")\n"
     ]
    }
   ],
   "source": [
    "# PTB 22.2 already has high quality individual bounding boxes per spot \n",
    "df = pd.read_excel(\"../data/geomx_222.xlsx\",sheet_name=\"SegmentProperties\")\n",
    "df = df.loc[df[\"SlideName\"]==\"PTB22.2\"]\n",
    "df = df[[\"ROILabel\",\"ROICoordinateX\",\"ROICoordinateY\",\"AOISurfaceArea\"]]"
   ]
  },
  {
   "cell_type": "code",
   "execution_count": 14,
   "id": "b761e3f7-306e-4b92-bd31-4f69c3377c4f",
   "metadata": {},
   "outputs": [
    {
     "name": "stdout",
     "output_type": "stream",
     "text": [
      "Cell execution time: 0.001 seconds\n"
     ]
    }
   ],
   "source": [
    "comp = glob(\"../composite/PTB222*\")\n",
    "comp = {int(x.split(\"_\")[-1].split(\".png\")[0]):x for x in comp}"
   ]
  },
  {
   "cell_type": "code",
   "execution_count": 15,
   "id": "fe8111d8-8f0f-4b53-9e0d-bae479d222c5",
   "metadata": {},
   "outputs": [
    {
     "data": {
      "text/plain": [
       "<Figure size 640x480 with 0 Axes>"
      ]
     },
     "metadata": {},
     "output_type": "display_data"
    },
    {
     "name": "stdout",
     "output_type": "stream",
     "text": [
      "Cell execution time: 198.126 seconds\n"
     ]
    }
   ],
   "source": [
    "for spot in df.iterrows():\n",
    "\n",
    "    roi=spot[1][[\"ROILabel\"]].astype(int).values[0]\n",
    "    img_bb = io.imread(\"../bb_annot/PTB222_\"+str(roi)+\".png\")\n",
    "    img_bb = img_bb[:img_bb.shape[1],:img_bb.shape[1]]\n",
    "    pad = 0\n",
    "    img_bb = img_bb[pad:img_bb.shape[1]-pad,pad:img_bb.shape[0]-pad]\n",
    "\n",
    "    white_mask = (img_bb == [255,255,255,255]).all(-1)\n",
    "    white_pixels = np.where(white_mask)\n",
    "    \n",
    "    starting_point = np.argmin(np.abs(np.array(white_pixels).T-np.array([img_bb.shape[1]/2,img_bb.shape[0]/2])).sum(1))\n",
    "    mid_point = (white_pixels[1][starting_point],white_pixels[0][starting_point])\n",
    "\n",
    "    # we want to flood the outline \n",
    "    flood_mask = ~white_mask.astype(np.uint8).copy()\n",
    "    _, flood_mask, _, _ = cv2.floodFill(flood_mask, None, mid_point, 2)\n",
    "    interior_mask = (flood_mask == 2)\n",
    "\n",
    "    image = (~(binary_dilation(interior_mask, structure=np.ones((3,3)), iterations = 9) & white_mask)).astype(np.uint8)*255\n",
    "    target_image = cv2.imread(comp[roi], cv2.IMREAD_UNCHANGED) \n",
    "\n",
    "    smooth_image = ndimage.gaussian_filter(image, sigma=3)\n",
    "    resized_smooth_image = cv2.resize(smooth_image, (target_image.shape[1], target_image.shape[0]))\n",
    "    mask = ~(resized_smooth_image>200)\n",
    "\n",
    "    # mask has two colors, empty and white mask with low alpha \n",
    "    colors = [(0, 0, 0, 0), (1, 1, 1, 0.25)] \n",
    "    cmap = mcolors.LinearSegmentedColormap.from_list('my_cmap', colors, N=2)\n",
    "\n",
    "    # more dilation because bounding box annotation is thin \n",
    "    # also reorder with dilation first \n",
    "    dilate_mask = cv2.dilate(mask.astype(np.uint8), None, iterations=15)\n",
    "    gaus_mask = ndimage.gaussian_filter(dilate_mask, sigma=1)\n",
    "    final_mask = cv2.erode(gaus_mask.astype(np.uint8), None, iterations=3)\n",
    "\n",
    "    np.save(\"../bb_mask/\"+\"PTB222_\"+(str(roi))+\".npy\",final_mask)\n",
    "\n",
    "    # bounding box + composite \n",
    "    fig,ax=plt.subplots(figsize=(16,16))\n",
    "    plt.imshow(cv2.cvtColor(target_image, cv2.COLOR_BGRA2RGBA))\n",
    "    plt.imshow(final_mask,cmap=cmap)\n",
    "    plt.axis(\"off\")\n",
    "    plt.savefig(\"../bb_comp/\"+\"PTB222_\"+(str(roi)),dpi=400,bbox_inches='tight', pad_inches=0)\n",
    "    plt.close(fig)\n",
    "    plt.clf()\n",
    "\n",
    "    # cut out of composite within bounding box \n",
    "    filled_mask = ndi.binary_fill_holes(final_mask)\n",
    "    masked_image = np.zeros_like(target_image,)\n",
    "    masked_image[filled_mask == 1] = target_image[filled_mask == 1]\n",
    "    \n",
    "    fig,ax=plt.subplots(figsize=(16,16))\n",
    "    plt.imshow(cv2.cvtColor(masked_image, cv2.COLOR_BGRA2RGBA))\n",
    "    plt.axis(\"off\")\n",
    "    plt.savefig(\"../bb_comp_mask/\"+\"PTB222_\"+(str(roi)),dpi=400,bbox_inches='tight', pad_inches=0)\n",
    "    plt.close(fig)\n",
    "    plt.clf()"
   ]
  },
  {
   "cell_type": "code",
   "execution_count": 16,
   "id": "16cbb39a-7593-4120-834f-04b7bc70bffe",
   "metadata": {},
   "outputs": [
    {
     "name": "stdout",
     "output_type": "stream",
     "text": [
      "Cell execution time: 0.868 seconds\n"
     ]
    }
   ],
   "source": [
    "# PTB 21.1 already has high quality individual bounding boxes per spot \n",
    "df = pd.read_excel(\"../data/geomx_211.xlsx\",sheet_name=\"SegmentProperties\")\n",
    "df = df.loc[df[\"SlideName\"]==\"B172914-2\"]\n",
    "df = df[[\"ROILabel\",\"ROICoordinateX\",\"ROICoordinateY\",\"AOISurfaceArea\"]]"
   ]
  },
  {
   "cell_type": "code",
   "execution_count": 17,
   "id": "802b0d06-ba88-4a48-8c06-9fc0c08d0bf0",
   "metadata": {},
   "outputs": [
    {
     "name": "stdout",
     "output_type": "stream",
     "text": [
      "Cell execution time: 0.001 seconds\n"
     ]
    }
   ],
   "source": [
    "comp = glob(\"../composite/PTB211*\")\n",
    "comp = {int(x.split(\"_\")[-1].split(\".png\")[0]):x for x in comp}"
   ]
  },
  {
   "cell_type": "code",
   "execution_count": 18,
   "id": "4391b6db-277e-4f6b-af57-754431d21cb9",
   "metadata": {},
   "outputs": [
    {
     "data": {
      "text/plain": [
       "<Figure size 640x480 with 0 Axes>"
      ]
     },
     "metadata": {},
     "output_type": "display_data"
    },
    {
     "name": "stdout",
     "output_type": "stream",
     "text": [
      "Cell execution time: 185.800 seconds\n"
     ]
    }
   ],
   "source": [
    "for spot in df.iterrows():\n",
    "    roi=spot[1][[\"ROILabel\"]].astype(int).values[0]\n",
    "    img_bb = io.imread(\"../bb_annot/PTB211_\"+str(roi)+\".png\")\n",
    "    img_bb = img_bb[:img_bb.shape[1],:img_bb.shape[1]]\n",
    "    pad = 0\n",
    "    img_bb = img_bb[pad:img_bb.shape[1]-pad,pad:img_bb.shape[0]-pad]\n",
    "\n",
    "    # find all white pixels using less strict check \n",
    "    condition1 = np.all(img_bb == [255, 255, 255, 255], axis=-1)\n",
    "    condition2 = np.all(img_bb == [254, 254, 254, 255], axis=-1)\n",
    "    condition3 = np.all(img_bb == [254, 255, 255, 255], axis=-1)\n",
    "    condition4 = np.all(img_bb == [255, 254, 255, 255], axis=-1)\n",
    "    condition5 = np.all(img_bb == [255, 255, 254, 255], axis=-1)\n",
    "    white_mask = np.logical_or(np.logical_or(np.logical_or(np.logical_or(condition1, condition2),condition3),condition4),condition5)\n",
    "\n",
    "    white_pixels = np.where(white_mask)\n",
    "    \n",
    "    starting_point = np.argmin(np.abs(np.array(white_pixels).T-np.array([img_bb.shape[1]/2,img_bb.shape[0]/2])).sum(1))\n",
    "    mid_point = (white_pixels[1][starting_point],white_pixels[0][starting_point])\n",
    "\n",
    "    # we want to flood the outline \n",
    "    flood_mask = ~white_mask.astype(np.uint8).copy()\n",
    "    _, flood_mask, _, _ = cv2.floodFill(flood_mask, None, mid_point, 2)\n",
    "    interior_mask = (flood_mask == 2)\n",
    "\n",
    "    image = (~(binary_dilation(interior_mask, structure=np.ones((3,3)), iterations = 9) & white_mask)).astype(np.uint8)*255\n",
    "    target_image = cv2.imread(comp[roi], cv2.IMREAD_UNCHANGED) \n",
    "\n",
    "    smooth_image = ndimage.gaussian_filter(image, sigma=3)\n",
    "    resized_smooth_image = cv2.resize(smooth_image, (target_image.shape[1], target_image.shape[0]))\n",
    "    mask = ~(resized_smooth_image>200)\n",
    "\n",
    "    # mask has two colors, empty and white mask with low alpha \n",
    "    colors = [(0, 0, 0, 0), (1, 1, 1, 0.25)] \n",
    "    cmap = mcolors.LinearSegmentedColormap.from_list('my_cmap', colors, N=2)\n",
    "\n",
    "    # more dilation because bounding box annotation is thin \n",
    "    # also reorder with dilation first \n",
    "    dilate_mask = cv2.dilate(mask.astype(np.uint8), None, iterations=15)\n",
    "    gaus_mask = ndimage.gaussian_filter(dilate_mask, sigma=1)\n",
    "    final_mask = cv2.erode(gaus_mask.astype(np.uint8), None, iterations=3)\n",
    "\n",
    "    np.save(\"../bb_mask/\"+\"PTB211_\"+(str(roi))+\".npy\",final_mask)\n",
    "\n",
    "    # bounding box + composite \n",
    "    fig,ax=plt.subplots(figsize=(16,16))\n",
    "    plt.imshow(cv2.cvtColor(target_image, cv2.COLOR_BGRA2RGBA))\n",
    "    plt.imshow(final_mask,cmap=cmap)\n",
    "    plt.axis(\"off\")\n",
    "    plt.savefig(\"../bb_comp/\"+\"PTB211_\"+(str(roi)),dpi=400,bbox_inches='tight', pad_inches=0)\n",
    "    plt.close(fig)\n",
    "    plt.clf()\n",
    "    \n",
    "    filled_mask = ndi.binary_fill_holes(final_mask)\n",
    "    masked_image = np.zeros_like(target_image,)\n",
    "    masked_image[filled_mask == 1] = target_image[filled_mask == 1]\n",
    "\n",
    "    # cut out of composite within bounding box \n",
    "    fig,ax=plt.subplots(figsize=(16,16))\n",
    "    plt.imshow(cv2.cvtColor(masked_image, cv2.COLOR_BGRA2RGBA))\n",
    "    plt.axis(\"off\")\n",
    "    plt.savefig(\"../bb_comp_mask/\"+\"PTB211_\"+(str(roi)),dpi=400,bbox_inches='tight', pad_inches=0)\n",
    "    plt.close(fig)\n",
    "    plt.clf()"
   ]
  },
  {
   "cell_type": "code",
   "execution_count": null,
   "id": "db8b0898-1ed4-4ca8-91e9-6423028ddcee",
   "metadata": {},
   "outputs": [],
   "source": []
  }
 ],
 "metadata": {
  "kernelspec": {
   "display_name": "scvi",
   "language": "python",
   "name": "scvi"
  },
  "language_info": {
   "codemirror_mode": {
    "name": "ipython",
    "version": 3
   },
   "file_extension": ".py",
   "mimetype": "text/x-python",
   "name": "python",
   "nbconvert_exporter": "python",
   "pygments_lexer": "ipython3",
   "version": "3.11.11"
  }
 },
 "nbformat": 4,
 "nbformat_minor": 5
}
